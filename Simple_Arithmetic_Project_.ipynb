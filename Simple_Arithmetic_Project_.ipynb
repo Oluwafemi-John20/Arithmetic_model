{
 "cells": [
  {
   "cell_type": "markdown",
   "metadata": {},
   "source": [
    "# Simple Arithmetic Project\n",
    "**Objective:** This project is aimed at training a model that will perform simple arithmetic operations.\n",
    "\n",
    "\n",
    "**Evaluation:** The model should get a r2_score of 0.85 and have a mean absolute error of less than 10."
   ]
  },
  {
   "cell_type": "markdown",
   "metadata": {},
   "source": [
    "## Importing libraries "
   ]
  },
  {
   "cell_type": "code",
   "execution_count": 1,
   "metadata": {},
   "outputs": [],
   "source": [
    "%matplotlib inline\n",
    "import pandas as pd\n",
    "import matplotlib.pyplot as plt\n",
    "import numpy as np\n",
    "import seaborn as sns"
   ]
  },
  {
   "cell_type": "markdown",
   "metadata": {},
   "source": [
    "## Importing data and performing Exploratory Data Analysis"
   ]
  },
  {
   "cell_type": "code",
   "execution_count": 2,
   "metadata": {},
   "outputs": [
    {
     "data": {
      "text/html": [
       "<div>\n",
       "<style scoped>\n",
       "    .dataframe tbody tr th:only-of-type {\n",
       "        vertical-align: middle;\n",
       "    }\n",
       "\n",
       "    .dataframe tbody tr th {\n",
       "        vertical-align: top;\n",
       "    }\n",
       "\n",
       "    .dataframe thead th {\n",
       "        text-align: right;\n",
       "    }\n",
       "</style>\n",
       "<table border=\"1\" class=\"dataframe\">\n",
       "  <thead>\n",
       "    <tr style=\"text-align: right;\">\n",
       "      <th></th>\n",
       "      <th>First_figure</th>\n",
       "      <th>Operator</th>\n",
       "      <th>Second_figure</th>\n",
       "      <th>Result</th>\n",
       "    </tr>\n",
       "  </thead>\n",
       "  <tbody>\n",
       "    <tr>\n",
       "      <th>0</th>\n",
       "      <td>20</td>\n",
       "      <td>+</td>\n",
       "      <td>8</td>\n",
       "      <td>28.000000</td>\n",
       "    </tr>\n",
       "    <tr>\n",
       "      <th>1</th>\n",
       "      <td>10</td>\n",
       "      <td>/</td>\n",
       "      <td>12</td>\n",
       "      <td>0.833333</td>\n",
       "    </tr>\n",
       "    <tr>\n",
       "      <th>2</th>\n",
       "      <td>20</td>\n",
       "      <td>+</td>\n",
       "      <td>10</td>\n",
       "      <td>30.000000</td>\n",
       "    </tr>\n",
       "    <tr>\n",
       "      <th>3</th>\n",
       "      <td>6</td>\n",
       "      <td>+</td>\n",
       "      <td>17</td>\n",
       "      <td>23.000000</td>\n",
       "    </tr>\n",
       "    <tr>\n",
       "      <th>4</th>\n",
       "      <td>17</td>\n",
       "      <td>-</td>\n",
       "      <td>14</td>\n",
       "      <td>3.000000</td>\n",
       "    </tr>\n",
       "  </tbody>\n",
       "</table>\n",
       "</div>"
      ],
      "text/plain": [
       "   First_figure Operator  Second_figure     Result\n",
       "0            20        +              8  28.000000\n",
       "1            10        /             12   0.833333\n",
       "2            20        +             10  30.000000\n",
       "3             6        +             17  23.000000\n",
       "4            17        -             14   3.000000"
      ]
     },
     "execution_count": 2,
     "metadata": {},
     "output_type": "execute_result"
    }
   ],
   "source": [
    "data = pd.read_csv(\"./data/Larger_dataset.csv\")\n",
    "data.head()"
   ]
  },
  {
   "cell_type": "code",
   "execution_count": 3,
   "metadata": {},
   "outputs": [
    {
     "name": "stdout",
     "output_type": "stream",
     "text": [
      "<class 'pandas.core.frame.DataFrame'>\n",
      "RangeIndex: 800 entries, 0 to 799\n",
      "Data columns (total 4 columns):\n",
      " #   Column         Non-Null Count  Dtype  \n",
      "---  ------         --------------  -----  \n",
      " 0   First_figure   800 non-null    int64  \n",
      " 1   Operator       800 non-null    object \n",
      " 2   Second_figure  800 non-null    int64  \n",
      " 3   Result         800 non-null    float64\n",
      "dtypes: float64(1), int64(2), object(1)\n",
      "memory usage: 25.1+ KB\n"
     ]
    }
   ],
   "source": [
    "data.info()"
   ]
  },
  {
   "cell_type": "code",
   "execution_count": 4,
   "metadata": {},
   "outputs": [
    {
     "data": {
      "text/plain": [
       "128"
      ]
     },
     "execution_count": 4,
     "metadata": {},
     "output_type": "execute_result"
    }
   ],
   "source": [
    "data.duplicated().sum()"
   ]
  },
  {
   "cell_type": "code",
   "execution_count": 5,
   "metadata": {},
   "outputs": [
    {
     "data": {
      "text/plain": [
       "672"
      ]
     },
     "execution_count": 5,
     "metadata": {},
     "output_type": "execute_result"
    }
   ],
   "source": [
    "data.drop_duplicates(inplace=True)\n",
    "len(data)"
   ]
  },
  {
   "cell_type": "code",
   "execution_count": 6,
   "metadata": {},
   "outputs": [
    {
     "data": {
      "text/plain": [
       "+    175\n",
       "-    174\n",
       "*    163\n",
       "/    160\n",
       "Name: Operator, dtype: int64"
      ]
     },
     "execution_count": 6,
     "metadata": {},
     "output_type": "execute_result"
    }
   ],
   "source": [
    "data.Operator.value_counts()"
   ]
  },
  {
   "cell_type": "code",
   "execution_count": 10,
   "metadata": {},
   "outputs": [],
   "source": [
    "for label, content in data.items():\n",
    "    if pd.api.types.is_string_dtype(content):\n",
    "        data[label] = content.astype(\"category\").cat.as_ordered()\n",
    "        data[label] = pd.Categorical(content).codes + 1"
   ]
  },
  {
   "cell_type": "code",
   "execution_count": 11,
   "metadata": {},
   "outputs": [
    {
     "data": {
      "text/html": [
       "<div>\n",
       "<style scoped>\n",
       "    .dataframe tbody tr th:only-of-type {\n",
       "        vertical-align: middle;\n",
       "    }\n",
       "\n",
       "    .dataframe tbody tr th {\n",
       "        vertical-align: top;\n",
       "    }\n",
       "\n",
       "    .dataframe thead th {\n",
       "        text-align: right;\n",
       "    }\n",
       "</style>\n",
       "<table border=\"1\" class=\"dataframe\">\n",
       "  <thead>\n",
       "    <tr style=\"text-align: right;\">\n",
       "      <th></th>\n",
       "      <th>First_figure</th>\n",
       "      <th>Operator</th>\n",
       "      <th>Second_figure</th>\n",
       "      <th>Result</th>\n",
       "    </tr>\n",
       "  </thead>\n",
       "  <tbody>\n",
       "    <tr>\n",
       "      <th>0</th>\n",
       "      <td>20</td>\n",
       "      <td>2</td>\n",
       "      <td>8</td>\n",
       "      <td>28.000000</td>\n",
       "    </tr>\n",
       "    <tr>\n",
       "      <th>1</th>\n",
       "      <td>10</td>\n",
       "      <td>4</td>\n",
       "      <td>12</td>\n",
       "      <td>0.833333</td>\n",
       "    </tr>\n",
       "    <tr>\n",
       "      <th>2</th>\n",
       "      <td>20</td>\n",
       "      <td>2</td>\n",
       "      <td>10</td>\n",
       "      <td>30.000000</td>\n",
       "    </tr>\n",
       "    <tr>\n",
       "      <th>3</th>\n",
       "      <td>6</td>\n",
       "      <td>2</td>\n",
       "      <td>17</td>\n",
       "      <td>23.000000</td>\n",
       "    </tr>\n",
       "    <tr>\n",
       "      <th>4</th>\n",
       "      <td>17</td>\n",
       "      <td>3</td>\n",
       "      <td>14</td>\n",
       "      <td>3.000000</td>\n",
       "    </tr>\n",
       "  </tbody>\n",
       "</table>\n",
       "</div>"
      ],
      "text/plain": [
       "   First_figure  Operator  Second_figure     Result\n",
       "0            20         2              8  28.000000\n",
       "1            10         4             12   0.833333\n",
       "2            20         2             10  30.000000\n",
       "3             6         2             17  23.000000\n",
       "4            17         3             14   3.000000"
      ]
     },
     "execution_count": 11,
     "metadata": {},
     "output_type": "execute_result"
    }
   ],
   "source": [
    "data.head()"
   ]
  },
  {
   "cell_type": "code",
   "execution_count": 12,
   "metadata": {},
   "outputs": [],
   "source": [
    "from sklearn.ensemble import RandomForestRegressor\n",
    "from sklearn.model_selection import train_test_split, GridSearchCV\n",
    "from sklearn.metrics import r2_score, mean_absolute_error, mean_squared_error"
   ]
  },
  {
   "cell_type": "code",
   "execution_count": 27,
   "metadata": {},
   "outputs": [],
   "source": [
    "np.random.seed(42)\n",
    "X = data.drop(\"Result\", axis=1)\n",
    "y = data.Result\n",
    "X_train, X_test, y_train, y_test = train_test_split(X,\n",
    "                                                   y,\n",
    "                                                   test_size=0.2)\n",
    "\n",
    "model = RandomForestRegressor().fit(X_train, y_train)\n"
   ]
  },
  {
   "cell_type": "code",
   "execution_count": 28,
   "metadata": {},
   "outputs": [
    {
     "data": {
      "text/plain": [
       "0.9986969573507096"
      ]
     },
     "execution_count": 28,
     "metadata": {},
     "output_type": "execute_result"
    }
   ],
   "source": [
    "model.score(X_train, y_train)"
   ]
  },
  {
   "cell_type": "code",
   "execution_count": 29,
   "metadata": {},
   "outputs": [
    {
     "data": {
      "text/plain": [
       "0.9956514649002176"
      ]
     },
     "execution_count": 29,
     "metadata": {},
     "output_type": "execute_result"
    }
   ],
   "source": [
    "model.score(X_test, y_test)"
   ]
  },
  {
   "cell_type": "code",
   "execution_count": 16,
   "metadata": {},
   "outputs": [],
   "source": [
    "y_preds = model.predict(X_test)"
   ]
  },
  {
   "cell_type": "code",
   "execution_count": 18,
   "metadata": {},
   "outputs": [
    {
     "data": {
      "text/plain": [
       "3.070022558494264"
      ]
     },
     "execution_count": 18,
     "metadata": {},
     "output_type": "execute_result"
    }
   ],
   "source": [
    "mae = mean_absolute_error(y_test, y_preds)\n",
    "mae"
   ]
  },
  {
   "cell_type": "code",
   "execution_count": 19,
   "metadata": {},
   "outputs": [
    {
     "data": {
      "text/plain": [
       "0.9947260646275384"
      ]
     },
     "execution_count": 19,
     "metadata": {},
     "output_type": "execute_result"
    }
   ],
   "source": [
    "r2_score(y_test, y_preds)"
   ]
  },
  {
   "cell_type": "code",
   "execution_count": 21,
   "metadata": {},
   "outputs": [
    {
     "name": "stdout",
     "output_type": "stream",
     "text": [
      "Fitting 5 folds for each of 72 candidates, totalling 360 fits\n",
      "[CV] max_depth=None, max_features=auto, min_samples_leaf=1, n_estimators=10, n_jobs=None \n",
      "[CV]  max_depth=None, max_features=auto, min_samples_leaf=1, n_estimators=10, n_jobs=None, total=   0.1s\n",
      "[CV] max_depth=None, max_features=auto, min_samples_leaf=1, n_estimators=10, n_jobs=None \n",
      "[CV]  max_depth=None, max_features=auto, min_samples_leaf=1, n_estimators=10, n_jobs=None, total=   0.0s\n",
      "[CV] max_depth=None, max_features=auto, min_samples_leaf=1, n_estimators=10, n_jobs=None \n",
      "[CV]  max_depth=None, max_features=auto, min_samples_leaf=1, n_estimators=10, n_jobs=None, total=   0.0s\n",
      "[CV] max_depth=None, max_features=auto, min_samples_leaf=1, n_estimators=10, n_jobs=None \n",
      "[CV]  max_depth=None, max_features=auto, min_samples_leaf=1, n_estimators=10, n_jobs=None, total=   0.0s"
     ]
    },
    {
     "name": "stderr",
     "output_type": "stream",
     "text": [
      "[Parallel(n_jobs=1)]: Using backend SequentialBackend with 1 concurrent workers.\n",
      "[Parallel(n_jobs=1)]: Done   1 out of   1 | elapsed:    0.0s remaining:    0.0s\n"
     ]
    },
    {
     "name": "stdout",
     "output_type": "stream",
     "text": [
      "\n",
      "[CV] max_depth=None, max_features=auto, min_samples_leaf=1, n_estimators=10, n_jobs=None \n",
      "[CV]  max_depth=None, max_features=auto, min_samples_leaf=1, n_estimators=10, n_jobs=None, total=   0.0s\n",
      "[CV] max_depth=None, max_features=auto, min_samples_leaf=1, n_estimators=10, n_jobs=-1 \n",
      "[CV]  max_depth=None, max_features=auto, min_samples_leaf=1, n_estimators=10, n_jobs=-1, total=   2.2s\n",
      "[CV] max_depth=None, max_features=auto, min_samples_leaf=1, n_estimators=10, n_jobs=-1 \n",
      "[CV]  max_depth=None, max_features=auto, min_samples_leaf=1, n_estimators=10, n_jobs=-1, total=   0.2s\n",
      "[CV] max_depth=None, max_features=auto, min_samples_leaf=1, n_estimators=10, n_jobs=-1 \n",
      "[CV]  max_depth=None, max_features=auto, min_samples_leaf=1, n_estimators=10, n_jobs=-1, total=   0.2s\n",
      "[CV] max_depth=None, max_features=auto, min_samples_leaf=1, n_estimators=10, n_jobs=-1 \n",
      "[CV]  max_depth=None, max_features=auto, min_samples_leaf=1, n_estimators=10, n_jobs=-1, total=   0.2s\n",
      "[CV] max_depth=None, max_features=auto, min_samples_leaf=1, n_estimators=10, n_jobs=-1 \n",
      "[CV]  max_depth=None, max_features=auto, min_samples_leaf=1, n_estimators=10, n_jobs=-1, total=   0.2s\n",
      "[CV] max_depth=None, max_features=auto, min_samples_leaf=1, n_estimators=100, n_jobs=None \n",
      "[CV]  max_depth=None, max_features=auto, min_samples_leaf=1, n_estimators=100, n_jobs=None, total=   0.4s\n",
      "[CV] max_depth=None, max_features=auto, min_samples_leaf=1, n_estimators=100, n_jobs=None \n",
      "[CV]  max_depth=None, max_features=auto, min_samples_leaf=1, n_estimators=100, n_jobs=None, total=   0.4s\n",
      "[CV] max_depth=None, max_features=auto, min_samples_leaf=1, n_estimators=100, n_jobs=None \n",
      "[CV]  max_depth=None, max_features=auto, min_samples_leaf=1, n_estimators=100, n_jobs=None, total=   0.4s\n",
      "[CV] max_depth=None, max_features=auto, min_samples_leaf=1, n_estimators=100, n_jobs=None \n",
      "[CV]  max_depth=None, max_features=auto, min_samples_leaf=1, n_estimators=100, n_jobs=None, total=   0.4s\n",
      "[CV] max_depth=None, max_features=auto, min_samples_leaf=1, n_estimators=100, n_jobs=None \n",
      "[CV]  max_depth=None, max_features=auto, min_samples_leaf=1, n_estimators=100, n_jobs=None, total=   0.4s\n",
      "[CV] max_depth=None, max_features=auto, min_samples_leaf=1, n_estimators=100, n_jobs=-1 \n",
      "[CV]  max_depth=None, max_features=auto, min_samples_leaf=1, n_estimators=100, n_jobs=-1, total=   0.5s\n",
      "[CV] max_depth=None, max_features=auto, min_samples_leaf=1, n_estimators=100, n_jobs=-1 \n",
      "[CV]  max_depth=None, max_features=auto, min_samples_leaf=1, n_estimators=100, n_jobs=-1, total=   0.5s\n",
      "[CV] max_depth=None, max_features=auto, min_samples_leaf=1, n_estimators=100, n_jobs=-1 \n",
      "[CV]  max_depth=None, max_features=auto, min_samples_leaf=1, n_estimators=100, n_jobs=-1, total=   0.7s\n",
      "[CV] max_depth=None, max_features=auto, min_samples_leaf=1, n_estimators=100, n_jobs=-1 \n",
      "[CV]  max_depth=None, max_features=auto, min_samples_leaf=1, n_estimators=100, n_jobs=-1, total=   0.5s\n",
      "[CV] max_depth=None, max_features=auto, min_samples_leaf=1, n_estimators=100, n_jobs=-1 \n",
      "[CV]  max_depth=None, max_features=auto, min_samples_leaf=1, n_estimators=100, n_jobs=-1, total=   0.5s\n",
      "[CV] max_depth=None, max_features=auto, min_samples_leaf=1, n_estimators=1000, n_jobs=None \n",
      "[CV]  max_depth=None, max_features=auto, min_samples_leaf=1, n_estimators=1000, n_jobs=None, total=   3.6s\n",
      "[CV] max_depth=None, max_features=auto, min_samples_leaf=1, n_estimators=1000, n_jobs=None \n",
      "[CV]  max_depth=None, max_features=auto, min_samples_leaf=1, n_estimators=1000, n_jobs=None, total=   3.5s\n",
      "[CV] max_depth=None, max_features=auto, min_samples_leaf=1, n_estimators=1000, n_jobs=None \n",
      "[CV]  max_depth=None, max_features=auto, min_samples_leaf=1, n_estimators=1000, n_jobs=None, total=   3.6s\n",
      "[CV] max_depth=None, max_features=auto, min_samples_leaf=1, n_estimators=1000, n_jobs=None \n",
      "[CV]  max_depth=None, max_features=auto, min_samples_leaf=1, n_estimators=1000, n_jobs=None, total=   3.5s\n",
      "[CV] max_depth=None, max_features=auto, min_samples_leaf=1, n_estimators=1000, n_jobs=None \n",
      "[CV]  max_depth=None, max_features=auto, min_samples_leaf=1, n_estimators=1000, n_jobs=None, total=   3.5s\n",
      "[CV] max_depth=None, max_features=auto, min_samples_leaf=1, n_estimators=1000, n_jobs=-1 \n",
      "[CV]  max_depth=None, max_features=auto, min_samples_leaf=1, n_estimators=1000, n_jobs=-1, total=   2.7s\n",
      "[CV] max_depth=None, max_features=auto, min_samples_leaf=1, n_estimators=1000, n_jobs=-1 \n",
      "[CV]  max_depth=None, max_features=auto, min_samples_leaf=1, n_estimators=1000, n_jobs=-1, total=   2.6s\n",
      "[CV] max_depth=None, max_features=auto, min_samples_leaf=1, n_estimators=1000, n_jobs=-1 \n",
      "[CV]  max_depth=None, max_features=auto, min_samples_leaf=1, n_estimators=1000, n_jobs=-1, total=   2.7s\n",
      "[CV] max_depth=None, max_features=auto, min_samples_leaf=1, n_estimators=1000, n_jobs=-1 \n",
      "[CV]  max_depth=None, max_features=auto, min_samples_leaf=1, n_estimators=1000, n_jobs=-1, total=   2.6s\n",
      "[CV] max_depth=None, max_features=auto, min_samples_leaf=1, n_estimators=1000, n_jobs=-1 \n",
      "[CV]  max_depth=None, max_features=auto, min_samples_leaf=1, n_estimators=1000, n_jobs=-1, total=   2.6s\n",
      "[CV] max_depth=None, max_features=auto, min_samples_leaf=2, n_estimators=10, n_jobs=None \n",
      "[CV]  max_depth=None, max_features=auto, min_samples_leaf=2, n_estimators=10, n_jobs=None, total=   0.0s\n",
      "[CV] max_depth=None, max_features=auto, min_samples_leaf=2, n_estimators=10, n_jobs=None \n",
      "[CV]  max_depth=None, max_features=auto, min_samples_leaf=2, n_estimators=10, n_jobs=None, total=   0.0s\n",
      "[CV] max_depth=None, max_features=auto, min_samples_leaf=2, n_estimators=10, n_jobs=None \n",
      "[CV]  max_depth=None, max_features=auto, min_samples_leaf=2, n_estimators=10, n_jobs=None, total=   0.0s\n",
      "[CV] max_depth=None, max_features=auto, min_samples_leaf=2, n_estimators=10, n_jobs=None \n",
      "[CV]  max_depth=None, max_features=auto, min_samples_leaf=2, n_estimators=10, n_jobs=None, total=   0.0s\n",
      "[CV] max_depth=None, max_features=auto, min_samples_leaf=2, n_estimators=10, n_jobs=None \n",
      "[CV]  max_depth=None, max_features=auto, min_samples_leaf=2, n_estimators=10, n_jobs=None, total=   0.0s\n",
      "[CV] max_depth=None, max_features=auto, min_samples_leaf=2, n_estimators=10, n_jobs=-1 \n",
      "[CV]  max_depth=None, max_features=auto, min_samples_leaf=2, n_estimators=10, n_jobs=-1, total=   0.2s\n",
      "[CV] max_depth=None, max_features=auto, min_samples_leaf=2, n_estimators=10, n_jobs=-1 \n",
      "[CV]  max_depth=None, max_features=auto, min_samples_leaf=2, n_estimators=10, n_jobs=-1, total=   0.2s\n",
      "[CV] max_depth=None, max_features=auto, min_samples_leaf=2, n_estimators=10, n_jobs=-1 \n",
      "[CV]  max_depth=None, max_features=auto, min_samples_leaf=2, n_estimators=10, n_jobs=-1, total=   0.2s\n",
      "[CV] max_depth=None, max_features=auto, min_samples_leaf=2, n_estimators=10, n_jobs=-1 \n",
      "[CV]  max_depth=None, max_features=auto, min_samples_leaf=2, n_estimators=10, n_jobs=-1, total=   0.2s\n",
      "[CV] max_depth=None, max_features=auto, min_samples_leaf=2, n_estimators=10, n_jobs=-1 \n",
      "[CV]  max_depth=None, max_features=auto, min_samples_leaf=2, n_estimators=10, n_jobs=-1, total=   0.2s\n",
      "[CV] max_depth=None, max_features=auto, min_samples_leaf=2, n_estimators=100, n_jobs=None \n",
      "[CV]  max_depth=None, max_features=auto, min_samples_leaf=2, n_estimators=100, n_jobs=None, total=   0.4s\n",
      "[CV] max_depth=None, max_features=auto, min_samples_leaf=2, n_estimators=100, n_jobs=None \n",
      "[CV]  max_depth=None, max_features=auto, min_samples_leaf=2, n_estimators=100, n_jobs=None, total=   0.3s\n",
      "[CV] max_depth=None, max_features=auto, min_samples_leaf=2, n_estimators=100, n_jobs=None \n",
      "[CV]  max_depth=None, max_features=auto, min_samples_leaf=2, n_estimators=100, n_jobs=None, total=   0.3s\n",
      "[CV] max_depth=None, max_features=auto, min_samples_leaf=2, n_estimators=100, n_jobs=None \n",
      "[CV]  max_depth=None, max_features=auto, min_samples_leaf=2, n_estimators=100, n_jobs=None, total=   0.3s\n",
      "[CV] max_depth=None, max_features=auto, min_samples_leaf=2, n_estimators=100, n_jobs=None \n",
      "[CV]  max_depth=None, max_features=auto, min_samples_leaf=2, n_estimators=100, n_jobs=None, total=   0.3s\n",
      "[CV] max_depth=None, max_features=auto, min_samples_leaf=2, n_estimators=100, n_jobs=-1 \n",
      "[CV]  max_depth=None, max_features=auto, min_samples_leaf=2, n_estimators=100, n_jobs=-1, total=   0.5s\n",
      "[CV] max_depth=None, max_features=auto, min_samples_leaf=2, n_estimators=100, n_jobs=-1 \n"
     ]
    },
    {
     "name": "stdout",
     "output_type": "stream",
     "text": [
      "[CV]  max_depth=None, max_features=auto, min_samples_leaf=2, n_estimators=100, n_jobs=-1, total=   0.5s\n",
      "[CV] max_depth=None, max_features=auto, min_samples_leaf=2, n_estimators=100, n_jobs=-1 \n",
      "[CV]  max_depth=None, max_features=auto, min_samples_leaf=2, n_estimators=100, n_jobs=-1, total=   0.5s\n",
      "[CV] max_depth=None, max_features=auto, min_samples_leaf=2, n_estimators=100, n_jobs=-1 \n",
      "[CV]  max_depth=None, max_features=auto, min_samples_leaf=2, n_estimators=100, n_jobs=-1, total=   0.5s\n",
      "[CV] max_depth=None, max_features=auto, min_samples_leaf=2, n_estimators=100, n_jobs=-1 \n",
      "[CV]  max_depth=None, max_features=auto, min_samples_leaf=2, n_estimators=100, n_jobs=-1, total=   0.5s\n",
      "[CV] max_depth=None, max_features=auto, min_samples_leaf=2, n_estimators=1000, n_jobs=None \n",
      "[CV]  max_depth=None, max_features=auto, min_samples_leaf=2, n_estimators=1000, n_jobs=None, total=   3.3s\n",
      "[CV] max_depth=None, max_features=auto, min_samples_leaf=2, n_estimators=1000, n_jobs=None \n",
      "[CV]  max_depth=None, max_features=auto, min_samples_leaf=2, n_estimators=1000, n_jobs=None, total=   3.1s\n",
      "[CV] max_depth=None, max_features=auto, min_samples_leaf=2, n_estimators=1000, n_jobs=None \n",
      "[CV]  max_depth=None, max_features=auto, min_samples_leaf=2, n_estimators=1000, n_jobs=None, total=   3.2s\n",
      "[CV] max_depth=None, max_features=auto, min_samples_leaf=2, n_estimators=1000, n_jobs=None \n",
      "[CV]  max_depth=None, max_features=auto, min_samples_leaf=2, n_estimators=1000, n_jobs=None, total=   3.1s\n",
      "[CV] max_depth=None, max_features=auto, min_samples_leaf=2, n_estimators=1000, n_jobs=None \n",
      "[CV]  max_depth=None, max_features=auto, min_samples_leaf=2, n_estimators=1000, n_jobs=None, total=   3.2s\n",
      "[CV] max_depth=None, max_features=auto, min_samples_leaf=2, n_estimators=1000, n_jobs=-1 \n",
      "[CV]  max_depth=None, max_features=auto, min_samples_leaf=2, n_estimators=1000, n_jobs=-1, total=   2.6s\n",
      "[CV] max_depth=None, max_features=auto, min_samples_leaf=2, n_estimators=1000, n_jobs=-1 \n",
      "[CV]  max_depth=None, max_features=auto, min_samples_leaf=2, n_estimators=1000, n_jobs=-1, total=   2.6s\n",
      "[CV] max_depth=None, max_features=auto, min_samples_leaf=2, n_estimators=1000, n_jobs=-1 \n",
      "[CV]  max_depth=None, max_features=auto, min_samples_leaf=2, n_estimators=1000, n_jobs=-1, total=   2.5s\n",
      "[CV] max_depth=None, max_features=auto, min_samples_leaf=2, n_estimators=1000, n_jobs=-1 \n",
      "[CV]  max_depth=None, max_features=auto, min_samples_leaf=2, n_estimators=1000, n_jobs=-1, total=   2.7s\n",
      "[CV] max_depth=None, max_features=auto, min_samples_leaf=2, n_estimators=1000, n_jobs=-1 \n",
      "[CV]  max_depth=None, max_features=auto, min_samples_leaf=2, n_estimators=1000, n_jobs=-1, total=   2.7s\n",
      "[CV] max_depth=None, max_features=auto, min_samples_leaf=4, n_estimators=10, n_jobs=None \n",
      "[CV]  max_depth=None, max_features=auto, min_samples_leaf=4, n_estimators=10, n_jobs=None, total=   0.0s\n",
      "[CV] max_depth=None, max_features=auto, min_samples_leaf=4, n_estimators=10, n_jobs=None \n",
      "[CV]  max_depth=None, max_features=auto, min_samples_leaf=4, n_estimators=10, n_jobs=None, total=   0.0s\n",
      "[CV] max_depth=None, max_features=auto, min_samples_leaf=4, n_estimators=10, n_jobs=None \n",
      "[CV]  max_depth=None, max_features=auto, min_samples_leaf=4, n_estimators=10, n_jobs=None, total=   0.0s\n",
      "[CV] max_depth=None, max_features=auto, min_samples_leaf=4, n_estimators=10, n_jobs=None \n",
      "[CV]  max_depth=None, max_features=auto, min_samples_leaf=4, n_estimators=10, n_jobs=None, total=   0.0s\n",
      "[CV] max_depth=None, max_features=auto, min_samples_leaf=4, n_estimators=10, n_jobs=None \n",
      "[CV]  max_depth=None, max_features=auto, min_samples_leaf=4, n_estimators=10, n_jobs=None, total=   0.0s\n",
      "[CV] max_depth=None, max_features=auto, min_samples_leaf=4, n_estimators=10, n_jobs=-1 \n",
      "[CV]  max_depth=None, max_features=auto, min_samples_leaf=4, n_estimators=10, n_jobs=-1, total=   0.2s\n",
      "[CV] max_depth=None, max_features=auto, min_samples_leaf=4, n_estimators=10, n_jobs=-1 \n",
      "[CV]  max_depth=None, max_features=auto, min_samples_leaf=4, n_estimators=10, n_jobs=-1, total=   0.2s\n",
      "[CV] max_depth=None, max_features=auto, min_samples_leaf=4, n_estimators=10, n_jobs=-1 \n",
      "[CV]  max_depth=None, max_features=auto, min_samples_leaf=4, n_estimators=10, n_jobs=-1, total=   0.2s\n",
      "[CV] max_depth=None, max_features=auto, min_samples_leaf=4, n_estimators=10, n_jobs=-1 \n",
      "[CV]  max_depth=None, max_features=auto, min_samples_leaf=4, n_estimators=10, n_jobs=-1, total=   0.2s\n",
      "[CV] max_depth=None, max_features=auto, min_samples_leaf=4, n_estimators=10, n_jobs=-1 \n",
      "[CV]  max_depth=None, max_features=auto, min_samples_leaf=4, n_estimators=10, n_jobs=-1, total=   0.2s\n",
      "[CV] max_depth=None, max_features=auto, min_samples_leaf=4, n_estimators=100, n_jobs=None \n",
      "[CV]  max_depth=None, max_features=auto, min_samples_leaf=4, n_estimators=100, n_jobs=None, total=   0.3s\n",
      "[CV] max_depth=None, max_features=auto, min_samples_leaf=4, n_estimators=100, n_jobs=None \n",
      "[CV]  max_depth=None, max_features=auto, min_samples_leaf=4, n_estimators=100, n_jobs=None, total=   0.3s\n",
      "[CV] max_depth=None, max_features=auto, min_samples_leaf=4, n_estimators=100, n_jobs=None \n",
      "[CV]  max_depth=None, max_features=auto, min_samples_leaf=4, n_estimators=100, n_jobs=None, total=   0.3s\n",
      "[CV] max_depth=None, max_features=auto, min_samples_leaf=4, n_estimators=100, n_jobs=None \n",
      "[CV]  max_depth=None, max_features=auto, min_samples_leaf=4, n_estimators=100, n_jobs=None, total=   0.3s\n",
      "[CV] max_depth=None, max_features=auto, min_samples_leaf=4, n_estimators=100, n_jobs=None \n",
      "[CV]  max_depth=None, max_features=auto, min_samples_leaf=4, n_estimators=100, n_jobs=None, total=   0.3s\n",
      "[CV] max_depth=None, max_features=auto, min_samples_leaf=4, n_estimators=100, n_jobs=-1 \n",
      "[CV]  max_depth=None, max_features=auto, min_samples_leaf=4, n_estimators=100, n_jobs=-1, total=   0.5s\n",
      "[CV] max_depth=None, max_features=auto, min_samples_leaf=4, n_estimators=100, n_jobs=-1 \n",
      "[CV]  max_depth=None, max_features=auto, min_samples_leaf=4, n_estimators=100, n_jobs=-1, total=   0.5s\n",
      "[CV] max_depth=None, max_features=auto, min_samples_leaf=4, n_estimators=100, n_jobs=-1 \n",
      "[CV]  max_depth=None, max_features=auto, min_samples_leaf=4, n_estimators=100, n_jobs=-1, total=   0.5s\n",
      "[CV] max_depth=None, max_features=auto, min_samples_leaf=4, n_estimators=100, n_jobs=-1 \n",
      "[CV]  max_depth=None, max_features=auto, min_samples_leaf=4, n_estimators=100, n_jobs=-1, total=   0.5s\n",
      "[CV] max_depth=None, max_features=auto, min_samples_leaf=4, n_estimators=100, n_jobs=-1 \n",
      "[CV]  max_depth=None, max_features=auto, min_samples_leaf=4, n_estimators=100, n_jobs=-1, total=   0.5s\n",
      "[CV] max_depth=None, max_features=auto, min_samples_leaf=4, n_estimators=1000, n_jobs=None \n",
      "[CV]  max_depth=None, max_features=auto, min_samples_leaf=4, n_estimators=1000, n_jobs=None, total=   3.1s\n",
      "[CV] max_depth=None, max_features=auto, min_samples_leaf=4, n_estimators=1000, n_jobs=None \n",
      "[CV]  max_depth=None, max_features=auto, min_samples_leaf=4, n_estimators=1000, n_jobs=None, total=   2.9s\n",
      "[CV] max_depth=None, max_features=auto, min_samples_leaf=4, n_estimators=1000, n_jobs=None \n",
      "[CV]  max_depth=None, max_features=auto, min_samples_leaf=4, n_estimators=1000, n_jobs=None, total=   3.0s\n",
      "[CV] max_depth=None, max_features=auto, min_samples_leaf=4, n_estimators=1000, n_jobs=None \n",
      "[CV]  max_depth=None, max_features=auto, min_samples_leaf=4, n_estimators=1000, n_jobs=None, total=   3.0s\n",
      "[CV] max_depth=None, max_features=auto, min_samples_leaf=4, n_estimators=1000, n_jobs=None \n",
      "[CV]  max_depth=None, max_features=auto, min_samples_leaf=4, n_estimators=1000, n_jobs=None, total=   3.0s\n",
      "[CV] max_depth=None, max_features=auto, min_samples_leaf=4, n_estimators=1000, n_jobs=-1 \n",
      "[CV]  max_depth=None, max_features=auto, min_samples_leaf=4, n_estimators=1000, n_jobs=-1, total=   2.4s\n",
      "[CV] max_depth=None, max_features=auto, min_samples_leaf=4, n_estimators=1000, n_jobs=-1 \n",
      "[CV]  max_depth=None, max_features=auto, min_samples_leaf=4, n_estimators=1000, n_jobs=-1, total=   2.6s\n",
      "[CV] max_depth=None, max_features=auto, min_samples_leaf=4, n_estimators=1000, n_jobs=-1 \n",
      "[CV]  max_depth=None, max_features=auto, min_samples_leaf=4, n_estimators=1000, n_jobs=-1, total=   2.5s\n",
      "[CV] max_depth=None, max_features=auto, min_samples_leaf=4, n_estimators=1000, n_jobs=-1 \n"
     ]
    },
    {
     "name": "stdout",
     "output_type": "stream",
     "text": [
      "[CV]  max_depth=None, max_features=auto, min_samples_leaf=4, n_estimators=1000, n_jobs=-1, total=   2.5s\n",
      "[CV] max_depth=None, max_features=auto, min_samples_leaf=4, n_estimators=1000, n_jobs=-1 \n",
      "[CV]  max_depth=None, max_features=auto, min_samples_leaf=4, n_estimators=1000, n_jobs=-1, total=   2.6s\n",
      "[CV] max_depth=None, max_features=sqrt, min_samples_leaf=1, n_estimators=10, n_jobs=None \n",
      "[CV]  max_depth=None, max_features=sqrt, min_samples_leaf=1, n_estimators=10, n_jobs=None, total=   0.1s\n",
      "[CV] max_depth=None, max_features=sqrt, min_samples_leaf=1, n_estimators=10, n_jobs=None \n",
      "[CV]  max_depth=None, max_features=sqrt, min_samples_leaf=1, n_estimators=10, n_jobs=None, total=   0.1s\n",
      "[CV] max_depth=None, max_features=sqrt, min_samples_leaf=1, n_estimators=10, n_jobs=None \n",
      "[CV]  max_depth=None, max_features=sqrt, min_samples_leaf=1, n_estimators=10, n_jobs=None, total=   0.0s\n",
      "[CV] max_depth=None, max_features=sqrt, min_samples_leaf=1, n_estimators=10, n_jobs=None \n",
      "[CV]  max_depth=None, max_features=sqrt, min_samples_leaf=1, n_estimators=10, n_jobs=None, total=   0.1s\n",
      "[CV] max_depth=None, max_features=sqrt, min_samples_leaf=1, n_estimators=10, n_jobs=None \n",
      "[CV]  max_depth=None, max_features=sqrt, min_samples_leaf=1, n_estimators=10, n_jobs=None, total=   0.0s\n",
      "[CV] max_depth=None, max_features=sqrt, min_samples_leaf=1, n_estimators=10, n_jobs=-1 \n",
      "[CV]  max_depth=None, max_features=sqrt, min_samples_leaf=1, n_estimators=10, n_jobs=-1, total=   0.2s\n",
      "[CV] max_depth=None, max_features=sqrt, min_samples_leaf=1, n_estimators=10, n_jobs=-1 \n",
      "[CV]  max_depth=None, max_features=sqrt, min_samples_leaf=1, n_estimators=10, n_jobs=-1, total=   0.2s\n",
      "[CV] max_depth=None, max_features=sqrt, min_samples_leaf=1, n_estimators=10, n_jobs=-1 \n",
      "[CV]  max_depth=None, max_features=sqrt, min_samples_leaf=1, n_estimators=10, n_jobs=-1, total=   0.2s\n",
      "[CV] max_depth=None, max_features=sqrt, min_samples_leaf=1, n_estimators=10, n_jobs=-1 \n",
      "[CV]  max_depth=None, max_features=sqrt, min_samples_leaf=1, n_estimators=10, n_jobs=-1, total=   0.2s\n",
      "[CV] max_depth=None, max_features=sqrt, min_samples_leaf=1, n_estimators=10, n_jobs=-1 \n",
      "[CV]  max_depth=None, max_features=sqrt, min_samples_leaf=1, n_estimators=10, n_jobs=-1, total=   0.2s\n",
      "[CV] max_depth=None, max_features=sqrt, min_samples_leaf=1, n_estimators=100, n_jobs=None \n",
      "[CV]  max_depth=None, max_features=sqrt, min_samples_leaf=1, n_estimators=100, n_jobs=None, total=   0.4s\n",
      "[CV] max_depth=None, max_features=sqrt, min_samples_leaf=1, n_estimators=100, n_jobs=None \n",
      "[CV]  max_depth=None, max_features=sqrt, min_samples_leaf=1, n_estimators=100, n_jobs=None, total=   0.3s\n",
      "[CV] max_depth=None, max_features=sqrt, min_samples_leaf=1, n_estimators=100, n_jobs=None \n",
      "[CV]  max_depth=None, max_features=sqrt, min_samples_leaf=1, n_estimators=100, n_jobs=None, total=   0.3s\n",
      "[CV] max_depth=None, max_features=sqrt, min_samples_leaf=1, n_estimators=100, n_jobs=None \n",
      "[CV]  max_depth=None, max_features=sqrt, min_samples_leaf=1, n_estimators=100, n_jobs=None, total=   0.3s\n",
      "[CV] max_depth=None, max_features=sqrt, min_samples_leaf=1, n_estimators=100, n_jobs=None \n",
      "[CV]  max_depth=None, max_features=sqrt, min_samples_leaf=1, n_estimators=100, n_jobs=None, total=   0.3s\n",
      "[CV] max_depth=None, max_features=sqrt, min_samples_leaf=1, n_estimators=100, n_jobs=-1 \n",
      "[CV]  max_depth=None, max_features=sqrt, min_samples_leaf=1, n_estimators=100, n_jobs=-1, total=   0.5s\n",
      "[CV] max_depth=None, max_features=sqrt, min_samples_leaf=1, n_estimators=100, n_jobs=-1 \n",
      "[CV]  max_depth=None, max_features=sqrt, min_samples_leaf=1, n_estimators=100, n_jobs=-1, total=   0.5s\n",
      "[CV] max_depth=None, max_features=sqrt, min_samples_leaf=1, n_estimators=100, n_jobs=-1 \n",
      "[CV]  max_depth=None, max_features=sqrt, min_samples_leaf=1, n_estimators=100, n_jobs=-1, total=   0.5s\n",
      "[CV] max_depth=None, max_features=sqrt, min_samples_leaf=1, n_estimators=100, n_jobs=-1 \n",
      "[CV]  max_depth=None, max_features=sqrt, min_samples_leaf=1, n_estimators=100, n_jobs=-1, total=   0.5s\n",
      "[CV] max_depth=None, max_features=sqrt, min_samples_leaf=1, n_estimators=100, n_jobs=-1 \n",
      "[CV]  max_depth=None, max_features=sqrt, min_samples_leaf=1, n_estimators=100, n_jobs=-1, total=   0.5s\n",
      "[CV] max_depth=None, max_features=sqrt, min_samples_leaf=1, n_estimators=1000, n_jobs=None \n",
      "[CV]  max_depth=None, max_features=sqrt, min_samples_leaf=1, n_estimators=1000, n_jobs=None, total=   3.4s\n",
      "[CV] max_depth=None, max_features=sqrt, min_samples_leaf=1, n_estimators=1000, n_jobs=None \n",
      "[CV]  max_depth=None, max_features=sqrt, min_samples_leaf=1, n_estimators=1000, n_jobs=None, total=   3.3s\n",
      "[CV] max_depth=None, max_features=sqrt, min_samples_leaf=1, n_estimators=1000, n_jobs=None \n",
      "[CV]  max_depth=None, max_features=sqrt, min_samples_leaf=1, n_estimators=1000, n_jobs=None, total=   3.4s\n",
      "[CV] max_depth=None, max_features=sqrt, min_samples_leaf=1, n_estimators=1000, n_jobs=None \n",
      "[CV]  max_depth=None, max_features=sqrt, min_samples_leaf=1, n_estimators=1000, n_jobs=None, total=   3.3s\n",
      "[CV] max_depth=None, max_features=sqrt, min_samples_leaf=1, n_estimators=1000, n_jobs=None \n",
      "[CV]  max_depth=None, max_features=sqrt, min_samples_leaf=1, n_estimators=1000, n_jobs=None, total=   3.3s\n",
      "[CV] max_depth=None, max_features=sqrt, min_samples_leaf=1, n_estimators=1000, n_jobs=-1 \n",
      "[CV]  max_depth=None, max_features=sqrt, min_samples_leaf=1, n_estimators=1000, n_jobs=-1, total=   2.7s\n",
      "[CV] max_depth=None, max_features=sqrt, min_samples_leaf=1, n_estimators=1000, n_jobs=-1 \n",
      "[CV]  max_depth=None, max_features=sqrt, min_samples_leaf=1, n_estimators=1000, n_jobs=-1, total=   2.7s\n",
      "[CV] max_depth=None, max_features=sqrt, min_samples_leaf=1, n_estimators=1000, n_jobs=-1 \n",
      "[CV]  max_depth=None, max_features=sqrt, min_samples_leaf=1, n_estimators=1000, n_jobs=-1, total=   2.8s\n",
      "[CV] max_depth=None, max_features=sqrt, min_samples_leaf=1, n_estimators=1000, n_jobs=-1 \n",
      "[CV]  max_depth=None, max_features=sqrt, min_samples_leaf=1, n_estimators=1000, n_jobs=-1, total=   2.6s\n",
      "[CV] max_depth=None, max_features=sqrt, min_samples_leaf=1, n_estimators=1000, n_jobs=-1 \n",
      "[CV]  max_depth=None, max_features=sqrt, min_samples_leaf=1, n_estimators=1000, n_jobs=-1, total=   2.8s\n",
      "[CV] max_depth=None, max_features=sqrt, min_samples_leaf=2, n_estimators=10, n_jobs=None \n",
      "[CV]  max_depth=None, max_features=sqrt, min_samples_leaf=2, n_estimators=10, n_jobs=None, total=   0.0s\n",
      "[CV] max_depth=None, max_features=sqrt, min_samples_leaf=2, n_estimators=10, n_jobs=None \n",
      "[CV]  max_depth=None, max_features=sqrt, min_samples_leaf=2, n_estimators=10, n_jobs=None, total=   0.0s\n",
      "[CV] max_depth=None, max_features=sqrt, min_samples_leaf=2, n_estimators=10, n_jobs=None \n",
      "[CV]  max_depth=None, max_features=sqrt, min_samples_leaf=2, n_estimators=10, n_jobs=None, total=   0.0s\n",
      "[CV] max_depth=None, max_features=sqrt, min_samples_leaf=2, n_estimators=10, n_jobs=None \n",
      "[CV]  max_depth=None, max_features=sqrt, min_samples_leaf=2, n_estimators=10, n_jobs=None, total=   0.0s\n",
      "[CV] max_depth=None, max_features=sqrt, min_samples_leaf=2, n_estimators=10, n_jobs=None \n",
      "[CV]  max_depth=None, max_features=sqrt, min_samples_leaf=2, n_estimators=10, n_jobs=None, total=   0.0s\n",
      "[CV] max_depth=None, max_features=sqrt, min_samples_leaf=2, n_estimators=10, n_jobs=-1 \n",
      "[CV]  max_depth=None, max_features=sqrt, min_samples_leaf=2, n_estimators=10, n_jobs=-1, total=   0.2s\n",
      "[CV] max_depth=None, max_features=sqrt, min_samples_leaf=2, n_estimators=10, n_jobs=-1 \n",
      "[CV]  max_depth=None, max_features=sqrt, min_samples_leaf=2, n_estimators=10, n_jobs=-1, total=   0.2s\n",
      "[CV] max_depth=None, max_features=sqrt, min_samples_leaf=2, n_estimators=10, n_jobs=-1 \n",
      "[CV]  max_depth=None, max_features=sqrt, min_samples_leaf=2, n_estimators=10, n_jobs=-1, total=   0.2s\n",
      "[CV] max_depth=None, max_features=sqrt, min_samples_leaf=2, n_estimators=10, n_jobs=-1 \n",
      "[CV]  max_depth=None, max_features=sqrt, min_samples_leaf=2, n_estimators=10, n_jobs=-1, total=   0.2s\n",
      "[CV] max_depth=None, max_features=sqrt, min_samples_leaf=2, n_estimators=10, n_jobs=-1 \n",
      "[CV]  max_depth=None, max_features=sqrt, min_samples_leaf=2, n_estimators=10, n_jobs=-1, total=   0.2s\n",
      "[CV] max_depth=None, max_features=sqrt, min_samples_leaf=2, n_estimators=100, n_jobs=None \n",
      "[CV]  max_depth=None, max_features=sqrt, min_samples_leaf=2, n_estimators=100, n_jobs=None, total=   0.3s\n",
      "[CV] max_depth=None, max_features=sqrt, min_samples_leaf=2, n_estimators=100, n_jobs=None \n"
     ]
    },
    {
     "name": "stdout",
     "output_type": "stream",
     "text": [
      "[CV]  max_depth=None, max_features=sqrt, min_samples_leaf=2, n_estimators=100, n_jobs=None, total=   0.3s\n",
      "[CV] max_depth=None, max_features=sqrt, min_samples_leaf=2, n_estimators=100, n_jobs=None \n",
      "[CV]  max_depth=None, max_features=sqrt, min_samples_leaf=2, n_estimators=100, n_jobs=None, total=   0.3s\n",
      "[CV] max_depth=None, max_features=sqrt, min_samples_leaf=2, n_estimators=100, n_jobs=None \n",
      "[CV]  max_depth=None, max_features=sqrt, min_samples_leaf=2, n_estimators=100, n_jobs=None, total=   0.3s\n",
      "[CV] max_depth=None, max_features=sqrt, min_samples_leaf=2, n_estimators=100, n_jobs=None \n",
      "[CV]  max_depth=None, max_features=sqrt, min_samples_leaf=2, n_estimators=100, n_jobs=None, total=   0.3s\n",
      "[CV] max_depth=None, max_features=sqrt, min_samples_leaf=2, n_estimators=100, n_jobs=-1 \n",
      "[CV]  max_depth=None, max_features=sqrt, min_samples_leaf=2, n_estimators=100, n_jobs=-1, total=   0.5s\n",
      "[CV] max_depth=None, max_features=sqrt, min_samples_leaf=2, n_estimators=100, n_jobs=-1 \n",
      "[CV]  max_depth=None, max_features=sqrt, min_samples_leaf=2, n_estimators=100, n_jobs=-1, total=   0.6s\n",
      "[CV] max_depth=None, max_features=sqrt, min_samples_leaf=2, n_estimators=100, n_jobs=-1 \n",
      "[CV]  max_depth=None, max_features=sqrt, min_samples_leaf=2, n_estimators=100, n_jobs=-1, total=   0.5s\n",
      "[CV] max_depth=None, max_features=sqrt, min_samples_leaf=2, n_estimators=100, n_jobs=-1 \n",
      "[CV]  max_depth=None, max_features=sqrt, min_samples_leaf=2, n_estimators=100, n_jobs=-1, total=   0.5s\n",
      "[CV] max_depth=None, max_features=sqrt, min_samples_leaf=2, n_estimators=100, n_jobs=-1 \n",
      "[CV]  max_depth=None, max_features=sqrt, min_samples_leaf=2, n_estimators=100, n_jobs=-1, total=   0.5s\n",
      "[CV] max_depth=None, max_features=sqrt, min_samples_leaf=2, n_estimators=1000, n_jobs=None \n",
      "[CV]  max_depth=None, max_features=sqrt, min_samples_leaf=2, n_estimators=1000, n_jobs=None, total=   2.9s\n",
      "[CV] max_depth=None, max_features=sqrt, min_samples_leaf=2, n_estimators=1000, n_jobs=None \n",
      "[CV]  max_depth=None, max_features=sqrt, min_samples_leaf=2, n_estimators=1000, n_jobs=None, total=   3.1s\n",
      "[CV] max_depth=None, max_features=sqrt, min_samples_leaf=2, n_estimators=1000, n_jobs=None \n",
      "[CV]  max_depth=None, max_features=sqrt, min_samples_leaf=2, n_estimators=1000, n_jobs=None, total=   2.9s\n",
      "[CV] max_depth=None, max_features=sqrt, min_samples_leaf=2, n_estimators=1000, n_jobs=None \n",
      "[CV]  max_depth=None, max_features=sqrt, min_samples_leaf=2, n_estimators=1000, n_jobs=None, total=   2.8s\n",
      "[CV] max_depth=None, max_features=sqrt, min_samples_leaf=2, n_estimators=1000, n_jobs=None \n",
      "[CV]  max_depth=None, max_features=sqrt, min_samples_leaf=2, n_estimators=1000, n_jobs=None, total=   2.9s\n",
      "[CV] max_depth=None, max_features=sqrt, min_samples_leaf=2, n_estimators=1000, n_jobs=-1 \n",
      "[CV]  max_depth=None, max_features=sqrt, min_samples_leaf=2, n_estimators=1000, n_jobs=-1, total=   2.5s\n",
      "[CV] max_depth=None, max_features=sqrt, min_samples_leaf=2, n_estimators=1000, n_jobs=-1 \n",
      "[CV]  max_depth=None, max_features=sqrt, min_samples_leaf=2, n_estimators=1000, n_jobs=-1, total=   2.5s\n",
      "[CV] max_depth=None, max_features=sqrt, min_samples_leaf=2, n_estimators=1000, n_jobs=-1 \n",
      "[CV]  max_depth=None, max_features=sqrt, min_samples_leaf=2, n_estimators=1000, n_jobs=-1, total=   2.7s\n",
      "[CV] max_depth=None, max_features=sqrt, min_samples_leaf=2, n_estimators=1000, n_jobs=-1 \n",
      "[CV]  max_depth=None, max_features=sqrt, min_samples_leaf=2, n_estimators=1000, n_jobs=-1, total=   2.7s\n",
      "[CV] max_depth=None, max_features=sqrt, min_samples_leaf=2, n_estimators=1000, n_jobs=-1 \n",
      "[CV]  max_depth=None, max_features=sqrt, min_samples_leaf=2, n_estimators=1000, n_jobs=-1, total=   2.6s\n",
      "[CV] max_depth=None, max_features=sqrt, min_samples_leaf=4, n_estimators=10, n_jobs=None \n",
      "[CV]  max_depth=None, max_features=sqrt, min_samples_leaf=4, n_estimators=10, n_jobs=None, total=   0.1s\n",
      "[CV] max_depth=None, max_features=sqrt, min_samples_leaf=4, n_estimators=10, n_jobs=None \n",
      "[CV]  max_depth=None, max_features=sqrt, min_samples_leaf=4, n_estimators=10, n_jobs=None, total=   0.0s\n",
      "[CV] max_depth=None, max_features=sqrt, min_samples_leaf=4, n_estimators=10, n_jobs=None \n",
      "[CV]  max_depth=None, max_features=sqrt, min_samples_leaf=4, n_estimators=10, n_jobs=None, total=   0.0s\n",
      "[CV] max_depth=None, max_features=sqrt, min_samples_leaf=4, n_estimators=10, n_jobs=None \n",
      "[CV]  max_depth=None, max_features=sqrt, min_samples_leaf=4, n_estimators=10, n_jobs=None, total=   0.0s\n",
      "[CV] max_depth=None, max_features=sqrt, min_samples_leaf=4, n_estimators=10, n_jobs=None \n",
      "[CV]  max_depth=None, max_features=sqrt, min_samples_leaf=4, n_estimators=10, n_jobs=None, total=   0.0s\n",
      "[CV] max_depth=None, max_features=sqrt, min_samples_leaf=4, n_estimators=10, n_jobs=-1 \n",
      "[CV]  max_depth=None, max_features=sqrt, min_samples_leaf=4, n_estimators=10, n_jobs=-1, total=   0.2s\n",
      "[CV] max_depth=None, max_features=sqrt, min_samples_leaf=4, n_estimators=10, n_jobs=-1 \n",
      "[CV]  max_depth=None, max_features=sqrt, min_samples_leaf=4, n_estimators=10, n_jobs=-1, total=   0.2s\n",
      "[CV] max_depth=None, max_features=sqrt, min_samples_leaf=4, n_estimators=10, n_jobs=-1 \n",
      "[CV]  max_depth=None, max_features=sqrt, min_samples_leaf=4, n_estimators=10, n_jobs=-1, total=   0.2s\n",
      "[CV] max_depth=None, max_features=sqrt, min_samples_leaf=4, n_estimators=10, n_jobs=-1 \n",
      "[CV]  max_depth=None, max_features=sqrt, min_samples_leaf=4, n_estimators=10, n_jobs=-1, total=   0.2s\n",
      "[CV] max_depth=None, max_features=sqrt, min_samples_leaf=4, n_estimators=10, n_jobs=-1 \n",
      "[CV]  max_depth=None, max_features=sqrt, min_samples_leaf=4, n_estimators=10, n_jobs=-1, total=   0.2s\n",
      "[CV] max_depth=None, max_features=sqrt, min_samples_leaf=4, n_estimators=100, n_jobs=None \n",
      "[CV]  max_depth=None, max_features=sqrt, min_samples_leaf=4, n_estimators=100, n_jobs=None, total=   0.3s\n",
      "[CV] max_depth=None, max_features=sqrt, min_samples_leaf=4, n_estimators=100, n_jobs=None \n",
      "[CV]  max_depth=None, max_features=sqrt, min_samples_leaf=4, n_estimators=100, n_jobs=None, total=   0.3s\n",
      "[CV] max_depth=None, max_features=sqrt, min_samples_leaf=4, n_estimators=100, n_jobs=None \n",
      "[CV]  max_depth=None, max_features=sqrt, min_samples_leaf=4, n_estimators=100, n_jobs=None, total=   0.3s\n",
      "[CV] max_depth=None, max_features=sqrt, min_samples_leaf=4, n_estimators=100, n_jobs=None \n",
      "[CV]  max_depth=None, max_features=sqrt, min_samples_leaf=4, n_estimators=100, n_jobs=None, total=   0.3s\n",
      "[CV] max_depth=None, max_features=sqrt, min_samples_leaf=4, n_estimators=100, n_jobs=None \n",
      "[CV]  max_depth=None, max_features=sqrt, min_samples_leaf=4, n_estimators=100, n_jobs=None, total=   0.3s\n",
      "[CV] max_depth=None, max_features=sqrt, min_samples_leaf=4, n_estimators=100, n_jobs=-1 \n",
      "[CV]  max_depth=None, max_features=sqrt, min_samples_leaf=4, n_estimators=100, n_jobs=-1, total=   0.5s\n",
      "[CV] max_depth=None, max_features=sqrt, min_samples_leaf=4, n_estimators=100, n_jobs=-1 \n",
      "[CV]  max_depth=None, max_features=sqrt, min_samples_leaf=4, n_estimators=100, n_jobs=-1, total=   0.5s\n",
      "[CV] max_depth=None, max_features=sqrt, min_samples_leaf=4, n_estimators=100, n_jobs=-1 \n",
      "[CV]  max_depth=None, max_features=sqrt, min_samples_leaf=4, n_estimators=100, n_jobs=-1, total=   0.5s\n",
      "[CV] max_depth=None, max_features=sqrt, min_samples_leaf=4, n_estimators=100, n_jobs=-1 \n",
      "[CV]  max_depth=None, max_features=sqrt, min_samples_leaf=4, n_estimators=100, n_jobs=-1, total=   0.5s\n",
      "[CV] max_depth=None, max_features=sqrt, min_samples_leaf=4, n_estimators=100, n_jobs=-1 \n",
      "[CV]  max_depth=None, max_features=sqrt, min_samples_leaf=4, n_estimators=100, n_jobs=-1, total=   0.5s\n",
      "[CV] max_depth=None, max_features=sqrt, min_samples_leaf=4, n_estimators=1000, n_jobs=None \n",
      "[CV]  max_depth=None, max_features=sqrt, min_samples_leaf=4, n_estimators=1000, n_jobs=None, total=   3.0s\n",
      "[CV] max_depth=None, max_features=sqrt, min_samples_leaf=4, n_estimators=1000, n_jobs=None \n",
      "[CV]  max_depth=None, max_features=sqrt, min_samples_leaf=4, n_estimators=1000, n_jobs=None, total=   3.0s\n",
      "[CV] max_depth=None, max_features=sqrt, min_samples_leaf=4, n_estimators=1000, n_jobs=None \n",
      "[CV]  max_depth=None, max_features=sqrt, min_samples_leaf=4, n_estimators=1000, n_jobs=None, total=   3.2s\n",
      "[CV] max_depth=None, max_features=sqrt, min_samples_leaf=4, n_estimators=1000, n_jobs=None \n"
     ]
    },
    {
     "name": "stdout",
     "output_type": "stream",
     "text": [
      "[CV]  max_depth=None, max_features=sqrt, min_samples_leaf=4, n_estimators=1000, n_jobs=None, total=   2.8s\n",
      "[CV] max_depth=None, max_features=sqrt, min_samples_leaf=4, n_estimators=1000, n_jobs=None \n",
      "[CV]  max_depth=None, max_features=sqrt, min_samples_leaf=4, n_estimators=1000, n_jobs=None, total=   2.9s\n",
      "[CV] max_depth=None, max_features=sqrt, min_samples_leaf=4, n_estimators=1000, n_jobs=-1 \n",
      "[CV]  max_depth=None, max_features=sqrt, min_samples_leaf=4, n_estimators=1000, n_jobs=-1, total=   2.5s\n",
      "[CV] max_depth=None, max_features=sqrt, min_samples_leaf=4, n_estimators=1000, n_jobs=-1 \n",
      "[CV]  max_depth=None, max_features=sqrt, min_samples_leaf=4, n_estimators=1000, n_jobs=-1, total=   2.6s\n",
      "[CV] max_depth=None, max_features=sqrt, min_samples_leaf=4, n_estimators=1000, n_jobs=-1 \n",
      "[CV]  max_depth=None, max_features=sqrt, min_samples_leaf=4, n_estimators=1000, n_jobs=-1, total=   2.5s\n",
      "[CV] max_depth=None, max_features=sqrt, min_samples_leaf=4, n_estimators=1000, n_jobs=-1 \n",
      "[CV]  max_depth=None, max_features=sqrt, min_samples_leaf=4, n_estimators=1000, n_jobs=-1, total=   2.5s\n",
      "[CV] max_depth=None, max_features=sqrt, min_samples_leaf=4, n_estimators=1000, n_jobs=-1 \n",
      "[CV]  max_depth=None, max_features=sqrt, min_samples_leaf=4, n_estimators=1000, n_jobs=-1, total=   2.6s\n",
      "[CV] max_depth=5, max_features=auto, min_samples_leaf=1, n_estimators=10, n_jobs=None \n",
      "[CV]  max_depth=5, max_features=auto, min_samples_leaf=1, n_estimators=10, n_jobs=None, total=   0.0s\n",
      "[CV] max_depth=5, max_features=auto, min_samples_leaf=1, n_estimators=10, n_jobs=None \n",
      "[CV]  max_depth=5, max_features=auto, min_samples_leaf=1, n_estimators=10, n_jobs=None, total=   0.0s\n",
      "[CV] max_depth=5, max_features=auto, min_samples_leaf=1, n_estimators=10, n_jobs=None \n",
      "[CV]  max_depth=5, max_features=auto, min_samples_leaf=1, n_estimators=10, n_jobs=None, total=   0.0s\n",
      "[CV] max_depth=5, max_features=auto, min_samples_leaf=1, n_estimators=10, n_jobs=None \n",
      "[CV]  max_depth=5, max_features=auto, min_samples_leaf=1, n_estimators=10, n_jobs=None, total=   0.0s\n",
      "[CV] max_depth=5, max_features=auto, min_samples_leaf=1, n_estimators=10, n_jobs=None \n",
      "[CV]  max_depth=5, max_features=auto, min_samples_leaf=1, n_estimators=10, n_jobs=None, total=   0.0s\n",
      "[CV] max_depth=5, max_features=auto, min_samples_leaf=1, n_estimators=10, n_jobs=-1 \n",
      "[CV]  max_depth=5, max_features=auto, min_samples_leaf=1, n_estimators=10, n_jobs=-1, total=   0.2s\n",
      "[CV] max_depth=5, max_features=auto, min_samples_leaf=1, n_estimators=10, n_jobs=-1 \n",
      "[CV]  max_depth=5, max_features=auto, min_samples_leaf=1, n_estimators=10, n_jobs=-1, total=   0.2s\n",
      "[CV] max_depth=5, max_features=auto, min_samples_leaf=1, n_estimators=10, n_jobs=-1 \n",
      "[CV]  max_depth=5, max_features=auto, min_samples_leaf=1, n_estimators=10, n_jobs=-1, total=   0.2s\n",
      "[CV] max_depth=5, max_features=auto, min_samples_leaf=1, n_estimators=10, n_jobs=-1 \n",
      "[CV]  max_depth=5, max_features=auto, min_samples_leaf=1, n_estimators=10, n_jobs=-1, total=   0.2s\n",
      "[CV] max_depth=5, max_features=auto, min_samples_leaf=1, n_estimators=10, n_jobs=-1 \n",
      "[CV]  max_depth=5, max_features=auto, min_samples_leaf=1, n_estimators=10, n_jobs=-1, total=   0.2s\n",
      "[CV] max_depth=5, max_features=auto, min_samples_leaf=1, n_estimators=100, n_jobs=None \n",
      "[CV]  max_depth=5, max_features=auto, min_samples_leaf=1, n_estimators=100, n_jobs=None, total=   0.4s\n",
      "[CV] max_depth=5, max_features=auto, min_samples_leaf=1, n_estimators=100, n_jobs=None \n",
      "[CV]  max_depth=5, max_features=auto, min_samples_leaf=1, n_estimators=100, n_jobs=None, total=   0.3s\n",
      "[CV] max_depth=5, max_features=auto, min_samples_leaf=1, n_estimators=100, n_jobs=None \n",
      "[CV]  max_depth=5, max_features=auto, min_samples_leaf=1, n_estimators=100, n_jobs=None, total=   0.3s\n",
      "[CV] max_depth=5, max_features=auto, min_samples_leaf=1, n_estimators=100, n_jobs=None \n",
      "[CV]  max_depth=5, max_features=auto, min_samples_leaf=1, n_estimators=100, n_jobs=None, total=   0.3s\n",
      "[CV] max_depth=5, max_features=auto, min_samples_leaf=1, n_estimators=100, n_jobs=None \n",
      "[CV]  max_depth=5, max_features=auto, min_samples_leaf=1, n_estimators=100, n_jobs=None, total=   0.3s\n",
      "[CV] max_depth=5, max_features=auto, min_samples_leaf=1, n_estimators=100, n_jobs=-1 \n",
      "[CV]  max_depth=5, max_features=auto, min_samples_leaf=1, n_estimators=100, n_jobs=-1, total=   0.5s\n",
      "[CV] max_depth=5, max_features=auto, min_samples_leaf=1, n_estimators=100, n_jobs=-1 \n",
      "[CV]  max_depth=5, max_features=auto, min_samples_leaf=1, n_estimators=100, n_jobs=-1, total=   0.5s\n",
      "[CV] max_depth=5, max_features=auto, min_samples_leaf=1, n_estimators=100, n_jobs=-1 \n",
      "[CV]  max_depth=5, max_features=auto, min_samples_leaf=1, n_estimators=100, n_jobs=-1, total=   0.5s\n",
      "[CV] max_depth=5, max_features=auto, min_samples_leaf=1, n_estimators=100, n_jobs=-1 \n",
      "[CV]  max_depth=5, max_features=auto, min_samples_leaf=1, n_estimators=100, n_jobs=-1, total=   0.5s\n",
      "[CV] max_depth=5, max_features=auto, min_samples_leaf=1, n_estimators=100, n_jobs=-1 \n",
      "[CV]  max_depth=5, max_features=auto, min_samples_leaf=1, n_estimators=100, n_jobs=-1, total=   0.5s\n",
      "[CV] max_depth=5, max_features=auto, min_samples_leaf=1, n_estimators=1000, n_jobs=None \n",
      "[CV]  max_depth=5, max_features=auto, min_samples_leaf=1, n_estimators=1000, n_jobs=None, total=   2.9s\n",
      "[CV] max_depth=5, max_features=auto, min_samples_leaf=1, n_estimators=1000, n_jobs=None \n",
      "[CV]  max_depth=5, max_features=auto, min_samples_leaf=1, n_estimators=1000, n_jobs=None, total=   2.8s\n",
      "[CV] max_depth=5, max_features=auto, min_samples_leaf=1, n_estimators=1000, n_jobs=None \n",
      "[CV]  max_depth=5, max_features=auto, min_samples_leaf=1, n_estimators=1000, n_jobs=None, total=   2.8s\n",
      "[CV] max_depth=5, max_features=auto, min_samples_leaf=1, n_estimators=1000, n_jobs=None \n",
      "[CV]  max_depth=5, max_features=auto, min_samples_leaf=1, n_estimators=1000, n_jobs=None, total=   2.9s\n",
      "[CV] max_depth=5, max_features=auto, min_samples_leaf=1, n_estimators=1000, n_jobs=None \n",
      "[CV]  max_depth=5, max_features=auto, min_samples_leaf=1, n_estimators=1000, n_jobs=None, total=   2.8s\n",
      "[CV] max_depth=5, max_features=auto, min_samples_leaf=1, n_estimators=1000, n_jobs=-1 \n",
      "[CV]  max_depth=5, max_features=auto, min_samples_leaf=1, n_estimators=1000, n_jobs=-1, total=   2.5s\n",
      "[CV] max_depth=5, max_features=auto, min_samples_leaf=1, n_estimators=1000, n_jobs=-1 \n",
      "[CV]  max_depth=5, max_features=auto, min_samples_leaf=1, n_estimators=1000, n_jobs=-1, total=   2.6s\n",
      "[CV] max_depth=5, max_features=auto, min_samples_leaf=1, n_estimators=1000, n_jobs=-1 \n",
      "[CV]  max_depth=5, max_features=auto, min_samples_leaf=1, n_estimators=1000, n_jobs=-1, total=   2.6s\n",
      "[CV] max_depth=5, max_features=auto, min_samples_leaf=1, n_estimators=1000, n_jobs=-1 \n",
      "[CV]  max_depth=5, max_features=auto, min_samples_leaf=1, n_estimators=1000, n_jobs=-1, total=   2.5s\n",
      "[CV] max_depth=5, max_features=auto, min_samples_leaf=1, n_estimators=1000, n_jobs=-1 \n",
      "[CV]  max_depth=5, max_features=auto, min_samples_leaf=1, n_estimators=1000, n_jobs=-1, total=   2.6s\n",
      "[CV] max_depth=5, max_features=auto, min_samples_leaf=2, n_estimators=10, n_jobs=None \n",
      "[CV]  max_depth=5, max_features=auto, min_samples_leaf=2, n_estimators=10, n_jobs=None, total=   0.0s\n",
      "[CV] max_depth=5, max_features=auto, min_samples_leaf=2, n_estimators=10, n_jobs=None \n",
      "[CV]  max_depth=5, max_features=auto, min_samples_leaf=2, n_estimators=10, n_jobs=None, total=   0.0s\n",
      "[CV] max_depth=5, max_features=auto, min_samples_leaf=2, n_estimators=10, n_jobs=None \n",
      "[CV]  max_depth=5, max_features=auto, min_samples_leaf=2, n_estimators=10, n_jobs=None, total=   0.0s\n",
      "[CV] max_depth=5, max_features=auto, min_samples_leaf=2, n_estimators=10, n_jobs=None \n",
      "[CV]  max_depth=5, max_features=auto, min_samples_leaf=2, n_estimators=10, n_jobs=None, total=   0.0s\n",
      "[CV] max_depth=5, max_features=auto, min_samples_leaf=2, n_estimators=10, n_jobs=None \n",
      "[CV]  max_depth=5, max_features=auto, min_samples_leaf=2, n_estimators=10, n_jobs=None, total=   0.0s\n",
      "[CV] max_depth=5, max_features=auto, min_samples_leaf=2, n_estimators=10, n_jobs=-1 \n",
      "[CV]  max_depth=5, max_features=auto, min_samples_leaf=2, n_estimators=10, n_jobs=-1, total=   0.2s\n",
      "[CV] max_depth=5, max_features=auto, min_samples_leaf=2, n_estimators=10, n_jobs=-1 \n"
     ]
    },
    {
     "name": "stdout",
     "output_type": "stream",
     "text": [
      "[CV]  max_depth=5, max_features=auto, min_samples_leaf=2, n_estimators=10, n_jobs=-1, total=   0.2s\n",
      "[CV] max_depth=5, max_features=auto, min_samples_leaf=2, n_estimators=10, n_jobs=-1 \n",
      "[CV]  max_depth=5, max_features=auto, min_samples_leaf=2, n_estimators=10, n_jobs=-1, total=   0.2s\n",
      "[CV] max_depth=5, max_features=auto, min_samples_leaf=2, n_estimators=10, n_jobs=-1 \n",
      "[CV]  max_depth=5, max_features=auto, min_samples_leaf=2, n_estimators=10, n_jobs=-1, total=   0.2s\n",
      "[CV] max_depth=5, max_features=auto, min_samples_leaf=2, n_estimators=10, n_jobs=-1 \n",
      "[CV]  max_depth=5, max_features=auto, min_samples_leaf=2, n_estimators=10, n_jobs=-1, total=   0.2s\n",
      "[CV] max_depth=5, max_features=auto, min_samples_leaf=2, n_estimators=100, n_jobs=None \n",
      "[CV]  max_depth=5, max_features=auto, min_samples_leaf=2, n_estimators=100, n_jobs=None, total=   0.3s\n",
      "[CV] max_depth=5, max_features=auto, min_samples_leaf=2, n_estimators=100, n_jobs=None \n",
      "[CV]  max_depth=5, max_features=auto, min_samples_leaf=2, n_estimators=100, n_jobs=None, total=   0.3s\n",
      "[CV] max_depth=5, max_features=auto, min_samples_leaf=2, n_estimators=100, n_jobs=None \n",
      "[CV]  max_depth=5, max_features=auto, min_samples_leaf=2, n_estimators=100, n_jobs=None, total=   0.3s\n",
      "[CV] max_depth=5, max_features=auto, min_samples_leaf=2, n_estimators=100, n_jobs=None \n",
      "[CV]  max_depth=5, max_features=auto, min_samples_leaf=2, n_estimators=100, n_jobs=None, total=   0.3s\n",
      "[CV] max_depth=5, max_features=auto, min_samples_leaf=2, n_estimators=100, n_jobs=None \n",
      "[CV]  max_depth=5, max_features=auto, min_samples_leaf=2, n_estimators=100, n_jobs=None, total=   0.3s\n",
      "[CV] max_depth=5, max_features=auto, min_samples_leaf=2, n_estimators=100, n_jobs=-1 \n",
      "[CV]  max_depth=5, max_features=auto, min_samples_leaf=2, n_estimators=100, n_jobs=-1, total=   0.5s\n",
      "[CV] max_depth=5, max_features=auto, min_samples_leaf=2, n_estimators=100, n_jobs=-1 \n",
      "[CV]  max_depth=5, max_features=auto, min_samples_leaf=2, n_estimators=100, n_jobs=-1, total=   0.6s\n",
      "[CV] max_depth=5, max_features=auto, min_samples_leaf=2, n_estimators=100, n_jobs=-1 \n",
      "[CV]  max_depth=5, max_features=auto, min_samples_leaf=2, n_estimators=100, n_jobs=-1, total=   0.5s\n",
      "[CV] max_depth=5, max_features=auto, min_samples_leaf=2, n_estimators=100, n_jobs=-1 \n",
      "[CV]  max_depth=5, max_features=auto, min_samples_leaf=2, n_estimators=100, n_jobs=-1, total=   0.5s\n",
      "[CV] max_depth=5, max_features=auto, min_samples_leaf=2, n_estimators=100, n_jobs=-1 \n",
      "[CV]  max_depth=5, max_features=auto, min_samples_leaf=2, n_estimators=100, n_jobs=-1, total=   0.5s\n",
      "[CV] max_depth=5, max_features=auto, min_samples_leaf=2, n_estimators=1000, n_jobs=None \n",
      "[CV]  max_depth=5, max_features=auto, min_samples_leaf=2, n_estimators=1000, n_jobs=None, total=   2.9s\n",
      "[CV] max_depth=5, max_features=auto, min_samples_leaf=2, n_estimators=1000, n_jobs=None \n",
      "[CV]  max_depth=5, max_features=auto, min_samples_leaf=2, n_estimators=1000, n_jobs=None, total=   2.8s\n",
      "[CV] max_depth=5, max_features=auto, min_samples_leaf=2, n_estimators=1000, n_jobs=None \n",
      "[CV]  max_depth=5, max_features=auto, min_samples_leaf=2, n_estimators=1000, n_jobs=None, total=   3.0s\n",
      "[CV] max_depth=5, max_features=auto, min_samples_leaf=2, n_estimators=1000, n_jobs=None \n",
      "[CV]  max_depth=5, max_features=auto, min_samples_leaf=2, n_estimators=1000, n_jobs=None, total=   2.8s\n",
      "[CV] max_depth=5, max_features=auto, min_samples_leaf=2, n_estimators=1000, n_jobs=None \n",
      "[CV]  max_depth=5, max_features=auto, min_samples_leaf=2, n_estimators=1000, n_jobs=None, total=   2.9s\n",
      "[CV] max_depth=5, max_features=auto, min_samples_leaf=2, n_estimators=1000, n_jobs=-1 \n",
      "[CV]  max_depth=5, max_features=auto, min_samples_leaf=2, n_estimators=1000, n_jobs=-1, total=   2.4s\n",
      "[CV] max_depth=5, max_features=auto, min_samples_leaf=2, n_estimators=1000, n_jobs=-1 \n",
      "[CV]  max_depth=5, max_features=auto, min_samples_leaf=2, n_estimators=1000, n_jobs=-1, total=   3.3s\n",
      "[CV] max_depth=5, max_features=auto, min_samples_leaf=2, n_estimators=1000, n_jobs=-1 \n",
      "[CV]  max_depth=5, max_features=auto, min_samples_leaf=2, n_estimators=1000, n_jobs=-1, total=   4.5s\n",
      "[CV] max_depth=5, max_features=auto, min_samples_leaf=2, n_estimators=1000, n_jobs=-1 \n",
      "[CV]  max_depth=5, max_features=auto, min_samples_leaf=2, n_estimators=1000, n_jobs=-1, total=   1.2s\n",
      "[CV] max_depth=5, max_features=auto, min_samples_leaf=2, n_estimators=1000, n_jobs=-1 \n",
      "[CV]  max_depth=5, max_features=auto, min_samples_leaf=2, n_estimators=1000, n_jobs=-1, total=   0.9s\n",
      "[CV] max_depth=5, max_features=auto, min_samples_leaf=4, n_estimators=10, n_jobs=None \n",
      "[CV]  max_depth=5, max_features=auto, min_samples_leaf=4, n_estimators=10, n_jobs=None, total=   0.0s\n",
      "[CV] max_depth=5, max_features=auto, min_samples_leaf=4, n_estimators=10, n_jobs=None \n",
      "[CV]  max_depth=5, max_features=auto, min_samples_leaf=4, n_estimators=10, n_jobs=None, total=   0.0s\n",
      "[CV] max_depth=5, max_features=auto, min_samples_leaf=4, n_estimators=10, n_jobs=None \n",
      "[CV]  max_depth=5, max_features=auto, min_samples_leaf=4, n_estimators=10, n_jobs=None, total=   0.0s\n",
      "[CV] max_depth=5, max_features=auto, min_samples_leaf=4, n_estimators=10, n_jobs=None \n",
      "[CV]  max_depth=5, max_features=auto, min_samples_leaf=4, n_estimators=10, n_jobs=None, total=   0.0s\n",
      "[CV] max_depth=5, max_features=auto, min_samples_leaf=4, n_estimators=10, n_jobs=None \n",
      "[CV]  max_depth=5, max_features=auto, min_samples_leaf=4, n_estimators=10, n_jobs=None, total=   0.0s\n",
      "[CV] max_depth=5, max_features=auto, min_samples_leaf=4, n_estimators=10, n_jobs=-1 \n",
      "[CV]  max_depth=5, max_features=auto, min_samples_leaf=4, n_estimators=10, n_jobs=-1, total=   0.1s\n",
      "[CV] max_depth=5, max_features=auto, min_samples_leaf=4, n_estimators=10, n_jobs=-1 \n",
      "[CV]  max_depth=5, max_features=auto, min_samples_leaf=4, n_estimators=10, n_jobs=-1, total=   0.1s\n",
      "[CV] max_depth=5, max_features=auto, min_samples_leaf=4, n_estimators=10, n_jobs=-1 \n",
      "[CV]  max_depth=5, max_features=auto, min_samples_leaf=4, n_estimators=10, n_jobs=-1, total=   0.1s\n",
      "[CV] max_depth=5, max_features=auto, min_samples_leaf=4, n_estimators=10, n_jobs=-1 \n",
      "[CV]  max_depth=5, max_features=auto, min_samples_leaf=4, n_estimators=10, n_jobs=-1, total=   0.1s\n",
      "[CV] max_depth=5, max_features=auto, min_samples_leaf=4, n_estimators=10, n_jobs=-1 \n",
      "[CV]  max_depth=5, max_features=auto, min_samples_leaf=4, n_estimators=10, n_jobs=-1, total=   0.1s\n",
      "[CV] max_depth=5, max_features=auto, min_samples_leaf=4, n_estimators=100, n_jobs=None \n",
      "[CV]  max_depth=5, max_features=auto, min_samples_leaf=4, n_estimators=100, n_jobs=None, total=   0.1s\n",
      "[CV] max_depth=5, max_features=auto, min_samples_leaf=4, n_estimators=100, n_jobs=None \n",
      "[CV]  max_depth=5, max_features=auto, min_samples_leaf=4, n_estimators=100, n_jobs=None, total=   0.1s\n",
      "[CV] max_depth=5, max_features=auto, min_samples_leaf=4, n_estimators=100, n_jobs=None \n",
      "[CV]  max_depth=5, max_features=auto, min_samples_leaf=4, n_estimators=100, n_jobs=None, total=   0.1s\n",
      "[CV] max_depth=5, max_features=auto, min_samples_leaf=4, n_estimators=100, n_jobs=None \n",
      "[CV]  max_depth=5, max_features=auto, min_samples_leaf=4, n_estimators=100, n_jobs=None, total=   0.1s\n",
      "[CV] max_depth=5, max_features=auto, min_samples_leaf=4, n_estimators=100, n_jobs=None \n",
      "[CV]  max_depth=5, max_features=auto, min_samples_leaf=4, n_estimators=100, n_jobs=None, total=   0.1s\n",
      "[CV] max_depth=5, max_features=auto, min_samples_leaf=4, n_estimators=100, n_jobs=-1 \n",
      "[CV]  max_depth=5, max_features=auto, min_samples_leaf=4, n_estimators=100, n_jobs=-1, total=   0.2s\n",
      "[CV] max_depth=5, max_features=auto, min_samples_leaf=4, n_estimators=100, n_jobs=-1 \n",
      "[CV]  max_depth=5, max_features=auto, min_samples_leaf=4, n_estimators=100, n_jobs=-1, total=   0.2s\n",
      "[CV] max_depth=5, max_features=auto, min_samples_leaf=4, n_estimators=100, n_jobs=-1 \n",
      "[CV]  max_depth=5, max_features=auto, min_samples_leaf=4, n_estimators=100, n_jobs=-1, total=   0.2s\n",
      "[CV] max_depth=5, max_features=auto, min_samples_leaf=4, n_estimators=100, n_jobs=-1 \n",
      "[CV]  max_depth=5, max_features=auto, min_samples_leaf=4, n_estimators=100, n_jobs=-1, total=   0.2s\n",
      "[CV] max_depth=5, max_features=auto, min_samples_leaf=4, n_estimators=100, n_jobs=-1 \n",
      "[CV]  max_depth=5, max_features=auto, min_samples_leaf=4, n_estimators=100, n_jobs=-1, total=   0.2s\n",
      "[CV] max_depth=5, max_features=auto, min_samples_leaf=4, n_estimators=1000, n_jobs=None \n"
     ]
    },
    {
     "name": "stdout",
     "output_type": "stream",
     "text": [
      "[CV]  max_depth=5, max_features=auto, min_samples_leaf=4, n_estimators=1000, n_jobs=None, total=   2.5s\n",
      "[CV] max_depth=5, max_features=auto, min_samples_leaf=4, n_estimators=1000, n_jobs=None \n",
      "[CV]  max_depth=5, max_features=auto, min_samples_leaf=4, n_estimators=1000, n_jobs=None, total=   2.8s\n",
      "[CV] max_depth=5, max_features=auto, min_samples_leaf=4, n_estimators=1000, n_jobs=None \n",
      "[CV]  max_depth=5, max_features=auto, min_samples_leaf=4, n_estimators=1000, n_jobs=None, total=   2.9s\n",
      "[CV] max_depth=5, max_features=auto, min_samples_leaf=4, n_estimators=1000, n_jobs=None \n",
      "[CV]  max_depth=5, max_features=auto, min_samples_leaf=4, n_estimators=1000, n_jobs=None, total=   2.8s\n",
      "[CV] max_depth=5, max_features=auto, min_samples_leaf=4, n_estimators=1000, n_jobs=None \n",
      "[CV]  max_depth=5, max_features=auto, min_samples_leaf=4, n_estimators=1000, n_jobs=None, total=   2.8s\n",
      "[CV] max_depth=5, max_features=auto, min_samples_leaf=4, n_estimators=1000, n_jobs=-1 \n",
      "[CV]  max_depth=5, max_features=auto, min_samples_leaf=4, n_estimators=1000, n_jobs=-1, total=   2.5s\n",
      "[CV] max_depth=5, max_features=auto, min_samples_leaf=4, n_estimators=1000, n_jobs=-1 \n",
      "[CV]  max_depth=5, max_features=auto, min_samples_leaf=4, n_estimators=1000, n_jobs=-1, total=   2.5s\n",
      "[CV] max_depth=5, max_features=auto, min_samples_leaf=4, n_estimators=1000, n_jobs=-1 \n",
      "[CV]  max_depth=5, max_features=auto, min_samples_leaf=4, n_estimators=1000, n_jobs=-1, total=   2.5s\n",
      "[CV] max_depth=5, max_features=auto, min_samples_leaf=4, n_estimators=1000, n_jobs=-1 \n",
      "[CV]  max_depth=5, max_features=auto, min_samples_leaf=4, n_estimators=1000, n_jobs=-1, total=   2.4s\n",
      "[CV] max_depth=5, max_features=auto, min_samples_leaf=4, n_estimators=1000, n_jobs=-1 \n",
      "[CV]  max_depth=5, max_features=auto, min_samples_leaf=4, n_estimators=1000, n_jobs=-1, total=   2.5s\n",
      "[CV] max_depth=5, max_features=sqrt, min_samples_leaf=1, n_estimators=10, n_jobs=None \n",
      "[CV]  max_depth=5, max_features=sqrt, min_samples_leaf=1, n_estimators=10, n_jobs=None, total=   0.0s\n",
      "[CV] max_depth=5, max_features=sqrt, min_samples_leaf=1, n_estimators=10, n_jobs=None \n",
      "[CV]  max_depth=5, max_features=sqrt, min_samples_leaf=1, n_estimators=10, n_jobs=None, total=   0.0s\n",
      "[CV] max_depth=5, max_features=sqrt, min_samples_leaf=1, n_estimators=10, n_jobs=None \n",
      "[CV]  max_depth=5, max_features=sqrt, min_samples_leaf=1, n_estimators=10, n_jobs=None, total=   0.0s\n",
      "[CV] max_depth=5, max_features=sqrt, min_samples_leaf=1, n_estimators=10, n_jobs=None \n",
      "[CV]  max_depth=5, max_features=sqrt, min_samples_leaf=1, n_estimators=10, n_jobs=None, total=   0.0s\n",
      "[CV] max_depth=5, max_features=sqrt, min_samples_leaf=1, n_estimators=10, n_jobs=None \n",
      "[CV]  max_depth=5, max_features=sqrt, min_samples_leaf=1, n_estimators=10, n_jobs=None, total=   0.0s\n",
      "[CV] max_depth=5, max_features=sqrt, min_samples_leaf=1, n_estimators=10, n_jobs=-1 \n",
      "[CV]  max_depth=5, max_features=sqrt, min_samples_leaf=1, n_estimators=10, n_jobs=-1, total=   0.2s\n",
      "[CV] max_depth=5, max_features=sqrt, min_samples_leaf=1, n_estimators=10, n_jobs=-1 \n",
      "[CV]  max_depth=5, max_features=sqrt, min_samples_leaf=1, n_estimators=10, n_jobs=-1, total=   0.2s\n",
      "[CV] max_depth=5, max_features=sqrt, min_samples_leaf=1, n_estimators=10, n_jobs=-1 \n",
      "[CV]  max_depth=5, max_features=sqrt, min_samples_leaf=1, n_estimators=10, n_jobs=-1, total=   0.2s\n",
      "[CV] max_depth=5, max_features=sqrt, min_samples_leaf=1, n_estimators=10, n_jobs=-1 \n",
      "[CV]  max_depth=5, max_features=sqrt, min_samples_leaf=1, n_estimators=10, n_jobs=-1, total=   0.2s\n",
      "[CV] max_depth=5, max_features=sqrt, min_samples_leaf=1, n_estimators=10, n_jobs=-1 \n",
      "[CV]  max_depth=5, max_features=sqrt, min_samples_leaf=1, n_estimators=10, n_jobs=-1, total=   0.2s\n",
      "[CV] max_depth=5, max_features=sqrt, min_samples_leaf=1, n_estimators=100, n_jobs=None \n",
      "[CV]  max_depth=5, max_features=sqrt, min_samples_leaf=1, n_estimators=100, n_jobs=None, total=   0.3s\n",
      "[CV] max_depth=5, max_features=sqrt, min_samples_leaf=1, n_estimators=100, n_jobs=None \n",
      "[CV]  max_depth=5, max_features=sqrt, min_samples_leaf=1, n_estimators=100, n_jobs=None, total=   0.4s\n",
      "[CV] max_depth=5, max_features=sqrt, min_samples_leaf=1, n_estimators=100, n_jobs=None \n",
      "[CV]  max_depth=5, max_features=sqrt, min_samples_leaf=1, n_estimators=100, n_jobs=None, total=   0.4s\n",
      "[CV] max_depth=5, max_features=sqrt, min_samples_leaf=1, n_estimators=100, n_jobs=None \n",
      "[CV]  max_depth=5, max_features=sqrt, min_samples_leaf=1, n_estimators=100, n_jobs=None, total=   0.3s\n",
      "[CV] max_depth=5, max_features=sqrt, min_samples_leaf=1, n_estimators=100, n_jobs=None \n",
      "[CV]  max_depth=5, max_features=sqrt, min_samples_leaf=1, n_estimators=100, n_jobs=None, total=   0.3s\n",
      "[CV] max_depth=5, max_features=sqrt, min_samples_leaf=1, n_estimators=100, n_jobs=-1 \n",
      "[CV]  max_depth=5, max_features=sqrt, min_samples_leaf=1, n_estimators=100, n_jobs=-1, total=   0.7s\n",
      "[CV] max_depth=5, max_features=sqrt, min_samples_leaf=1, n_estimators=100, n_jobs=-1 \n",
      "[CV]  max_depth=5, max_features=sqrt, min_samples_leaf=1, n_estimators=100, n_jobs=-1, total=   0.7s\n",
      "[CV] max_depth=5, max_features=sqrt, min_samples_leaf=1, n_estimators=100, n_jobs=-1 \n",
      "[CV]  max_depth=5, max_features=sqrt, min_samples_leaf=1, n_estimators=100, n_jobs=-1, total=   0.7s\n",
      "[CV] max_depth=5, max_features=sqrt, min_samples_leaf=1, n_estimators=100, n_jobs=-1 \n",
      "[CV]  max_depth=5, max_features=sqrt, min_samples_leaf=1, n_estimators=100, n_jobs=-1, total=   0.7s\n",
      "[CV] max_depth=5, max_features=sqrt, min_samples_leaf=1, n_estimators=100, n_jobs=-1 \n",
      "[CV]  max_depth=5, max_features=sqrt, min_samples_leaf=1, n_estimators=100, n_jobs=-1, total=   0.7s\n",
      "[CV] max_depth=5, max_features=sqrt, min_samples_leaf=1, n_estimators=1000, n_jobs=None \n",
      "[CV]  max_depth=5, max_features=sqrt, min_samples_leaf=1, n_estimators=1000, n_jobs=None, total=   3.4s\n",
      "[CV] max_depth=5, max_features=sqrt, min_samples_leaf=1, n_estimators=1000, n_jobs=None \n",
      "[CV]  max_depth=5, max_features=sqrt, min_samples_leaf=1, n_estimators=1000, n_jobs=None, total=   3.4s\n",
      "[CV] max_depth=5, max_features=sqrt, min_samples_leaf=1, n_estimators=1000, n_jobs=None \n",
      "[CV]  max_depth=5, max_features=sqrt, min_samples_leaf=1, n_estimators=1000, n_jobs=None, total=   3.2s\n",
      "[CV] max_depth=5, max_features=sqrt, min_samples_leaf=1, n_estimators=1000, n_jobs=None \n",
      "[CV]  max_depth=5, max_features=sqrt, min_samples_leaf=1, n_estimators=1000, n_jobs=None, total=   3.3s\n",
      "[CV] max_depth=5, max_features=sqrt, min_samples_leaf=1, n_estimators=1000, n_jobs=None \n",
      "[CV]  max_depth=5, max_features=sqrt, min_samples_leaf=1, n_estimators=1000, n_jobs=None, total=   3.3s\n",
      "[CV] max_depth=5, max_features=sqrt, min_samples_leaf=1, n_estimators=1000, n_jobs=-1 \n",
      "[CV]  max_depth=5, max_features=sqrt, min_samples_leaf=1, n_estimators=1000, n_jobs=-1, total=   3.9s\n",
      "[CV] max_depth=5, max_features=sqrt, min_samples_leaf=1, n_estimators=1000, n_jobs=-1 \n",
      "[CV]  max_depth=5, max_features=sqrt, min_samples_leaf=1, n_estimators=1000, n_jobs=-1, total=   3.8s\n",
      "[CV] max_depth=5, max_features=sqrt, min_samples_leaf=1, n_estimators=1000, n_jobs=-1 \n",
      "[CV]  max_depth=5, max_features=sqrt, min_samples_leaf=1, n_estimators=1000, n_jobs=-1, total=   3.1s\n",
      "[CV] max_depth=5, max_features=sqrt, min_samples_leaf=1, n_estimators=1000, n_jobs=-1 \n",
      "[CV]  max_depth=5, max_features=sqrt, min_samples_leaf=1, n_estimators=1000, n_jobs=-1, total=   1.0s\n",
      "[CV] max_depth=5, max_features=sqrt, min_samples_leaf=1, n_estimators=1000, n_jobs=-1 \n",
      "[CV]  max_depth=5, max_features=sqrt, min_samples_leaf=1, n_estimators=1000, n_jobs=-1, total=   0.9s\n",
      "[CV] max_depth=5, max_features=sqrt, min_samples_leaf=2, n_estimators=10, n_jobs=None \n",
      "[CV]  max_depth=5, max_features=sqrt, min_samples_leaf=2, n_estimators=10, n_jobs=None, total=   0.0s\n",
      "[CV] max_depth=5, max_features=sqrt, min_samples_leaf=2, n_estimators=10, n_jobs=None \n",
      "[CV]  max_depth=5, max_features=sqrt, min_samples_leaf=2, n_estimators=10, n_jobs=None, total=   0.0s\n",
      "[CV] max_depth=5, max_features=sqrt, min_samples_leaf=2, n_estimators=10, n_jobs=None \n",
      "[CV]  max_depth=5, max_features=sqrt, min_samples_leaf=2, n_estimators=10, n_jobs=None, total=   0.0s\n",
      "[CV] max_depth=5, max_features=sqrt, min_samples_leaf=2, n_estimators=10, n_jobs=None \n",
      "[CV]  max_depth=5, max_features=sqrt, min_samples_leaf=2, n_estimators=10, n_jobs=None, total=   0.0s\n",
      "[CV] max_depth=5, max_features=sqrt, min_samples_leaf=2, n_estimators=10, n_jobs=None \n",
      "[CV]  max_depth=5, max_features=sqrt, min_samples_leaf=2, n_estimators=10, n_jobs=None, total=   0.0s\n",
      "[CV] max_depth=5, max_features=sqrt, min_samples_leaf=2, n_estimators=10, n_jobs=-1 \n",
      "[CV]  max_depth=5, max_features=sqrt, min_samples_leaf=2, n_estimators=10, n_jobs=-1, total=   0.1s\n",
      "[CV] max_depth=5, max_features=sqrt, min_samples_leaf=2, n_estimators=10, n_jobs=-1 \n"
     ]
    },
    {
     "name": "stdout",
     "output_type": "stream",
     "text": [
      "[CV]  max_depth=5, max_features=sqrt, min_samples_leaf=2, n_estimators=10, n_jobs=-1, total=   0.1s\n",
      "[CV] max_depth=5, max_features=sqrt, min_samples_leaf=2, n_estimators=10, n_jobs=-1 \n",
      "[CV]  max_depth=5, max_features=sqrt, min_samples_leaf=2, n_estimators=10, n_jobs=-1, total=   0.1s\n",
      "[CV] max_depth=5, max_features=sqrt, min_samples_leaf=2, n_estimators=10, n_jobs=-1 \n",
      "[CV]  max_depth=5, max_features=sqrt, min_samples_leaf=2, n_estimators=10, n_jobs=-1, total=   0.1s\n",
      "[CV] max_depth=5, max_features=sqrt, min_samples_leaf=2, n_estimators=10, n_jobs=-1 \n",
      "[CV]  max_depth=5, max_features=sqrt, min_samples_leaf=2, n_estimators=10, n_jobs=-1, total=   0.1s\n",
      "[CV] max_depth=5, max_features=sqrt, min_samples_leaf=2, n_estimators=100, n_jobs=None \n",
      "[CV]  max_depth=5, max_features=sqrt, min_samples_leaf=2, n_estimators=100, n_jobs=None, total=   0.1s\n",
      "[CV] max_depth=5, max_features=sqrt, min_samples_leaf=2, n_estimators=100, n_jobs=None \n",
      "[CV]  max_depth=5, max_features=sqrt, min_samples_leaf=2, n_estimators=100, n_jobs=None, total=   0.1s\n",
      "[CV] max_depth=5, max_features=sqrt, min_samples_leaf=2, n_estimators=100, n_jobs=None \n",
      "[CV]  max_depth=5, max_features=sqrt, min_samples_leaf=2, n_estimators=100, n_jobs=None, total=   0.1s\n",
      "[CV] max_depth=5, max_features=sqrt, min_samples_leaf=2, n_estimators=100, n_jobs=None \n",
      "[CV]  max_depth=5, max_features=sqrt, min_samples_leaf=2, n_estimators=100, n_jobs=None, total=   0.1s\n",
      "[CV] max_depth=5, max_features=sqrt, min_samples_leaf=2, n_estimators=100, n_jobs=None \n",
      "[CV]  max_depth=5, max_features=sqrt, min_samples_leaf=2, n_estimators=100, n_jobs=None, total=   0.1s\n",
      "[CV] max_depth=5, max_features=sqrt, min_samples_leaf=2, n_estimators=100, n_jobs=-1 \n",
      "[CV]  max_depth=5, max_features=sqrt, min_samples_leaf=2, n_estimators=100, n_jobs=-1, total=   0.2s\n",
      "[CV] max_depth=5, max_features=sqrt, min_samples_leaf=2, n_estimators=100, n_jobs=-1 \n",
      "[CV]  max_depth=5, max_features=sqrt, min_samples_leaf=2, n_estimators=100, n_jobs=-1, total=   0.2s\n",
      "[CV] max_depth=5, max_features=sqrt, min_samples_leaf=2, n_estimators=100, n_jobs=-1 \n",
      "[CV]  max_depth=5, max_features=sqrt, min_samples_leaf=2, n_estimators=100, n_jobs=-1, total=   0.2s\n",
      "[CV] max_depth=5, max_features=sqrt, min_samples_leaf=2, n_estimators=100, n_jobs=-1 \n",
      "[CV]  max_depth=5, max_features=sqrt, min_samples_leaf=2, n_estimators=100, n_jobs=-1, total=   0.2s\n",
      "[CV] max_depth=5, max_features=sqrt, min_samples_leaf=2, n_estimators=100, n_jobs=-1 \n",
      "[CV]  max_depth=5, max_features=sqrt, min_samples_leaf=2, n_estimators=100, n_jobs=-1, total=   0.2s\n",
      "[CV] max_depth=5, max_features=sqrt, min_samples_leaf=2, n_estimators=1000, n_jobs=None \n",
      "[CV]  max_depth=5, max_features=sqrt, min_samples_leaf=2, n_estimators=1000, n_jobs=None, total=   1.7s\n",
      "[CV] max_depth=5, max_features=sqrt, min_samples_leaf=2, n_estimators=1000, n_jobs=None \n",
      "[CV]  max_depth=5, max_features=sqrt, min_samples_leaf=2, n_estimators=1000, n_jobs=None, total=   3.0s\n",
      "[CV] max_depth=5, max_features=sqrt, min_samples_leaf=2, n_estimators=1000, n_jobs=None \n",
      "[CV]  max_depth=5, max_features=sqrt, min_samples_leaf=2, n_estimators=1000, n_jobs=None, total=   3.0s\n",
      "[CV] max_depth=5, max_features=sqrt, min_samples_leaf=2, n_estimators=1000, n_jobs=None \n",
      "[CV]  max_depth=5, max_features=sqrt, min_samples_leaf=2, n_estimators=1000, n_jobs=None, total=   3.0s\n",
      "[CV] max_depth=5, max_features=sqrt, min_samples_leaf=2, n_estimators=1000, n_jobs=None \n",
      "[CV]  max_depth=5, max_features=sqrt, min_samples_leaf=2, n_estimators=1000, n_jobs=None, total=   2.9s\n",
      "[CV] max_depth=5, max_features=sqrt, min_samples_leaf=2, n_estimators=1000, n_jobs=-1 \n",
      "[CV]  max_depth=5, max_features=sqrt, min_samples_leaf=2, n_estimators=1000, n_jobs=-1, total=   2.7s\n",
      "[CV] max_depth=5, max_features=sqrt, min_samples_leaf=2, n_estimators=1000, n_jobs=-1 \n",
      "[CV]  max_depth=5, max_features=sqrt, min_samples_leaf=2, n_estimators=1000, n_jobs=-1, total=   2.6s\n",
      "[CV] max_depth=5, max_features=sqrt, min_samples_leaf=2, n_estimators=1000, n_jobs=-1 \n",
      "[CV]  max_depth=5, max_features=sqrt, min_samples_leaf=2, n_estimators=1000, n_jobs=-1, total=   2.7s\n",
      "[CV] max_depth=5, max_features=sqrt, min_samples_leaf=2, n_estimators=1000, n_jobs=-1 \n",
      "[CV]  max_depth=5, max_features=sqrt, min_samples_leaf=2, n_estimators=1000, n_jobs=-1, total=   2.5s\n",
      "[CV] max_depth=5, max_features=sqrt, min_samples_leaf=2, n_estimators=1000, n_jobs=-1 \n",
      "[CV]  max_depth=5, max_features=sqrt, min_samples_leaf=2, n_estimators=1000, n_jobs=-1, total=   3.0s\n",
      "[CV] max_depth=5, max_features=sqrt, min_samples_leaf=4, n_estimators=10, n_jobs=None \n",
      "[CV]  max_depth=5, max_features=sqrt, min_samples_leaf=4, n_estimators=10, n_jobs=None, total=   0.1s\n",
      "[CV] max_depth=5, max_features=sqrt, min_samples_leaf=4, n_estimators=10, n_jobs=None \n",
      "[CV]  max_depth=5, max_features=sqrt, min_samples_leaf=4, n_estimators=10, n_jobs=None, total=   0.0s\n",
      "[CV] max_depth=5, max_features=sqrt, min_samples_leaf=4, n_estimators=10, n_jobs=None \n",
      "[CV]  max_depth=5, max_features=sqrt, min_samples_leaf=4, n_estimators=10, n_jobs=None, total=   0.0s\n",
      "[CV] max_depth=5, max_features=sqrt, min_samples_leaf=4, n_estimators=10, n_jobs=None \n",
      "[CV]  max_depth=5, max_features=sqrt, min_samples_leaf=4, n_estimators=10, n_jobs=None, total=   0.0s\n",
      "[CV] max_depth=5, max_features=sqrt, min_samples_leaf=4, n_estimators=10, n_jobs=None \n",
      "[CV]  max_depth=5, max_features=sqrt, min_samples_leaf=4, n_estimators=10, n_jobs=None, total=   0.0s\n",
      "[CV] max_depth=5, max_features=sqrt, min_samples_leaf=4, n_estimators=10, n_jobs=-1 \n",
      "[CV]  max_depth=5, max_features=sqrt, min_samples_leaf=4, n_estimators=10, n_jobs=-1, total=   0.2s\n",
      "[CV] max_depth=5, max_features=sqrt, min_samples_leaf=4, n_estimators=10, n_jobs=-1 \n",
      "[CV]  max_depth=5, max_features=sqrt, min_samples_leaf=4, n_estimators=10, n_jobs=-1, total=   0.2s\n",
      "[CV] max_depth=5, max_features=sqrt, min_samples_leaf=4, n_estimators=10, n_jobs=-1 \n",
      "[CV]  max_depth=5, max_features=sqrt, min_samples_leaf=4, n_estimators=10, n_jobs=-1, total=   0.2s\n",
      "[CV] max_depth=5, max_features=sqrt, min_samples_leaf=4, n_estimators=10, n_jobs=-1 \n",
      "[CV]  max_depth=5, max_features=sqrt, min_samples_leaf=4, n_estimators=10, n_jobs=-1, total=   0.2s\n",
      "[CV] max_depth=5, max_features=sqrt, min_samples_leaf=4, n_estimators=10, n_jobs=-1 \n",
      "[CV]  max_depth=5, max_features=sqrt, min_samples_leaf=4, n_estimators=10, n_jobs=-1, total=   0.2s\n",
      "[CV] max_depth=5, max_features=sqrt, min_samples_leaf=4, n_estimators=100, n_jobs=None \n",
      "[CV]  max_depth=5, max_features=sqrt, min_samples_leaf=4, n_estimators=100, n_jobs=None, total=   0.3s\n",
      "[CV] max_depth=5, max_features=sqrt, min_samples_leaf=4, n_estimators=100, n_jobs=None \n",
      "[CV]  max_depth=5, max_features=sqrt, min_samples_leaf=4, n_estimators=100, n_jobs=None, total=   0.3s\n",
      "[CV] max_depth=5, max_features=sqrt, min_samples_leaf=4, n_estimators=100, n_jobs=None \n",
      "[CV]  max_depth=5, max_features=sqrt, min_samples_leaf=4, n_estimators=100, n_jobs=None, total=   0.3s\n",
      "[CV] max_depth=5, max_features=sqrt, min_samples_leaf=4, n_estimators=100, n_jobs=None \n",
      "[CV]  max_depth=5, max_features=sqrt, min_samples_leaf=4, n_estimators=100, n_jobs=None, total=   0.3s\n",
      "[CV] max_depth=5, max_features=sqrt, min_samples_leaf=4, n_estimators=100, n_jobs=None \n",
      "[CV]  max_depth=5, max_features=sqrt, min_samples_leaf=4, n_estimators=100, n_jobs=None, total=   0.3s\n",
      "[CV] max_depth=5, max_features=sqrt, min_samples_leaf=4, n_estimators=100, n_jobs=-1 \n",
      "[CV]  max_depth=5, max_features=sqrt, min_samples_leaf=4, n_estimators=100, n_jobs=-1, total=   0.5s\n",
      "[CV] max_depth=5, max_features=sqrt, min_samples_leaf=4, n_estimators=100, n_jobs=-1 \n",
      "[CV]  max_depth=5, max_features=sqrt, min_samples_leaf=4, n_estimators=100, n_jobs=-1, total=   0.5s\n",
      "[CV] max_depth=5, max_features=sqrt, min_samples_leaf=4, n_estimators=100, n_jobs=-1 \n",
      "[CV]  max_depth=5, max_features=sqrt, min_samples_leaf=4, n_estimators=100, n_jobs=-1, total=   0.5s\n",
      "[CV] max_depth=5, max_features=sqrt, min_samples_leaf=4, n_estimators=100, n_jobs=-1 \n",
      "[CV]  max_depth=5, max_features=sqrt, min_samples_leaf=4, n_estimators=100, n_jobs=-1, total=   0.5s\n",
      "[CV] max_depth=5, max_features=sqrt, min_samples_leaf=4, n_estimators=100, n_jobs=-1 \n",
      "[CV]  max_depth=5, max_features=sqrt, min_samples_leaf=4, n_estimators=100, n_jobs=-1, total=   0.5s\n",
      "[CV] max_depth=5, max_features=sqrt, min_samples_leaf=4, n_estimators=1000, n_jobs=None \n"
     ]
    },
    {
     "name": "stdout",
     "output_type": "stream",
     "text": [
      "[CV]  max_depth=5, max_features=sqrt, min_samples_leaf=4, n_estimators=1000, n_jobs=None, total=   2.7s\n",
      "[CV] max_depth=5, max_features=sqrt, min_samples_leaf=4, n_estimators=1000, n_jobs=None \n",
      "[CV]  max_depth=5, max_features=sqrt, min_samples_leaf=4, n_estimators=1000, n_jobs=None, total=   2.8s\n",
      "[CV] max_depth=5, max_features=sqrt, min_samples_leaf=4, n_estimators=1000, n_jobs=None \n",
      "[CV]  max_depth=5, max_features=sqrt, min_samples_leaf=4, n_estimators=1000, n_jobs=None, total=   3.0s\n",
      "[CV] max_depth=5, max_features=sqrt, min_samples_leaf=4, n_estimators=1000, n_jobs=None \n",
      "[CV]  max_depth=5, max_features=sqrt, min_samples_leaf=4, n_estimators=1000, n_jobs=None, total=   3.1s\n",
      "[CV] max_depth=5, max_features=sqrt, min_samples_leaf=4, n_estimators=1000, n_jobs=None \n",
      "[CV]  max_depth=5, max_features=sqrt, min_samples_leaf=4, n_estimators=1000, n_jobs=None, total=   2.9s\n",
      "[CV] max_depth=5, max_features=sqrt, min_samples_leaf=4, n_estimators=1000, n_jobs=-1 \n",
      "[CV]  max_depth=5, max_features=sqrt, min_samples_leaf=4, n_estimators=1000, n_jobs=-1, total=   2.6s\n",
      "[CV] max_depth=5, max_features=sqrt, min_samples_leaf=4, n_estimators=1000, n_jobs=-1 \n",
      "[CV]  max_depth=5, max_features=sqrt, min_samples_leaf=4, n_estimators=1000, n_jobs=-1, total=   2.5s\n",
      "[CV] max_depth=5, max_features=sqrt, min_samples_leaf=4, n_estimators=1000, n_jobs=-1 \n",
      "[CV]  max_depth=5, max_features=sqrt, min_samples_leaf=4, n_estimators=1000, n_jobs=-1, total=   2.6s\n",
      "[CV] max_depth=5, max_features=sqrt, min_samples_leaf=4, n_estimators=1000, n_jobs=-1 \n",
      "[CV]  max_depth=5, max_features=sqrt, min_samples_leaf=4, n_estimators=1000, n_jobs=-1, total=   2.5s\n",
      "[CV] max_depth=5, max_features=sqrt, min_samples_leaf=4, n_estimators=1000, n_jobs=-1 \n",
      "[CV]  max_depth=5, max_features=sqrt, min_samples_leaf=4, n_estimators=1000, n_jobs=-1, total=   2.6s\n"
     ]
    },
    {
     "name": "stderr",
     "output_type": "stream",
     "text": [
      "[Parallel(n_jobs=1)]: Done 360 out of 360 | elapsed:  6.7min finished\n"
     ]
    },
    {
     "data": {
      "text/plain": [
       "GridSearchCV(cv=5, error_score=nan,\n",
       "             estimator=RandomForestRegressor(bootstrap=True, ccp_alpha=0.0,\n",
       "                                             criterion='mse', max_depth=None,\n",
       "                                             max_features='auto',\n",
       "                                             max_leaf_nodes=None,\n",
       "                                             max_samples=None,\n",
       "                                             min_impurity_decrease=0.0,\n",
       "                                             min_impurity_split=None,\n",
       "                                             min_samples_leaf=1,\n",
       "                                             min_samples_split=2,\n",
       "                                             min_weight_fraction_leaf=0.0,\n",
       "                                             n_estimators=100, n_jobs=None,\n",
       "                                             oob_score=False, random_state=None,\n",
       "                                             verbose=0, warm_start=False),\n",
       "             iid='deprecated', n_jobs=None,\n",
       "             param_grid={'max_depth': [None, 5],\n",
       "                         'max_features': ['auto', 'sqrt'],\n",
       "                         'min_samples_leaf': [1, 2, 4],\n",
       "                         'n_estimators': [10, 100, 1000],\n",
       "                         'n_jobs': [None, -1]},\n",
       "             pre_dispatch='2*n_jobs', refit=True, return_train_score=False,\n",
       "             scoring=None, verbose=2)"
      ]
     },
     "execution_count": 21,
     "metadata": {},
     "output_type": "execute_result"
    }
   ],
   "source": [
    "grid = {\n",
    "    \"max_depth\": [None, 5],\n",
    "    \"n_estimators\": [10, 100, 1000],\n",
    "    \"max_features\": [\"auto\", \"sqrt\"],\n",
    "    \"min_samples_leaf\": [1, 2, 4],\n",
    "    \"n_jobs\": [None, -1]\n",
    "}\n",
    "\n",
    "gs_model = GridSearchCV(model, grid, verbose=2, cv=5)\n",
    "gs_model.fit(X_train, y_train)"
   ]
  },
  {
   "cell_type": "code",
   "execution_count": 22,
   "metadata": {},
   "outputs": [
    {
     "data": {
      "text/plain": [
       "0.999189674680681"
      ]
     },
     "execution_count": 22,
     "metadata": {},
     "output_type": "execute_result"
    }
   ],
   "source": [
    "gs_model.score(X_train, y_train)"
   ]
  },
  {
   "cell_type": "code",
   "execution_count": 23,
   "metadata": {},
   "outputs": [
    {
     "data": {
      "text/plain": [
       "0.9951505695295906"
      ]
     },
     "execution_count": 23,
     "metadata": {},
     "output_type": "execute_result"
    }
   ],
   "source": [
    "gs_model.score(X_test, y_test)"
   ]
  },
  {
   "cell_type": "code",
   "execution_count": 24,
   "metadata": {},
   "outputs": [],
   "source": [
    "y_preds_gs = gs_model.predict(X_test)"
   ]
  },
  {
   "cell_type": "code",
   "execution_count": 25,
   "metadata": {},
   "outputs": [
    {
     "data": {
      "text/plain": [
       "2.9456616290002593"
      ]
     },
     "execution_count": 25,
     "metadata": {},
     "output_type": "execute_result"
    }
   ],
   "source": [
    "mean_absolute_error(y_test, y_preds_gs)"
   ]
  },
  {
   "cell_type": "code",
   "execution_count": 26,
   "metadata": {},
   "outputs": [
    {
     "data": {
      "text/plain": [
       "{'max_depth': None,\n",
       " 'max_features': 'auto',\n",
       " 'min_samples_leaf': 1,\n",
       " 'n_estimators': 100,\n",
       " 'n_jobs': None}"
      ]
     },
     "execution_count": 26,
     "metadata": {},
     "output_type": "execute_result"
    }
   ],
   "source": [
    "gs_model.best_params_"
   ]
  },
  {
   "cell_type": "markdown",
   "metadata": {},
   "source": [
    "## Saving the model"
   ]
  },
  {
   "cell_type": "code",
   "execution_count": 31,
   "metadata": {},
   "outputs": [],
   "source": [
    "import pickle\n",
    "pickle.dump(gs_model, open(\"simple_arithmetic_model.pkl\", \"wb\"))"
   ]
  },
  {
   "cell_type": "code",
   "execution_count": null,
   "metadata": {},
   "outputs": [],
   "source": []
  }
 ],
 "metadata": {
  "kernelspec": {
   "display_name": "Python 3",
   "language": "python",
   "name": "python3"
  },
  "language_info": {
   "codemirror_mode": {
    "name": "ipython",
    "version": 3
   },
   "file_extension": ".py",
   "mimetype": "text/x-python",
   "name": "python",
   "nbconvert_exporter": "python",
   "pygments_lexer": "ipython3",
   "version": "3.7.6"
  }
 },
 "nbformat": 4,
 "nbformat_minor": 4
}
