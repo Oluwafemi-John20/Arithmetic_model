{
 "cells": [
  {
   "cell_type": "markdown",
   "metadata": {},
   "source": [
    "# Simple Arithmetic project\n",
    "**This project is aimed at train a machine learning model that performs simple arithmetic.**\n",
    "\n",
    "## Dataset\n",
    "**The dataset has four columns:**\n",
    " * first_figure -> The first number in the simple arithmetic operation.\n",
    " * Operator -> This is the operator used and it is represented as follows;\n",
    "     1. P = Addition (+)\n",
    "     2. S = Subtraction (-)\n",
    "     3. M = Multiplication (*)\n",
    "     4. D = Division (/)\n",
    " * Second_figure -> This is the second number in the simple arithmetic operation. \n",
    " * Result -> This is the result of the simple arithmetic operation.\n",
    " \n",
    "## Evaluation \n",
    "**This model is aimed at getting a minimum score(r2_score) of 0.8, and improvement will be implemented.**"
   ]
  },
  {
   "cell_type": "markdown",
   "metadata": {},
   "source": [
    "## Importing the needed packages and library\n"
   ]
  },
  {
   "cell_type": "code",
   "execution_count": 1,
   "metadata": {},
   "outputs": [],
   "source": [
    "%matplotlib inline \n",
    "import matplotlib.pyplot as plt\n",
    "import pandas as pd\n",
    "import numpy as np\n",
    "import seaborn as sns\n",
    "import sklearn"
   ]
  },
  {
   "cell_type": "code",
   "execution_count": 2,
   "metadata": {},
   "outputs": [
    {
     "data": {
      "text/html": [
       "<div>\n",
       "<style scoped>\n",
       "    .dataframe tbody tr th:only-of-type {\n",
       "        vertical-align: middle;\n",
       "    }\n",
       "\n",
       "    .dataframe tbody tr th {\n",
       "        vertical-align: top;\n",
       "    }\n",
       "\n",
       "    .dataframe thead th {\n",
       "        text-align: right;\n",
       "    }\n",
       "</style>\n",
       "<table border=\"1\" class=\"dataframe\">\n",
       "  <thead>\n",
       "    <tr style=\"text-align: right;\">\n",
       "      <th></th>\n",
       "      <th>first_figure</th>\n",
       "      <th>operator</th>\n",
       "      <th>second_figure</th>\n",
       "      <th>result</th>\n",
       "    </tr>\n",
       "  </thead>\n",
       "  <tbody>\n",
       "    <tr>\n",
       "      <th>0</th>\n",
       "      <td>2</td>\n",
       "      <td>p</td>\n",
       "      <td>2.0</td>\n",
       "      <td>4.0</td>\n",
       "    </tr>\n",
       "    <tr>\n",
       "      <th>1</th>\n",
       "      <td>5</td>\n",
       "      <td>s</td>\n",
       "      <td>3.0</td>\n",
       "      <td>2.0</td>\n",
       "    </tr>\n",
       "    <tr>\n",
       "      <th>2</th>\n",
       "      <td>4</td>\n",
       "      <td>m</td>\n",
       "      <td>2.0</td>\n",
       "      <td>8.0</td>\n",
       "    </tr>\n",
       "    <tr>\n",
       "      <th>3</th>\n",
       "      <td>3</td>\n",
       "      <td>m</td>\n",
       "      <td>6.0</td>\n",
       "      <td>18.0</td>\n",
       "    </tr>\n",
       "    <tr>\n",
       "      <th>4</th>\n",
       "      <td>5</td>\n",
       "      <td>s</td>\n",
       "      <td>6.0</td>\n",
       "      <td>1.0</td>\n",
       "    </tr>\n",
       "  </tbody>\n",
       "</table>\n",
       "</div>"
      ],
      "text/plain": [
       "   first_figure operator  second_figure  result\n",
       "0             2        p            2.0     4.0\n",
       "1             5        s            3.0     2.0\n",
       "2             4        m            2.0     8.0\n",
       "3             3        m            6.0    18.0\n",
       "4             5        s            6.0     1.0"
      ]
     },
     "execution_count": 2,
     "metadata": {},
     "output_type": "execute_result"
    }
   ],
   "source": [
    "# Importing the datasets\n",
    "df = pd.read_csv(\"./data/arithmetic.csv\")\n",
    "df.head()"
   ]
  },
  {
   "cell_type": "code",
   "execution_count": 3,
   "metadata": {},
   "outputs": [
    {
     "name": "stdout",
     "output_type": "stream",
     "text": [
      "<class 'pandas.core.frame.DataFrame'>\n",
      "RangeIndex: 199 entries, 0 to 198\n",
      "Data columns (total 4 columns):\n",
      " #   Column         Non-Null Count  Dtype  \n",
      "---  ------         --------------  -----  \n",
      " 0   first_figure   199 non-null    int64  \n",
      " 1   operator       199 non-null    object \n",
      " 2   second_figure  199 non-null    float64\n",
      " 3   result         199 non-null    float64\n",
      "dtypes: float64(2), int64(1), object(1)\n",
      "memory usage: 6.3+ KB\n"
     ]
    }
   ],
   "source": [
    "df.info()"
   ]
  },
  {
   "cell_type": "code",
   "execution_count": 4,
   "metadata": {},
   "outputs": [],
   "source": [
    "df[\"first_figure\"] = df[\"first_figure\"].astype(\"float64\")"
   ]
  },
  {
   "cell_type": "code",
   "execution_count": 5,
   "metadata": {},
   "outputs": [],
   "source": [
    "df[\"result\"] = df[\"result\"].astype(\"float64\")"
   ]
  },
  {
   "cell_type": "code",
   "execution_count": 6,
   "metadata": {},
   "outputs": [
    {
     "data": {
      "text/html": [
       "<div>\n",
       "<style scoped>\n",
       "    .dataframe tbody tr th:only-of-type {\n",
       "        vertical-align: middle;\n",
       "    }\n",
       "\n",
       "    .dataframe tbody tr th {\n",
       "        vertical-align: top;\n",
       "    }\n",
       "\n",
       "    .dataframe thead th {\n",
       "        text-align: right;\n",
       "    }\n",
       "</style>\n",
       "<table border=\"1\" class=\"dataframe\">\n",
       "  <thead>\n",
       "    <tr style=\"text-align: right;\">\n",
       "      <th></th>\n",
       "      <th>first_figure</th>\n",
       "      <th>operator</th>\n",
       "      <th>second_figure</th>\n",
       "      <th>result</th>\n",
       "    </tr>\n",
       "  </thead>\n",
       "  <tbody>\n",
       "    <tr>\n",
       "      <th>0</th>\n",
       "      <td>2.0</td>\n",
       "      <td>p</td>\n",
       "      <td>2.0</td>\n",
       "      <td>4.0</td>\n",
       "    </tr>\n",
       "    <tr>\n",
       "      <th>1</th>\n",
       "      <td>5.0</td>\n",
       "      <td>s</td>\n",
       "      <td>3.0</td>\n",
       "      <td>2.0</td>\n",
       "    </tr>\n",
       "    <tr>\n",
       "      <th>2</th>\n",
       "      <td>4.0</td>\n",
       "      <td>m</td>\n",
       "      <td>2.0</td>\n",
       "      <td>8.0</td>\n",
       "    </tr>\n",
       "    <tr>\n",
       "      <th>3</th>\n",
       "      <td>3.0</td>\n",
       "      <td>m</td>\n",
       "      <td>6.0</td>\n",
       "      <td>18.0</td>\n",
       "    </tr>\n",
       "    <tr>\n",
       "      <th>4</th>\n",
       "      <td>5.0</td>\n",
       "      <td>s</td>\n",
       "      <td>6.0</td>\n",
       "      <td>1.0</td>\n",
       "    </tr>\n",
       "  </tbody>\n",
       "</table>\n",
       "</div>"
      ],
      "text/plain": [
       "   first_figure operator  second_figure  result\n",
       "0           2.0        p            2.0     4.0\n",
       "1           5.0        s            3.0     2.0\n",
       "2           4.0        m            2.0     8.0\n",
       "3           3.0        m            6.0    18.0\n",
       "4           5.0        s            6.0     1.0"
      ]
     },
     "execution_count": 6,
     "metadata": {},
     "output_type": "execute_result"
    }
   ],
   "source": [
    "df.head()"
   ]
  },
  {
   "cell_type": "code",
   "execution_count": 7,
   "metadata": {},
   "outputs": [
    {
     "data": {
      "text/plain": [
       "(199, 4)"
      ]
     },
     "execution_count": 7,
     "metadata": {},
     "output_type": "execute_result"
    }
   ],
   "source": [
    "df.shape"
   ]
  },
  {
   "cell_type": "code",
   "execution_count": 9,
   "metadata": {},
   "outputs": [
    {
     "data": {
      "text/plain": [
       "<matplotlib.axes._subplots.AxesSubplot at 0x2197906da48>"
      ]
     },
     "execution_count": 9,
     "metadata": {},
     "output_type": "execute_result"
    },
    {
     "data": {
      "image/png": "[encoded data removed]",
      "text/plain": [
       "<Figure size 432x288 with 1 Axes>"
      ]
     },
     "metadata": {
      "needs_background": "light"
     },
     "output_type": "display_data"
    }
   ],
   "source": [
    "# Checking the distribution of various operators in the datasets\n",
    "df[\"operator\"].value_counts().plot.bar()"
   ]
  },
  {
   "cell_type": "code",
   "execution_count": 12,
   "metadata": {},
   "outputs": [],
   "source": [
    "# This will get the column with strings dtype(Operator) and will convert it to categorical variables.\n",
    "\n",
    "for label, content in df.items():\n",
    "    if pd.api.types.is_string_dtype(content):\n",
    "        df[label] = content.astype(\"category\").cat.as_ordered()\n",
    "        # This will add one to each categorical value(code) given to each categories. And change the column(Operator) to the codes\n",
    "        df[label] = pd.Categorical(content).codes + 1"
   ]
  },
  {
   "cell_type": "code",
   "execution_count": 11,
   "metadata": {},
   "outputs": [
    {
     "name": "stdout",
     "output_type": "stream",
     "text": [
      "<class 'pandas.core.frame.DataFrame'>\n",
      "RangeIndex: 199 entries, 0 to 198\n",
      "Data columns (total 4 columns):\n",
      " #   Column         Non-Null Count  Dtype  \n",
      "---  ------         --------------  -----  \n",
      " 0   first_figure   199 non-null    float64\n",
      " 1   operator       199 non-null    int8   \n",
      " 2   second_figure  199 non-null    float64\n",
      " 3   result         199 non-null    float64\n",
      "dtypes: float64(3), int8(1)\n",
      "memory usage: 5.0 KB\n"
     ]
    }
   ],
   "source": [
    "df.info()"
   ]
  },
  {
   "cell_type": "code",
   "execution_count": 19,
   "metadata": {},
   "outputs": [
    {
     "data": {
      "text/html": [
       "<div>\n",
       "<style scoped>\n",
       "    .dataframe tbody tr th:only-of-type {\n",
       "        vertical-align: middle;\n",
       "    }\n",
       "\n",
       "    .dataframe tbody tr th {\n",
       "        vertical-align: top;\n",
       "    }\n",
       "\n",
       "    .dataframe thead th {\n",
       "        text-align: right;\n",
       "    }\n",
       "</style>\n",
       "<table border=\"1\" class=\"dataframe\">\n",
       "  <thead>\n",
       "    <tr style=\"text-align: right;\">\n",
       "      <th></th>\n",
       "      <th>first_figure</th>\n",
       "      <th>operator</th>\n",
       "      <th>second_figure</th>\n",
       "      <th>result</th>\n",
       "    </tr>\n",
       "  </thead>\n",
       "  <tbody>\n",
       "    <tr>\n",
       "      <th>0</th>\n",
       "      <td>2.0</td>\n",
       "      <td>3</td>\n",
       "      <td>2.0</td>\n",
       "      <td>4.0</td>\n",
       "    </tr>\n",
       "    <tr>\n",
       "      <th>1</th>\n",
       "      <td>5.0</td>\n",
       "      <td>4</td>\n",
       "      <td>3.0</td>\n",
       "      <td>2.0</td>\n",
       "    </tr>\n",
       "    <tr>\n",
       "      <th>2</th>\n",
       "      <td>4.0</td>\n",
       "      <td>2</td>\n",
       "      <td>2.0</td>\n",
       "      <td>8.0</td>\n",
       "    </tr>\n",
       "    <tr>\n",
       "      <th>3</th>\n",
       "      <td>3.0</td>\n",
       "      <td>2</td>\n",
       "      <td>6.0</td>\n",
       "      <td>18.0</td>\n",
       "    </tr>\n",
       "    <tr>\n",
       "      <th>4</th>\n",
       "      <td>5.0</td>\n",
       "      <td>4</td>\n",
       "      <td>6.0</td>\n",
       "      <td>1.0</td>\n",
       "    </tr>\n",
       "  </tbody>\n",
       "</table>\n",
       "</div>"
      ],
      "text/plain": [
       "   first_figure  operator  second_figure  result\n",
       "0           2.0         3            2.0     4.0\n",
       "1           5.0         4            3.0     2.0\n",
       "2           4.0         2            2.0     8.0\n",
       "3           3.0         2            6.0    18.0\n",
       "4           5.0         4            6.0     1.0"
      ]
     },
     "execution_count": 19,
     "metadata": {},
     "output_type": "execute_result"
    }
   ],
   "source": [
    "df.head()"
   ]
  },
  {
   "cell_type": "code",
   "execution_count": 20,
   "metadata": {},
   "outputs": [
    {
     "data": {
      "text/plain": [
       "array([3, 4, 2, 1], dtype=int8)"
      ]
     },
     "execution_count": 20,
     "metadata": {},
     "output_type": "execute_result"
    }
   ],
   "source": [
    "df.operator.unique()"
   ]
  },
  {
   "cell_type": "markdown",
   "metadata": {},
   "source": [
    "## Modeling"
   ]
  },
  {
   "cell_type": "code",
   "execution_count": 13,
   "metadata": {},
   "outputs": [
    {
     "data": {
      "text/plain": [
       "RandomForestRegressor(bootstrap=True, ccp_alpha=0.0, criterion='mse',\n",
       "                      max_depth=None, max_features='auto', max_leaf_nodes=None,\n",
       "                      max_samples=None, min_impurity_decrease=0.0,\n",
       "                      min_impurity_split=None, min_samples_leaf=1,\n",
       "                      min_samples_split=2, min_weight_fraction_leaf=0.0,\n",
       "                      n_estimators=100, n_jobs=None, oob_score=False,\n",
       "                      random_state=None, verbose=0, warm_start=False)"
      ]
     },
     "execution_count": 13,
     "metadata": {},
     "output_type": "execute_result"
    }
   ],
   "source": [
    "# RandomForestRegressor is imported and instantiated, dataset is splited to train and test splits\n",
    "\n",
    "from sklearn.ensemble import RandomForestRegressor\n",
    "from sklearn.model_selection import train_test_split\n",
    "np.random.seed(42)\n",
    "X = df.drop(\"result\", axis =1)\n",
    "y = df.result\n",
    "\n",
    "X_train, X_test, y_train, y_test = train_test_split(X, \n",
    "                                                   y,\n",
    "                                                   test_size=0.2)\n",
    "model = RandomForestRegressor()\n",
    "model.fit(X_train, y_train)"
   ]
  },
  {
   "cell_type": "code",
   "execution_count": 14,
   "metadata": {},
   "outputs": [],
   "source": [
    "#Make predictions with the instantiated model\n",
    "y_preds = model.predict(X_test)"
   ]
  },
  {
   "cell_type": "code",
   "execution_count": 15,
   "metadata": {},
   "outputs": [
    {
     "data": {
      "text/plain": [
       "(40,)"
      ]
     },
     "execution_count": 15,
     "metadata": {},
     "output_type": "execute_result"
    }
   ],
   "source": [
    "y_preds.shape"
   ]
  },
  {
   "cell_type": "code",
   "execution_count": 16,
   "metadata": {},
   "outputs": [
    {
     "data": {
      "text/plain": [
       "(40,)"
      ]
     },
     "execution_count": 16,
     "metadata": {},
     "output_type": "execute_result"
    }
   ],
   "source": [
    "y_test.shape"
   ]
  },
  {
   "cell_type": "code",
   "execution_count": 19,
   "metadata": {},
   "outputs": [
    {
     "data": {
      "text/plain": [
       "0.968116319646442"
      ]
     },
     "execution_count": 19,
     "metadata": {},
     "output_type": "execute_result"
    }
   ],
   "source": [
    "# Evaluating the model on the training sets \n",
    "model.score(X_train, y_train)"
   ]
  },
  {
   "cell_type": "code",
   "execution_count": 20,
   "metadata": {},
   "outputs": [
    {
     "data": {
      "text/plain": [
       "0.8195842556936186"
      ]
     },
     "execution_count": 20,
     "metadata": {},
     "output_type": "execute_result"
    }
   ],
   "source": [
    "# Evaluating the model on the test size\n",
    "model.score(X_test, y_test)"
   ]
  },
  {
   "cell_type": "code",
   "execution_count": 21,
   "metadata": {},
   "outputs": [
    {
     "data": {
      "text/plain": [
       "dtype('float64')"
      ]
     },
     "execution_count": 21,
     "metadata": {},
     "output_type": "execute_result"
    }
   ],
   "source": [
    "y_preds.dtype"
   ]
  },
  {
   "cell_type": "code",
   "execution_count": 22,
   "metadata": {},
   "outputs": [
    {
     "data": {
      "text/plain": [
       "9.317327777777777"
      ]
     },
     "execution_count": 22,
     "metadata": {},
     "output_type": "execute_result"
    }
   ],
   "source": [
    "# Importing the mean_absolute_error to evaluate the model\n",
    "from sklearn.metrics import mean_absolute_error\n",
    "mae = mean_absolute_error(y_test, y_preds)\n",
    "mae"
   ]
  },
  {
   "cell_type": "code",
   "execution_count": 23,
   "metadata": {},
   "outputs": [
    {
     "data": {
      "text/plain": [
       "0.8195842556936186"
      ]
     },
     "execution_count": 23,
     "metadata": {},
     "output_type": "execute_result"
    }
   ],
   "source": [
    "from sklearn.metrics import r2_score, mean_squared_error\n",
    "y_test_mean = np.full(len(y_test), y_test.mean())\n",
    "r2_score(y_test, y_preds)"
   ]
  },
  {
   "cell_type": "code",
   "execution_count": 24,
   "metadata": {},
   "outputs": [
    {
     "data": {
      "text/plain": [
       "1.0"
      ]
     },
     "execution_count": 24,
     "metadata": {},
     "output_type": "execute_result"
    }
   ],
   "source": [
    "r2_score(y_test, y_test)"
   ]
  },
  {
   "cell_type": "code",
   "execution_count": 26,
   "metadata": {},
   "outputs": [
    {
     "data": {
      "text/plain": [
       "0.24753804579192676"
      ]
     },
     "execution_count": 26,
     "metadata": {},
     "output_type": "execute_result"
    }
   ],
   "source": [
    "#Importing and instantiating the Ridge model \n",
    "from sklearn.linear_model import Ridge\n",
    "np.random.seed(42)\n",
    "\n",
    "ridge = Ridge()\n",
    "ridge.fit(X_train, y_train)\n",
    "ridge.score(X_test, y_test)"
   ]
  },
  {
   "cell_type": "code",
   "execution_count": 27,
   "metadata": {},
   "outputs": [],
   "source": [
    "y_preds2 = ridge.predict(X_test)"
   ]
  },
  {
   "cell_type": "code",
   "execution_count": 28,
   "metadata": {},
   "outputs": [
    {
     "data": {
      "text/plain": [
       "0.24753804579192673"
      ]
     },
     "execution_count": 28,
     "metadata": {},
     "output_type": "execute_result"
    }
   ],
   "source": [
    "r2_score(y_test, y_preds2)"
   ]
  },
  {
   "cell_type": "code",
   "execution_count": 29,
   "metadata": {},
   "outputs": [
    {
     "data": {
      "text/plain": [
       "26.133193530438167"
      ]
     },
     "execution_count": 29,
     "metadata": {},
     "output_type": "execute_result"
    }
   ],
   "source": [
    "maeR = mean_absolute_error(y_test, y_preds2)\n",
    "maeR"
   ]
  },
  {
   "cell_type": "code",
   "execution_count": 30,
   "metadata": {},
   "outputs": [
    {
     "data": {
      "text/plain": [
       "<bound method BaseEstimator.get_params of RandomForestRegressor(bootstrap=True, ccp_alpha=0.0, criterion='mse',\n",
       "                      max_depth=None, max_features='auto', max_leaf_nodes=None,\n",
       "                      max_samples=None, min_impurity_decrease=0.0,\n",
       "                      min_impurity_split=None, min_samples_leaf=1,\n",
       "                      min_samples_split=2, min_weight_fraction_leaf=0.0,\n",
       "                      n_estimators=100, n_jobs=None, oob_score=False,\n",
       "                      random_state=None, verbose=0, warm_start=False)>"
      ]
     },
     "execution_count": 30,
     "metadata": {},
     "output_type": "execute_result"
    }
   ],
   "source": [
    "model.get_params"
   ]
  },
  {
   "cell_type": "markdown",
   "metadata": {},
   "source": [
    "## Hyperparameters tunning using GridSearchCV"
   ]
  },
  {
   "cell_type": "code",
   "execution_count": 46,
   "metadata": {},
   "outputs": [
    {
     "name": "stdout",
     "output_type": "stream",
     "text": [
      "Fitting 5 folds for each of 12 candidates, totalling 60 fits\n",
      "[CV] max_features=auto, min_samples_leaf=2, n_estimators=10, n_jobs=None \n",
      "[CV]  max_features=auto, min_samples_leaf=2, n_estimators=10, n_jobs=None, total=   0.0s\n",
      "[CV] max_features=auto, min_samples_leaf=2, n_estimators=10, n_jobs=None \n",
      "[CV]  max_features=auto, min_samples_leaf=2, n_estimators=10, n_jobs=None, total=   0.0s\n",
      "[CV] max_features=auto, min_samples_leaf=2, n_estimators=10, n_jobs=None \n",
      "[CV]  max_features=auto, min_samples_leaf=2, n_estimators=10, n_jobs=None, total=   0.0s\n",
      "[CV] max_features=auto, min_samples_leaf=2, n_estimators=10, n_jobs=None \n",
      "[CV]  max_features=auto, min_samples_leaf=2, n_estimators=10, n_jobs=None, total=   0.0s\n",
      "[CV] max_features=auto, min_samples_leaf=2, n_estimators=10, n_jobs=None \n",
      "[CV]  max_features=auto, min_samples_leaf=2, n_estimators=10, n_jobs=None, total=   0.0s"
     ]
    },
    {
     "name": "stderr",
     "output_type": "stream",
     "text": [
      "[Parallel(n_jobs=1)]: Using backend SequentialBackend with 1 concurrent workers.\n",
      "[Parallel(n_jobs=1)]: Done   1 out of   1 | elapsed:    0.0s remaining:    0.0s\n"
     ]
    },
    {
     "name": "stdout",
     "output_type": "stream",
     "text": [
      "\n",
      "[CV] max_features=auto, min_samples_leaf=2, n_estimators=10, n_jobs=-1 \n",
      "[CV]  max_features=auto, min_samples_leaf=2, n_estimators=10, n_jobs=-1, total=   2.5s\n",
      "[CV] max_features=auto, min_samples_leaf=2, n_estimators=10, n_jobs=-1 \n",
      "[CV]  max_features=auto, min_samples_leaf=2, n_estimators=10, n_jobs=-1, total=   0.2s\n",
      "[CV] max_features=auto, min_samples_leaf=2, n_estimators=10, n_jobs=-1 \n",
      "[CV]  max_features=auto, min_samples_leaf=2, n_estimators=10, n_jobs=-1, total=   0.2s\n",
      "[CV] max_features=auto, min_samples_leaf=2, n_estimators=10, n_jobs=-1 \n",
      "[CV]  max_features=auto, min_samples_leaf=2, n_estimators=10, n_jobs=-1, total=   0.2s\n",
      "[CV] max_features=auto, min_samples_leaf=2, n_estimators=10, n_jobs=-1 \n",
      "[CV]  max_features=auto, min_samples_leaf=2, n_estimators=10, n_jobs=-1, total=   0.2s\n",
      "[CV] max_features=auto, min_samples_leaf=2, n_estimators=100, n_jobs=None \n",
      "[CV]  max_features=auto, min_samples_leaf=2, n_estimators=100, n_jobs=None, total=   0.4s\n",
      "[CV] max_features=auto, min_samples_leaf=2, n_estimators=100, n_jobs=None \n",
      "[CV]  max_features=auto, min_samples_leaf=2, n_estimators=100, n_jobs=None, total=   0.3s\n",
      "[CV] max_features=auto, min_samples_leaf=2, n_estimators=100, n_jobs=None \n",
      "[CV]  max_features=auto, min_samples_leaf=2, n_estimators=100, n_jobs=None, total=   0.3s\n",
      "[CV] max_features=auto, min_samples_leaf=2, n_estimators=100, n_jobs=None \n",
      "[CV]  max_features=auto, min_samples_leaf=2, n_estimators=100, n_jobs=None, total=   0.3s\n",
      "[CV] max_features=auto, min_samples_leaf=2, n_estimators=100, n_jobs=None \n",
      "[CV]  max_features=auto, min_samples_leaf=2, n_estimators=100, n_jobs=None, total=   0.3s\n",
      "[CV] max_features=auto, min_samples_leaf=2, n_estimators=100, n_jobs=-1 \n",
      "[CV]  max_features=auto, min_samples_leaf=2, n_estimators=100, n_jobs=-1, total=   0.6s\n",
      "[CV] max_features=auto, min_samples_leaf=2, n_estimators=100, n_jobs=-1 \n",
      "[CV]  max_features=auto, min_samples_leaf=2, n_estimators=100, n_jobs=-1, total=   0.6s\n",
      "[CV] max_features=auto, min_samples_leaf=2, n_estimators=100, n_jobs=-1 \n",
      "[CV]  max_features=auto, min_samples_leaf=2, n_estimators=100, n_jobs=-1, total=   0.6s\n",
      "[CV] max_features=auto, min_samples_leaf=2, n_estimators=100, n_jobs=-1 \n",
      "[CV]  max_features=auto, min_samples_leaf=2, n_estimators=100, n_jobs=-1, total=   0.5s\n",
      "[CV] max_features=auto, min_samples_leaf=2, n_estimators=100, n_jobs=-1 \n",
      "[CV]  max_features=auto, min_samples_leaf=2, n_estimators=100, n_jobs=-1, total=   0.5s\n",
      "[CV] max_features=auto, min_samples_leaf=2, n_estimators=1000, n_jobs=None \n",
      "[CV]  max_features=auto, min_samples_leaf=2, n_estimators=1000, n_jobs=None, total=   2.7s\n",
      "[CV] max_features=auto, min_samples_leaf=2, n_estimators=1000, n_jobs=None \n",
      "[CV]  max_features=auto, min_samples_leaf=2, n_estimators=1000, n_jobs=None, total=   2.6s\n",
      "[CV] max_features=auto, min_samples_leaf=2, n_estimators=1000, n_jobs=None \n",
      "[CV]  max_features=auto, min_samples_leaf=2, n_estimators=1000, n_jobs=None, total=   2.9s\n",
      "[CV] max_features=auto, min_samples_leaf=2, n_estimators=1000, n_jobs=None \n",
      "[CV]  max_features=auto, min_samples_leaf=2, n_estimators=1000, n_jobs=None, total=   2.7s\n",
      "[CV] max_features=auto, min_samples_leaf=2, n_estimators=1000, n_jobs=None \n",
      "[CV]  max_features=auto, min_samples_leaf=2, n_estimators=1000, n_jobs=None, total=   2.8s\n",
      "[CV] max_features=auto, min_samples_leaf=2, n_estimators=1000, n_jobs=-1 \n",
      "[CV]  max_features=auto, min_samples_leaf=2, n_estimators=1000, n_jobs=-1, total=   2.9s\n",
      "[CV] max_features=auto, min_samples_leaf=2, n_estimators=1000, n_jobs=-1 \n",
      "[CV]  max_features=auto, min_samples_leaf=2, n_estimators=1000, n_jobs=-1, total=   2.8s\n",
      "[CV] max_features=auto, min_samples_leaf=2, n_estimators=1000, n_jobs=-1 \n",
      "[CV]  max_features=auto, min_samples_leaf=2, n_estimators=1000, n_jobs=-1, total=   2.8s\n",
      "[CV] max_features=auto, min_samples_leaf=2, n_estimators=1000, n_jobs=-1 \n",
      "[CV]  max_features=auto, min_samples_leaf=2, n_estimators=1000, n_jobs=-1, total=   2.4s\n",
      "[CV] max_features=auto, min_samples_leaf=2, n_estimators=1000, n_jobs=-1 \n",
      "[CV]  max_features=auto, min_samples_leaf=2, n_estimators=1000, n_jobs=-1, total=   2.5s\n",
      "[CV] max_features=auto, min_samples_leaf=4, n_estimators=10, n_jobs=None \n",
      "[CV]  max_features=auto, min_samples_leaf=4, n_estimators=10, n_jobs=None, total=   0.0s\n",
      "[CV] max_features=auto, min_samples_leaf=4, n_estimators=10, n_jobs=None \n",
      "[CV]  max_features=auto, min_samples_leaf=4, n_estimators=10, n_jobs=None, total=   0.0s\n",
      "[CV] max_features=auto, min_samples_leaf=4, n_estimators=10, n_jobs=None \n",
      "[CV]  max_features=auto, min_samples_leaf=4, n_estimators=10, n_jobs=None, total=   0.0s\n",
      "[CV] max_features=auto, min_samples_leaf=4, n_estimators=10, n_jobs=None \n",
      "[CV]  max_features=auto, min_samples_leaf=4, n_estimators=10, n_jobs=None, total=   0.0s\n",
      "[CV] max_features=auto, min_samples_leaf=4, n_estimators=10, n_jobs=None \n",
      "[CV]  max_features=auto, min_samples_leaf=4, n_estimators=10, n_jobs=None, total=   0.0s\n",
      "[CV] max_features=auto, min_samples_leaf=4, n_estimators=10, n_jobs=-1 \n",
      "[CV]  max_features=auto, min_samples_leaf=4, n_estimators=10, n_jobs=-1, total=   0.2s\n",
      "[CV] max_features=auto, min_samples_leaf=4, n_estimators=10, n_jobs=-1 \n",
      "[CV]  max_features=auto, min_samples_leaf=4, n_estimators=10, n_jobs=-1, total=   0.2s\n",
      "[CV] max_features=auto, min_samples_leaf=4, n_estimators=10, n_jobs=-1 \n",
      "[CV]  max_features=auto, min_samples_leaf=4, n_estimators=10, n_jobs=-1, total=   0.2s\n",
      "[CV] max_features=auto, min_samples_leaf=4, n_estimators=10, n_jobs=-1 \n",
      "[CV]  max_features=auto, min_samples_leaf=4, n_estimators=10, n_jobs=-1, total=   0.2s\n",
      "[CV] max_features=auto, min_samples_leaf=4, n_estimators=10, n_jobs=-1 \n",
      "[CV]  max_features=auto, min_samples_leaf=4, n_estimators=10, n_jobs=-1, total=   0.2s\n",
      "[CV] max_features=auto, min_samples_leaf=4, n_estimators=100, n_jobs=None \n",
      "[CV]  max_features=auto, min_samples_leaf=4, n_estimators=100, n_jobs=None, total=   0.3s\n",
      "[CV] max_features=auto, min_samples_leaf=4, n_estimators=100, n_jobs=None \n",
      "[CV]  max_features=auto, min_samples_leaf=4, n_estimators=100, n_jobs=None, total=   0.3s\n",
      "[CV] max_features=auto, min_samples_leaf=4, n_estimators=100, n_jobs=None \n",
      "[CV]  max_features=auto, min_samples_leaf=4, n_estimators=100, n_jobs=None, total=   0.3s\n",
      "[CV] max_features=auto, min_samples_leaf=4, n_estimators=100, n_jobs=None \n",
      "[CV]  max_features=auto, min_samples_leaf=4, n_estimators=100, n_jobs=None, total=   0.3s\n",
      "[CV] max_features=auto, min_samples_leaf=4, n_estimators=100, n_jobs=None \n",
      "[CV]  max_features=auto, min_samples_leaf=4, n_estimators=100, n_jobs=None, total=   0.3s\n",
      "[CV] max_features=auto, min_samples_leaf=4, n_estimators=100, n_jobs=-1 \n",
      "[CV]  max_features=auto, min_samples_leaf=4, n_estimators=100, n_jobs=-1, total=   0.5s\n",
      "[CV] max_features=auto, min_samples_leaf=4, n_estimators=100, n_jobs=-1 \n",
      "[CV]  max_features=auto, min_samples_leaf=4, n_estimators=100, n_jobs=-1, total=   0.6s\n",
      "[CV] max_features=auto, min_samples_leaf=4, n_estimators=100, n_jobs=-1 \n",
      "[CV]  max_features=auto, min_samples_leaf=4, n_estimators=100, n_jobs=-1, total=   0.5s\n",
      "[CV] max_features=auto, min_samples_leaf=4, n_estimators=100, n_jobs=-1 \n",
      "[CV]  max_features=auto, min_samples_leaf=4, n_estimators=100, n_jobs=-1, total=   0.5s\n",
      "[CV] max_features=auto, min_samples_leaf=4, n_estimators=100, n_jobs=-1 \n",
      "[CV]  max_features=auto, min_samples_leaf=4, n_estimators=100, n_jobs=-1, total=   0.5s\n",
      "[CV] max_features=auto, min_samples_leaf=4, n_estimators=1000, n_jobs=None \n",
      "[CV]  max_features=auto, min_samples_leaf=4, n_estimators=1000, n_jobs=None, total=   2.7s\n",
      "[CV] max_features=auto, min_samples_leaf=4, n_estimators=1000, n_jobs=None \n",
      "[CV]  max_features=auto, min_samples_leaf=4, n_estimators=1000, n_jobs=None, total=   2.6s\n",
      "[CV] max_features=auto, min_samples_leaf=4, n_estimators=1000, n_jobs=None \n",
      "[CV]  max_features=auto, min_samples_leaf=4, n_estimators=1000, n_jobs=None, total=   2.7s\n",
      "[CV] max_features=auto, min_samples_leaf=4, n_estimators=1000, n_jobs=None \n",
      "[CV]  max_features=auto, min_samples_leaf=4, n_estimators=1000, n_jobs=None, total=   2.6s\n",
      "[CV] max_features=auto, min_samples_leaf=4, n_estimators=1000, n_jobs=None \n",
      "[CV]  max_features=auto, min_samples_leaf=4, n_estimators=1000, n_jobs=None, total=   2.8s\n",
      "[CV] max_features=auto, min_samples_leaf=4, n_estimators=1000, n_jobs=-1 \n"
     ]
    },
    {
     "name": "stdout",
     "output_type": "stream",
     "text": [
      "[CV]  max_features=auto, min_samples_leaf=4, n_estimators=1000, n_jobs=-1, total=   3.2s\n",
      "[CV] max_features=auto, min_samples_leaf=4, n_estimators=1000, n_jobs=-1 \n",
      "[CV]  max_features=auto, min_samples_leaf=4, n_estimators=1000, n_jobs=-1, total=   3.1s\n",
      "[CV] max_features=auto, min_samples_leaf=4, n_estimators=1000, n_jobs=-1 \n",
      "[CV]  max_features=auto, min_samples_leaf=4, n_estimators=1000, n_jobs=-1, total=   2.6s\n",
      "[CV] max_features=auto, min_samples_leaf=4, n_estimators=1000, n_jobs=-1 \n",
      "[CV]  max_features=auto, min_samples_leaf=4, n_estimators=1000, n_jobs=-1, total=   2.5s\n",
      "[CV] max_features=auto, min_samples_leaf=4, n_estimators=1000, n_jobs=-1 \n",
      "[CV]  max_features=auto, min_samples_leaf=4, n_estimators=1000, n_jobs=-1, total=   2.3s\n"
     ]
    },
    {
     "name": "stderr",
     "output_type": "stream",
     "text": [
      "[Parallel(n_jobs=1)]: Done  60 out of  60 | elapsed:  1.1min finished\n"
     ]
    },
    {
     "data": {
      "text/plain": [
       "GridSearchCV(cv=5, error_score=nan,\n",
       "             estimator=RandomForestRegressor(bootstrap=True, ccp_alpha=0.0,\n",
       "                                             criterion='mse', max_depth=None,\n",
       "                                             max_features='auto',\n",
       "                                             max_leaf_nodes=None,\n",
       "                                             max_samples=None,\n",
       "                                             min_impurity_decrease=0.0,\n",
       "                                             min_impurity_split=None,\n",
       "                                             min_samples_leaf=1,\n",
       "                                             min_samples_split=2,\n",
       "                                             min_weight_fraction_leaf=0.0,\n",
       "                                             n_estimators=100, n_jobs=None,\n",
       "                                             oob_score=False, random_state=None,\n",
       "                                             verbose=0, warm_start=False),\n",
       "             iid='deprecated', n_jobs=None,\n",
       "             param_grid={'max_features': ['auto'], 'min_samples_leaf': [2, 4],\n",
       "                         'n_estimators': [10, 100, 1000],\n",
       "                         'n_jobs': [None, -1]},\n",
       "             pre_dispatch='2*n_jobs', refit=True, return_train_score=False,\n",
       "             scoring=None, verbose=2)"
      ]
     },
     "execution_count": 46,
     "metadata": {},
     "output_type": "execute_result"
    }
   ],
   "source": [
    "from sklearn.model_selection import GridSearchCV\n",
    "\n",
    "grid = {\n",
    "    \"n_estimators\": [10, 100, 1000],\n",
    "    \"min_samples_leaf\": [2, 4],\n",
    "    \"n_jobs\": [None, -1],\n",
    "    \"max_features\": [\"auto\"]\n",
    "}\n",
    "\n",
    "gs_model = GridSearchCV(model, grid, verbose=2, cv = 5)\n",
    "gs_model.fit(X_train, y_train)"
   ]
  },
  {
   "cell_type": "code",
   "execution_count": 47,
   "metadata": {},
   "outputs": [
    {
     "data": {
      "text/plain": [
       "0.8323430701532268"
      ]
     },
     "execution_count": 47,
     "metadata": {},
     "output_type": "execute_result"
    }
   ],
   "source": [
    "gs_model.score(X_test, y_test)"
   ]
  },
  {
   "cell_type": "code",
   "execution_count": 48,
   "metadata": {},
   "outputs": [
    {
     "data": {
      "text/plain": [
       "0.8195842556936186"
      ]
     },
     "execution_count": 48,
     "metadata": {},
     "output_type": "execute_result"
    }
   ],
   "source": [
    "model.score(X_test, y_test)"
   ]
  },
  {
   "cell_type": "code",
   "execution_count": 49,
   "metadata": {},
   "outputs": [],
   "source": [
    "gs_preds = gs_model.predict(X_test)\n"
   ]
  },
  {
   "cell_type": "code",
   "execution_count": 50,
   "metadata": {},
   "outputs": [
    {
     "data": {
      "text/plain": [
       "0.8323430701532268"
      ]
     },
     "execution_count": 50,
     "metadata": {},
     "output_type": "execute_result"
    }
   ],
   "source": [
    "r2_score(y_test, gs_preds)"
   ]
  },
  {
   "cell_type": "code",
   "execution_count": 52,
   "metadata": {},
   "outputs": [
    {
     "data": {
      "text/plain": [
       "8.80124176587302"
      ]
     },
     "execution_count": 52,
     "metadata": {},
     "output_type": "execute_result"
    }
   ],
   "source": [
    "gs_mae = mean_absolute_error(y_test, gs_preds)\n",
    "gs_mae"
   ]
  },
  {
   "cell_type": "code",
   "execution_count": 53,
   "metadata": {},
   "outputs": [
    {
     "data": {
      "text/plain": [
       "{'max_features': 'auto',\n",
       " 'min_samples_leaf': 2,\n",
       " 'n_estimators': 100,\n",
       " 'n_jobs': None}"
      ]
     },
     "execution_count": 53,
     "metadata": {},
     "output_type": "execute_result"
    }
   ],
   "source": [
    "gs_model.best_params_"
   ]
  },
  {
   "cell_type": "code",
   "execution_count": 54,
   "metadata": {},
   "outputs": [
    {
     "name": "stdout",
     "output_type": "stream",
     "text": [
      "Fitting 5 folds for each of 18 candidates, totalling 90 fits\n",
      "[CV] max_depth=None, max_features=auto, min_samples_leaf=1 ...........\n"
     ]
    },
    {
     "name": "stderr",
     "output_type": "stream",
     "text": [
      "[Parallel(n_jobs=1)]: Using backend SequentialBackend with 1 concurrent workers.\n"
     ]
    },
    {
     "name": "stdout",
     "output_type": "stream",
     "text": [
      "[CV]  max_depth=None, max_features=auto, min_samples_leaf=1, total=   0.4s\n",
      "[CV] max_depth=None, max_features=auto, min_samples_leaf=1 ...........\n"
     ]
    },
    {
     "name": "stderr",
     "output_type": "stream",
     "text": [
      "[Parallel(n_jobs=1)]: Done   1 out of   1 | elapsed:    0.3s remaining:    0.0s\n"
     ]
    },
    {
     "name": "stdout",
     "output_type": "stream",
     "text": [
      "[CV]  max_depth=None, max_features=auto, min_samples_leaf=1, total=   0.3s\n",
      "[CV] max_depth=None, max_features=auto, min_samples_leaf=1 ...........\n",
      "[CV]  max_depth=None, max_features=auto, min_samples_leaf=1, total=   0.3s\n",
      "[CV] max_depth=None, max_features=auto, min_samples_leaf=1 ...........\n",
      "[CV]  max_depth=None, max_features=auto, min_samples_leaf=1, total=   0.3s\n",
      "[CV] max_depth=None, max_features=auto, min_samples_leaf=1 ...........\n",
      "[CV]  max_depth=None, max_features=auto, min_samples_leaf=1, total=   0.3s\n",
      "[CV] max_depth=None, max_features=auto, min_samples_leaf=2 ...........\n",
      "[CV]  max_depth=None, max_features=auto, min_samples_leaf=2, total=   0.3s\n",
      "[CV] max_depth=None, max_features=auto, min_samples_leaf=2 ...........\n",
      "[CV]  max_depth=None, max_features=auto, min_samples_leaf=2, total=   0.3s\n",
      "[CV] max_depth=None, max_features=auto, min_samples_leaf=2 ...........\n",
      "[CV]  max_depth=None, max_features=auto, min_samples_leaf=2, total=   0.3s\n",
      "[CV] max_depth=None, max_features=auto, min_samples_leaf=2 ...........\n",
      "[CV]  max_depth=None, max_features=auto, min_samples_leaf=2, total=   0.3s\n",
      "[CV] max_depth=None, max_features=auto, min_samples_leaf=2 ...........\n",
      "[CV]  max_depth=None, max_features=auto, min_samples_leaf=2, total=   0.3s\n",
      "[CV] max_depth=None, max_features=auto, min_samples_leaf=3 ...........\n",
      "[CV]  max_depth=None, max_features=auto, min_samples_leaf=3, total=   0.3s\n",
      "[CV] max_depth=None, max_features=auto, min_samples_leaf=3 ...........\n",
      "[CV]  max_depth=None, max_features=auto, min_samples_leaf=3, total=   0.3s\n",
      "[CV] max_depth=None, max_features=auto, min_samples_leaf=3 ...........\n",
      "[CV]  max_depth=None, max_features=auto, min_samples_leaf=3, total=   0.3s\n",
      "[CV] max_depth=None, max_features=auto, min_samples_leaf=3 ...........\n",
      "[CV]  max_depth=None, max_features=auto, min_samples_leaf=3, total=   0.3s\n",
      "[CV] max_depth=None, max_features=auto, min_samples_leaf=3 ...........\n",
      "[CV]  max_depth=None, max_features=auto, min_samples_leaf=3, total=   0.4s\n",
      "[CV] max_depth=None, max_features=sqrt, min_samples_leaf=1 ...........\n",
      "[CV]  max_depth=None, max_features=sqrt, min_samples_leaf=1, total=   0.3s\n",
      "[CV] max_depth=None, max_features=sqrt, min_samples_leaf=1 ...........\n",
      "[CV]  max_depth=None, max_features=sqrt, min_samples_leaf=1, total=   0.3s\n",
      "[CV] max_depth=None, max_features=sqrt, min_samples_leaf=1 ...........\n",
      "[CV]  max_depth=None, max_features=sqrt, min_samples_leaf=1, total=   0.3s\n",
      "[CV] max_depth=None, max_features=sqrt, min_samples_leaf=1 ...........\n",
      "[CV]  max_depth=None, max_features=sqrt, min_samples_leaf=1, total=   0.3s\n",
      "[CV] max_depth=None, max_features=sqrt, min_samples_leaf=1 ...........\n",
      "[CV]  max_depth=None, max_features=sqrt, min_samples_leaf=1, total=   0.3s\n",
      "[CV] max_depth=None, max_features=sqrt, min_samples_leaf=2 ...........\n",
      "[CV]  max_depth=None, max_features=sqrt, min_samples_leaf=2, total=   0.3s\n",
      "[CV] max_depth=None, max_features=sqrt, min_samples_leaf=2 ...........\n",
      "[CV]  max_depth=None, max_features=sqrt, min_samples_leaf=2, total=   0.3s\n",
      "[CV] max_depth=None, max_features=sqrt, min_samples_leaf=2 ...........\n",
      "[CV]  max_depth=None, max_features=sqrt, min_samples_leaf=2, total=   0.3s\n",
      "[CV] max_depth=None, max_features=sqrt, min_samples_leaf=2 ...........\n",
      "[CV]  max_depth=None, max_features=sqrt, min_samples_leaf=2, total=   0.3s\n",
      "[CV] max_depth=None, max_features=sqrt, min_samples_leaf=2 ...........\n",
      "[CV]  max_depth=None, max_features=sqrt, min_samples_leaf=2, total=   0.3s\n",
      "[CV] max_depth=None, max_features=sqrt, min_samples_leaf=3 ...........\n",
      "[CV]  max_depth=None, max_features=sqrt, min_samples_leaf=3, total=   0.3s\n",
      "[CV] max_depth=None, max_features=sqrt, min_samples_leaf=3 ...........\n",
      "[CV]  max_depth=None, max_features=sqrt, min_samples_leaf=3, total=   0.3s\n",
      "[CV] max_depth=None, max_features=sqrt, min_samples_leaf=3 ...........\n",
      "[CV]  max_depth=None, max_features=sqrt, min_samples_leaf=3, total=   0.3s\n",
      "[CV] max_depth=None, max_features=sqrt, min_samples_leaf=3 ...........\n",
      "[CV]  max_depth=None, max_features=sqrt, min_samples_leaf=3, total=   0.3s\n",
      "[CV] max_depth=None, max_features=sqrt, min_samples_leaf=3 ...........\n",
      "[CV]  max_depth=None, max_features=sqrt, min_samples_leaf=3, total=   0.3s\n",
      "[CV] max_depth=None, max_features=log2, min_samples_leaf=1 ...........\n",
      "[CV]  max_depth=None, max_features=log2, min_samples_leaf=1, total=   0.3s\n",
      "[CV] max_depth=None, max_features=log2, min_samples_leaf=1 ...........\n",
      "[CV]  max_depth=None, max_features=log2, min_samples_leaf=1, total=   0.3s\n",
      "[CV] max_depth=None, max_features=log2, min_samples_leaf=1 ...........\n",
      "[CV]  max_depth=None, max_features=log2, min_samples_leaf=1, total=   0.3s\n",
      "[CV] max_depth=None, max_features=log2, min_samples_leaf=1 ...........\n",
      "[CV]  max_depth=None, max_features=log2, min_samples_leaf=1, total=   0.3s\n",
      "[CV] max_depth=None, max_features=log2, min_samples_leaf=1 ...........\n",
      "[CV]  max_depth=None, max_features=log2, min_samples_leaf=1, total=   0.3s\n",
      "[CV] max_depth=None, max_features=log2, min_samples_leaf=2 ...........\n",
      "[CV]  max_depth=None, max_features=log2, min_samples_leaf=2, total=   0.3s\n",
      "[CV] max_depth=None, max_features=log2, min_samples_leaf=2 ...........\n",
      "[CV]  max_depth=None, max_features=log2, min_samples_leaf=2, total=   0.3s\n",
      "[CV] max_depth=None, max_features=log2, min_samples_leaf=2 ...........\n",
      "[CV]  max_depth=None, max_features=log2, min_samples_leaf=2, total=   0.3s\n",
      "[CV] max_depth=None, max_features=log2, min_samples_leaf=2 ...........\n",
      "[CV]  max_depth=None, max_features=log2, min_samples_leaf=2, total=   0.3s\n",
      "[CV] max_depth=None, max_features=log2, min_samples_leaf=2 ...........\n",
      "[CV]  max_depth=None, max_features=log2, min_samples_leaf=2, total=   0.3s\n",
      "[CV] max_depth=None, max_features=log2, min_samples_leaf=3 ...........\n",
      "[CV]  max_depth=None, max_features=log2, min_samples_leaf=3, total=   0.3s\n",
      "[CV] max_depth=None, max_features=log2, min_samples_leaf=3 ...........\n",
      "[CV]  max_depth=None, max_features=log2, min_samples_leaf=3, total=   0.3s\n",
      "[CV] max_depth=None, max_features=log2, min_samples_leaf=3 ...........\n",
      "[CV]  max_depth=None, max_features=log2, min_samples_leaf=3, total=   0.3s\n",
      "[CV] max_depth=None, max_features=log2, min_samples_leaf=3 ...........\n",
      "[CV]  max_depth=None, max_features=log2, min_samples_leaf=3, total=   0.3s\n",
      "[CV] max_depth=None, max_features=log2, min_samples_leaf=3 ...........\n",
      "[CV]  max_depth=None, max_features=log2, min_samples_leaf=3, total=   0.3s\n",
      "[CV] max_depth=5, max_features=auto, min_samples_leaf=1 ..............\n",
      "[CV]  max_depth=5, max_features=auto, min_samples_leaf=1, total=   0.3s\n",
      "[CV] max_depth=5, max_features=auto, min_samples_leaf=1 ..............\n",
      "[CV]  max_depth=5, max_features=auto, min_samples_leaf=1, total=   0.2s\n",
      "[CV] max_depth=5, max_features=auto, min_samples_leaf=1 ..............\n",
      "[CV]  max_depth=5, max_features=auto, min_samples_leaf=1, total=   0.2s\n",
      "[CV] max_depth=5, max_features=auto, min_samples_leaf=1 ..............\n",
      "[CV]  max_depth=5, max_features=auto, min_samples_leaf=1, total=   0.3s\n",
      "[CV] max_depth=5, max_features=auto, min_samples_leaf=1 ..............\n",
      "[CV]  max_depth=5, max_features=auto, min_samples_leaf=1, total=   0.3s\n",
      "[CV] max_depth=5, max_features=auto, min_samples_leaf=2 ..............\n",
      "[CV]  max_depth=5, max_features=auto, min_samples_leaf=2, total=   0.3s\n",
      "[CV] max_depth=5, max_features=auto, min_samples_leaf=2 ..............\n",
      "[CV]  max_depth=5, max_features=auto, min_samples_leaf=2, total=   0.3s\n",
      "[CV] max_depth=5, max_features=auto, min_samples_leaf=2 ..............\n",
      "[CV]  max_depth=5, max_features=auto, min_samples_leaf=2, total=   0.3s\n",
      "[CV] max_depth=5, max_features=auto, min_samples_leaf=2 ..............\n",
      "[CV]  max_depth=5, max_features=auto, min_samples_leaf=2, total=   0.3s\n",
      "[CV] max_depth=5, max_features=auto, min_samples_leaf=2 ..............\n",
      "[CV]  max_depth=5, max_features=auto, min_samples_leaf=2, total=   0.4s\n",
      "[CV] max_depth=5, max_features=auto, min_samples_leaf=3 ..............\n",
      "[CV]  max_depth=5, max_features=auto, min_samples_leaf=3, total=   0.3s\n",
      "[CV] max_depth=5, max_features=auto, min_samples_leaf=3 ..............\n",
      "[CV]  max_depth=5, max_features=auto, min_samples_leaf=3, total=   0.3s\n",
      "[CV] max_depth=5, max_features=auto, min_samples_leaf=3 ..............\n",
      "[CV]  max_depth=5, max_features=auto, min_samples_leaf=3, total=   0.3s\n",
      "[CV] max_depth=5, max_features=auto, min_samples_leaf=3 ..............\n"
     ]
    },
    {
     "name": "stdout",
     "output_type": "stream",
     "text": [
      "[CV]  max_depth=5, max_features=auto, min_samples_leaf=3, total=   0.3s\n",
      "[CV] max_depth=5, max_features=auto, min_samples_leaf=3 ..............\n",
      "[CV]  max_depth=5, max_features=auto, min_samples_leaf=3, total=   0.3s\n",
      "[CV] max_depth=5, max_features=sqrt, min_samples_leaf=1 ..............\n",
      "[CV]  max_depth=5, max_features=sqrt, min_samples_leaf=1, total=   0.3s\n",
      "[CV] max_depth=5, max_features=sqrt, min_samples_leaf=1 ..............\n",
      "[CV]  max_depth=5, max_features=sqrt, min_samples_leaf=1, total=   0.3s\n",
      "[CV] max_depth=5, max_features=sqrt, min_samples_leaf=1 ..............\n",
      "[CV]  max_depth=5, max_features=sqrt, min_samples_leaf=1, total=   0.3s\n",
      "[CV] max_depth=5, max_features=sqrt, min_samples_leaf=1 ..............\n",
      "[CV]  max_depth=5, max_features=sqrt, min_samples_leaf=1, total=   0.3s\n",
      "[CV] max_depth=5, max_features=sqrt, min_samples_leaf=1 ..............\n",
      "[CV]  max_depth=5, max_features=sqrt, min_samples_leaf=1, total=   0.3s\n",
      "[CV] max_depth=5, max_features=sqrt, min_samples_leaf=2 ..............\n",
      "[CV]  max_depth=5, max_features=sqrt, min_samples_leaf=2, total=   0.3s\n",
      "[CV] max_depth=5, max_features=sqrt, min_samples_leaf=2 ..............\n",
      "[CV]  max_depth=5, max_features=sqrt, min_samples_leaf=2, total=   0.3s\n",
      "[CV] max_depth=5, max_features=sqrt, min_samples_leaf=2 ..............\n",
      "[CV]  max_depth=5, max_features=sqrt, min_samples_leaf=2, total=   0.3s\n",
      "[CV] max_depth=5, max_features=sqrt, min_samples_leaf=2 ..............\n",
      "[CV]  max_depth=5, max_features=sqrt, min_samples_leaf=2, total=   0.4s\n",
      "[CV] max_depth=5, max_features=sqrt, min_samples_leaf=2 ..............\n",
      "[CV]  max_depth=5, max_features=sqrt, min_samples_leaf=2, total=   0.3s\n",
      "[CV] max_depth=5, max_features=sqrt, min_samples_leaf=3 ..............\n",
      "[CV]  max_depth=5, max_features=sqrt, min_samples_leaf=3, total=   0.3s\n",
      "[CV] max_depth=5, max_features=sqrt, min_samples_leaf=3 ..............\n",
      "[CV]  max_depth=5, max_features=sqrt, min_samples_leaf=3, total=   0.3s\n",
      "[CV] max_depth=5, max_features=sqrt, min_samples_leaf=3 ..............\n",
      "[CV]  max_depth=5, max_features=sqrt, min_samples_leaf=3, total=   0.3s\n",
      "[CV] max_depth=5, max_features=sqrt, min_samples_leaf=3 ..............\n",
      "[CV]  max_depth=5, max_features=sqrt, min_samples_leaf=3, total=   0.3s\n",
      "[CV] max_depth=5, max_features=sqrt, min_samples_leaf=3 ..............\n",
      "[CV]  max_depth=5, max_features=sqrt, min_samples_leaf=3, total=   0.3s\n",
      "[CV] max_depth=5, max_features=log2, min_samples_leaf=1 ..............\n",
      "[CV]  max_depth=5, max_features=log2, min_samples_leaf=1, total=   0.3s\n",
      "[CV] max_depth=5, max_features=log2, min_samples_leaf=1 ..............\n",
      "[CV]  max_depth=5, max_features=log2, min_samples_leaf=1, total=   0.4s\n",
      "[CV] max_depth=5, max_features=log2, min_samples_leaf=1 ..............\n",
      "[CV]  max_depth=5, max_features=log2, min_samples_leaf=1, total=   0.3s\n",
      "[CV] max_depth=5, max_features=log2, min_samples_leaf=1 ..............\n",
      "[CV]  max_depth=5, max_features=log2, min_samples_leaf=1, total=   0.3s\n",
      "[CV] max_depth=5, max_features=log2, min_samples_leaf=1 ..............\n",
      "[CV]  max_depth=5, max_features=log2, min_samples_leaf=1, total=   0.3s\n",
      "[CV] max_depth=5, max_features=log2, min_samples_leaf=2 ..............\n",
      "[CV]  max_depth=5, max_features=log2, min_samples_leaf=2, total=   0.3s\n",
      "[CV] max_depth=5, max_features=log2, min_samples_leaf=2 ..............\n",
      "[CV]  max_depth=5, max_features=log2, min_samples_leaf=2, total=   0.3s\n",
      "[CV] max_depth=5, max_features=log2, min_samples_leaf=2 ..............\n",
      "[CV]  max_depth=5, max_features=log2, min_samples_leaf=2, total=   0.3s\n",
      "[CV] max_depth=5, max_features=log2, min_samples_leaf=2 ..............\n",
      "[CV]  max_depth=5, max_features=log2, min_samples_leaf=2, total=   0.3s\n",
      "[CV] max_depth=5, max_features=log2, min_samples_leaf=2 ..............\n",
      "[CV]  max_depth=5, max_features=log2, min_samples_leaf=2, total=   0.3s\n",
      "[CV] max_depth=5, max_features=log2, min_samples_leaf=3 ..............\n",
      "[CV]  max_depth=5, max_features=log2, min_samples_leaf=3, total=   0.3s\n",
      "[CV] max_depth=5, max_features=log2, min_samples_leaf=3 ..............\n",
      "[CV]  max_depth=5, max_features=log2, min_samples_leaf=3, total=   0.3s\n",
      "[CV] max_depth=5, max_features=log2, min_samples_leaf=3 ..............\n",
      "[CV]  max_depth=5, max_features=log2, min_samples_leaf=3, total=   0.3s\n",
      "[CV] max_depth=5, max_features=log2, min_samples_leaf=3 ..............\n",
      "[CV]  max_depth=5, max_features=log2, min_samples_leaf=3, total=   0.3s\n",
      "[CV] max_depth=5, max_features=log2, min_samples_leaf=3 ..............\n",
      "[CV]  max_depth=5, max_features=log2, min_samples_leaf=3, total=   0.3s\n"
     ]
    },
    {
     "name": "stderr",
     "output_type": "stream",
     "text": [
      "[Parallel(n_jobs=1)]: Done  90 out of  90 | elapsed:   25.6s finished\n"
     ]
    },
    {
     "data": {
      "text/plain": [
       "GridSearchCV(cv=5, error_score=nan,\n",
       "             estimator=RandomForestRegressor(bootstrap=True, ccp_alpha=0.0,\n",
       "                                             criterion='mse', max_depth=None,\n",
       "                                             max_features='auto',\n",
       "                                             max_leaf_nodes=None,\n",
       "                                             max_samples=None,\n",
       "                                             min_impurity_decrease=0.0,\n",
       "                                             min_impurity_split=None,\n",
       "                                             min_samples_leaf=1,\n",
       "                                             min_samples_split=2,\n",
       "                                             min_weight_fraction_leaf=0.0,\n",
       "                                             n_estimators=100, n_jobs=None,\n",
       "                                             oob_score=False, random_state=None,\n",
       "                                             verbose=0, warm_start=False),\n",
       "             iid='deprecated', n_jobs=None,\n",
       "             param_grid={'max_depth': [None, 5],\n",
       "                         'max_features': ['auto', 'sqrt', 'log2'],\n",
       "                         'min_samples_leaf': [1, 2, 3]},\n",
       "             pre_dispatch='2*n_jobs', refit=True, return_train_score=False,\n",
       "             scoring=None, verbose=2)"
      ]
     },
     "execution_count": 54,
     "metadata": {},
     "output_type": "execute_result"
    }
   ],
   "source": [
    "grid2 = {\n",
    "    \"max_depth\": [None, 5],\n",
    "    \"min_samples_leaf\": [1, 2, 3],\n",
    "    \"max_features\": [\"auto\", \"sqrt\", \"log2\"]\n",
    "}\n",
    "\n",
    "gs2_model = GridSearchCV(model, grid2, verbose =2, cv=5)\n",
    "gs2_model.fit(X_train, y_train)"
   ]
  },
  {
   "cell_type": "code",
   "execution_count": 55,
   "metadata": {},
   "outputs": [
    {
     "data": {
      "text/plain": [
       "0.9603885635231668"
      ]
     },
     "execution_count": 55,
     "metadata": {},
     "output_type": "execute_result"
    }
   ],
   "source": [
    "gs2_model.score(X_train, y_train)"
   ]
  },
  {
   "cell_type": "code",
   "execution_count": 56,
   "metadata": {},
   "outputs": [
    {
     "data": {
      "text/plain": [
       "0.7901234088150221"
      ]
     },
     "execution_count": 56,
     "metadata": {},
     "output_type": "execute_result"
    }
   ],
   "source": [
    "gs2_model.score(X_test, y_test)"
   ]
  },
  {
   "cell_type": "code",
   "execution_count": 57,
   "metadata": {},
   "outputs": [
    {
     "data": {
      "text/plain": [
       "{'max_depth': None, 'max_features': 'sqrt', 'min_samples_leaf': 1}"
      ]
     },
     "execution_count": 57,
     "metadata": {},
     "output_type": "execute_result"
    }
   ],
   "source": [
    "gs2_model.best_params_"
   ]
  },
  {
   "cell_type": "code",
   "execution_count": 58,
   "metadata": {},
   "outputs": [
    {
     "name": "stdout",
     "output_type": "stream",
     "text": [
      "Fitting 5 folds for each of 72 candidates, totalling 360 fits\n",
      "[CV] max_depth=None, max_features=auto, min_samples_leaf=1, n_estimators=10, n_jobs=None \n",
      "[CV]  max_depth=None, max_features=auto, min_samples_leaf=1, n_estimators=10, n_jobs=None, total=   0.0s\n",
      "[CV] max_depth=None, max_features=auto, min_samples_leaf=1, n_estimators=10, n_jobs=None \n",
      "[CV]  max_depth=None, max_features=auto, min_samples_leaf=1, n_estimators=10, n_jobs=None, total=   0.0s\n",
      "[CV] max_depth=None, max_features=auto, min_samples_leaf=1, n_estimators=10, n_jobs=None \n",
      "[CV]  max_depth=None, max_features=auto, min_samples_leaf=1, n_estimators=10, n_jobs=None, total=   0.0s\n",
      "[CV] max_depth=None, max_features=auto, min_samples_leaf=1, n_estimators=10, n_jobs=None \n",
      "[CV]  max_depth=None, max_features=auto, min_samples_leaf=1, n_estimators=10, n_jobs=None, total=   0.0s\n",
      "[CV] max_depth=None, max_features=auto, min_samples_leaf=1, n_estimators=10, n_jobs=None \n",
      "[CV]  max_depth=None, max_features=auto, min_samples_leaf=1, n_estimators=10, n_jobs=None, total=   0.0s\n",
      "[CV] max_depth=None, max_features=auto, min_samples_leaf=1, n_estimators=10, n_jobs=-1 \n"
     ]
    },
    {
     "name": "stderr",
     "output_type": "stream",
     "text": [
      "[Parallel(n_jobs=1)]: Using backend SequentialBackend with 1 concurrent workers.\n",
      "[Parallel(n_jobs=1)]: Done   1 out of   1 | elapsed:    0.0s remaining:    0.0s\n"
     ]
    },
    {
     "name": "stdout",
     "output_type": "stream",
     "text": [
      "[CV]  max_depth=None, max_features=auto, min_samples_leaf=1, n_estimators=10, n_jobs=-1, total=   2.2s\n",
      "[CV] max_depth=None, max_features=auto, min_samples_leaf=1, n_estimators=10, n_jobs=-1 \n",
      "[CV]  max_depth=None, max_features=auto, min_samples_leaf=1, n_estimators=10, n_jobs=-1, total=   0.2s\n",
      "[CV] max_depth=None, max_features=auto, min_samples_leaf=1, n_estimators=10, n_jobs=-1 \n",
      "[CV]  max_depth=None, max_features=auto, min_samples_leaf=1, n_estimators=10, n_jobs=-1, total=   0.2s\n",
      "[CV] max_depth=None, max_features=auto, min_samples_leaf=1, n_estimators=10, n_jobs=-1 \n",
      "[CV]  max_depth=None, max_features=auto, min_samples_leaf=1, n_estimators=10, n_jobs=-1, total=   0.2s\n",
      "[CV] max_depth=None, max_features=auto, min_samples_leaf=1, n_estimators=10, n_jobs=-1 \n",
      "[CV]  max_depth=None, max_features=auto, min_samples_leaf=1, n_estimators=10, n_jobs=-1, total=   0.2s\n",
      "[CV] max_depth=None, max_features=auto, min_samples_leaf=1, n_estimators=100, n_jobs=None \n",
      "[CV]  max_depth=None, max_features=auto, min_samples_leaf=1, n_estimators=100, n_jobs=None, total=   0.4s\n",
      "[CV] max_depth=None, max_features=auto, min_samples_leaf=1, n_estimators=100, n_jobs=None \n",
      "[CV]  max_depth=None, max_features=auto, min_samples_leaf=1, n_estimators=100, n_jobs=None, total=   0.3s\n",
      "[CV] max_depth=None, max_features=auto, min_samples_leaf=1, n_estimators=100, n_jobs=None \n",
      "[CV]  max_depth=None, max_features=auto, min_samples_leaf=1, n_estimators=100, n_jobs=None, total=   0.3s\n",
      "[CV] max_depth=None, max_features=auto, min_samples_leaf=1, n_estimators=100, n_jobs=None \n",
      "[CV]  max_depth=None, max_features=auto, min_samples_leaf=1, n_estimators=100, n_jobs=None, total=   0.3s\n",
      "[CV] max_depth=None, max_features=auto, min_samples_leaf=1, n_estimators=100, n_jobs=None \n",
      "[CV]  max_depth=None, max_features=auto, min_samples_leaf=1, n_estimators=100, n_jobs=None, total=   0.3s\n",
      "[CV] max_depth=None, max_features=auto, min_samples_leaf=1, n_estimators=100, n_jobs=-1 \n",
      "[CV]  max_depth=None, max_features=auto, min_samples_leaf=1, n_estimators=100, n_jobs=-1, total=   0.5s\n",
      "[CV] max_depth=None, max_features=auto, min_samples_leaf=1, n_estimators=100, n_jobs=-1 \n",
      "[CV]  max_depth=None, max_features=auto, min_samples_leaf=1, n_estimators=100, n_jobs=-1, total=   0.8s\n",
      "[CV] max_depth=None, max_features=auto, min_samples_leaf=1, n_estimators=100, n_jobs=-1 \n",
      "[CV]  max_depth=None, max_features=auto, min_samples_leaf=1, n_estimators=100, n_jobs=-1, total=   0.8s\n",
      "[CV] max_depth=None, max_features=auto, min_samples_leaf=1, n_estimators=100, n_jobs=-1 \n",
      "[CV]  max_depth=None, max_features=auto, min_samples_leaf=1, n_estimators=100, n_jobs=-1, total=   0.5s\n",
      "[CV] max_depth=None, max_features=auto, min_samples_leaf=1, n_estimators=100, n_jobs=-1 \n",
      "[CV]  max_depth=None, max_features=auto, min_samples_leaf=1, n_estimators=100, n_jobs=-1, total=   0.6s\n",
      "[CV] max_depth=None, max_features=auto, min_samples_leaf=1, n_estimators=1000, n_jobs=None \n",
      "[CV]  max_depth=None, max_features=auto, min_samples_leaf=1, n_estimators=1000, n_jobs=None, total=   3.0s\n",
      "[CV] max_depth=None, max_features=auto, min_samples_leaf=1, n_estimators=1000, n_jobs=None \n",
      "[CV]  max_depth=None, max_features=auto, min_samples_leaf=1, n_estimators=1000, n_jobs=None, total=   2.7s\n",
      "[CV] max_depth=None, max_features=auto, min_samples_leaf=1, n_estimators=1000, n_jobs=None \n",
      "[CV]  max_depth=None, max_features=auto, min_samples_leaf=1, n_estimators=1000, n_jobs=None, total=   2.7s\n",
      "[CV] max_depth=None, max_features=auto, min_samples_leaf=1, n_estimators=1000, n_jobs=None \n",
      "[CV]  max_depth=None, max_features=auto, min_samples_leaf=1, n_estimators=1000, n_jobs=None, total=   2.8s\n",
      "[CV] max_depth=None, max_features=auto, min_samples_leaf=1, n_estimators=1000, n_jobs=None \n",
      "[CV]  max_depth=None, max_features=auto, min_samples_leaf=1, n_estimators=1000, n_jobs=None, total=   2.7s\n",
      "[CV] max_depth=None, max_features=auto, min_samples_leaf=1, n_estimators=1000, n_jobs=-1 \n",
      "[CV]  max_depth=None, max_features=auto, min_samples_leaf=1, n_estimators=1000, n_jobs=-1, total=   2.3s\n",
      "[CV] max_depth=None, max_features=auto, min_samples_leaf=1, n_estimators=1000, n_jobs=-1 \n",
      "[CV]  max_depth=None, max_features=auto, min_samples_leaf=1, n_estimators=1000, n_jobs=-1, total=   2.5s\n",
      "[CV] max_depth=None, max_features=auto, min_samples_leaf=1, n_estimators=1000, n_jobs=-1 \n",
      "[CV]  max_depth=None, max_features=auto, min_samples_leaf=1, n_estimators=1000, n_jobs=-1, total=   2.5s\n",
      "[CV] max_depth=None, max_features=auto, min_samples_leaf=1, n_estimators=1000, n_jobs=-1 \n",
      "[CV]  max_depth=None, max_features=auto, min_samples_leaf=1, n_estimators=1000, n_jobs=-1, total=   2.5s\n",
      "[CV] max_depth=None, max_features=auto, min_samples_leaf=1, n_estimators=1000, n_jobs=-1 \n",
      "[CV]  max_depth=None, max_features=auto, min_samples_leaf=1, n_estimators=1000, n_jobs=-1, total=   2.6s\n",
      "[CV] max_depth=None, max_features=auto, min_samples_leaf=2, n_estimators=10, n_jobs=None \n",
      "[CV]  max_depth=None, max_features=auto, min_samples_leaf=2, n_estimators=10, n_jobs=None, total=   0.0s\n",
      "[CV] max_depth=None, max_features=auto, min_samples_leaf=2, n_estimators=10, n_jobs=None \n",
      "[CV]  max_depth=None, max_features=auto, min_samples_leaf=2, n_estimators=10, n_jobs=None, total=   0.0s\n",
      "[CV] max_depth=None, max_features=auto, min_samples_leaf=2, n_estimators=10, n_jobs=None \n",
      "[CV]  max_depth=None, max_features=auto, min_samples_leaf=2, n_estimators=10, n_jobs=None, total=   0.0s\n",
      "[CV] max_depth=None, max_features=auto, min_samples_leaf=2, n_estimators=10, n_jobs=None \n",
      "[CV]  max_depth=None, max_features=auto, min_samples_leaf=2, n_estimators=10, n_jobs=None, total=   0.0s\n",
      "[CV] max_depth=None, max_features=auto, min_samples_leaf=2, n_estimators=10, n_jobs=None \n",
      "[CV]  max_depth=None, max_features=auto, min_samples_leaf=2, n_estimators=10, n_jobs=None, total=   0.0s\n",
      "[CV] max_depth=None, max_features=auto, min_samples_leaf=2, n_estimators=10, n_jobs=-1 \n",
      "[CV]  max_depth=None, max_features=auto, min_samples_leaf=2, n_estimators=10, n_jobs=-1, total=   0.2s\n",
      "[CV] max_depth=None, max_features=auto, min_samples_leaf=2, n_estimators=10, n_jobs=-1 \n",
      "[CV]  max_depth=None, max_features=auto, min_samples_leaf=2, n_estimators=10, n_jobs=-1, total=   0.2s\n",
      "[CV] max_depth=None, max_features=auto, min_samples_leaf=2, n_estimators=10, n_jobs=-1 \n",
      "[CV]  max_depth=None, max_features=auto, min_samples_leaf=2, n_estimators=10, n_jobs=-1, total=   0.2s\n",
      "[CV] max_depth=None, max_features=auto, min_samples_leaf=2, n_estimators=10, n_jobs=-1 \n",
      "[CV]  max_depth=None, max_features=auto, min_samples_leaf=2, n_estimators=10, n_jobs=-1, total=   0.2s\n",
      "[CV] max_depth=None, max_features=auto, min_samples_leaf=2, n_estimators=10, n_jobs=-1 \n",
      "[CV]  max_depth=None, max_features=auto, min_samples_leaf=2, n_estimators=10, n_jobs=-1, total=   0.2s\n",
      "[CV] max_depth=None, max_features=auto, min_samples_leaf=2, n_estimators=100, n_jobs=None \n",
      "[CV]  max_depth=None, max_features=auto, min_samples_leaf=2, n_estimators=100, n_jobs=None, total=   0.3s\n",
      "[CV] max_depth=None, max_features=auto, min_samples_leaf=2, n_estimators=100, n_jobs=None \n",
      "[CV]  max_depth=None, max_features=auto, min_samples_leaf=2, n_estimators=100, n_jobs=None, total=   0.3s\n",
      "[CV] max_depth=None, max_features=auto, min_samples_leaf=2, n_estimators=100, n_jobs=None \n",
      "[CV]  max_depth=None, max_features=auto, min_samples_leaf=2, n_estimators=100, n_jobs=None, total=   0.3s\n",
      "[CV] max_depth=None, max_features=auto, min_samples_leaf=2, n_estimators=100, n_jobs=None \n",
      "[CV]  max_depth=None, max_features=auto, min_samples_leaf=2, n_estimators=100, n_jobs=None, total=   0.3s\n",
      "[CV] max_depth=None, max_features=auto, min_samples_leaf=2, n_estimators=100, n_jobs=None \n",
      "[CV]  max_depth=None, max_features=auto, min_samples_leaf=2, n_estimators=100, n_jobs=None, total=   0.3s\n",
      "[CV] max_depth=None, max_features=auto, min_samples_leaf=2, n_estimators=100, n_jobs=-1 \n",
      "[CV]  max_depth=None, max_features=auto, min_samples_leaf=2, n_estimators=100, n_jobs=-1, total=   0.5s\n",
      "[CV] max_depth=None, max_features=auto, min_samples_leaf=2, n_estimators=100, n_jobs=-1 \n",
      "[CV]  max_depth=None, max_features=auto, min_samples_leaf=2, n_estimators=100, n_jobs=-1, total=   0.6s\n",
      "[CV] max_depth=None, max_features=auto, min_samples_leaf=2, n_estimators=100, n_jobs=-1 \n",
      "[CV]  max_depth=None, max_features=auto, min_samples_leaf=2, n_estimators=100, n_jobs=-1, total=   0.5s\n",
      "[CV] max_depth=None, max_features=auto, min_samples_leaf=2, n_estimators=100, n_jobs=-1 \n"
     ]
    },
    {
     "name": "stdout",
     "output_type": "stream",
     "text": [
      "[CV]  max_depth=None, max_features=auto, min_samples_leaf=2, n_estimators=100, n_jobs=-1, total=   0.5s\n",
      "[CV] max_depth=None, max_features=auto, min_samples_leaf=2, n_estimators=100, n_jobs=-1 \n",
      "[CV]  max_depth=None, max_features=auto, min_samples_leaf=2, n_estimators=100, n_jobs=-1, total=   0.5s\n",
      "[CV] max_depth=None, max_features=auto, min_samples_leaf=2, n_estimators=1000, n_jobs=None \n",
      "[CV]  max_depth=None, max_features=auto, min_samples_leaf=2, n_estimators=1000, n_jobs=None, total=   2.6s\n",
      "[CV] max_depth=None, max_features=auto, min_samples_leaf=2, n_estimators=1000, n_jobs=None \n",
      "[CV]  max_depth=None, max_features=auto, min_samples_leaf=2, n_estimators=1000, n_jobs=None, total=   2.6s\n",
      "[CV] max_depth=None, max_features=auto, min_samples_leaf=2, n_estimators=1000, n_jobs=None \n",
      "[CV]  max_depth=None, max_features=auto, min_samples_leaf=2, n_estimators=1000, n_jobs=None, total=   2.7s\n",
      "[CV] max_depth=None, max_features=auto, min_samples_leaf=2, n_estimators=1000, n_jobs=None \n",
      "[CV]  max_depth=None, max_features=auto, min_samples_leaf=2, n_estimators=1000, n_jobs=None, total=   2.6s\n",
      "[CV] max_depth=None, max_features=auto, min_samples_leaf=2, n_estimators=1000, n_jobs=None \n",
      "[CV]  max_depth=None, max_features=auto, min_samples_leaf=2, n_estimators=1000, n_jobs=None, total=   2.6s\n",
      "[CV] max_depth=None, max_features=auto, min_samples_leaf=2, n_estimators=1000, n_jobs=-1 \n",
      "[CV]  max_depth=None, max_features=auto, min_samples_leaf=2, n_estimators=1000, n_jobs=-1, total=   2.4s\n",
      "[CV] max_depth=None, max_features=auto, min_samples_leaf=2, n_estimators=1000, n_jobs=-1 \n",
      "[CV]  max_depth=None, max_features=auto, min_samples_leaf=2, n_estimators=1000, n_jobs=-1, total=   2.6s\n",
      "[CV] max_depth=None, max_features=auto, min_samples_leaf=2, n_estimators=1000, n_jobs=-1 \n",
      "[CV]  max_depth=None, max_features=auto, min_samples_leaf=2, n_estimators=1000, n_jobs=-1, total=   2.7s\n",
      "[CV] max_depth=None, max_features=auto, min_samples_leaf=2, n_estimators=1000, n_jobs=-1 \n",
      "[CV]  max_depth=None, max_features=auto, min_samples_leaf=2, n_estimators=1000, n_jobs=-1, total=   2.5s\n",
      "[CV] max_depth=None, max_features=auto, min_samples_leaf=2, n_estimators=1000, n_jobs=-1 \n",
      "[CV]  max_depth=None, max_features=auto, min_samples_leaf=2, n_estimators=1000, n_jobs=-1, total=   2.4s\n",
      "[CV] max_depth=None, max_features=auto, min_samples_leaf=4, n_estimators=10, n_jobs=None \n",
      "[CV]  max_depth=None, max_features=auto, min_samples_leaf=4, n_estimators=10, n_jobs=None, total=   0.0s\n",
      "[CV] max_depth=None, max_features=auto, min_samples_leaf=4, n_estimators=10, n_jobs=None \n",
      "[CV]  max_depth=None, max_features=auto, min_samples_leaf=4, n_estimators=10, n_jobs=None, total=   0.0s\n",
      "[CV] max_depth=None, max_features=auto, min_samples_leaf=4, n_estimators=10, n_jobs=None \n",
      "[CV]  max_depth=None, max_features=auto, min_samples_leaf=4, n_estimators=10, n_jobs=None, total=   0.0s\n",
      "[CV] max_depth=None, max_features=auto, min_samples_leaf=4, n_estimators=10, n_jobs=None \n",
      "[CV]  max_depth=None, max_features=auto, min_samples_leaf=4, n_estimators=10, n_jobs=None, total=   0.0s\n",
      "[CV] max_depth=None, max_features=auto, min_samples_leaf=4, n_estimators=10, n_jobs=None \n",
      "[CV]  max_depth=None, max_features=auto, min_samples_leaf=4, n_estimators=10, n_jobs=None, total=   0.0s\n",
      "[CV] max_depth=None, max_features=auto, min_samples_leaf=4, n_estimators=10, n_jobs=-1 \n",
      "[CV]  max_depth=None, max_features=auto, min_samples_leaf=4, n_estimators=10, n_jobs=-1, total=   0.2s\n",
      "[CV] max_depth=None, max_features=auto, min_samples_leaf=4, n_estimators=10, n_jobs=-1 \n",
      "[CV]  max_depth=None, max_features=auto, min_samples_leaf=4, n_estimators=10, n_jobs=-1, total=   0.2s\n",
      "[CV] max_depth=None, max_features=auto, min_samples_leaf=4, n_estimators=10, n_jobs=-1 \n",
      "[CV]  max_depth=None, max_features=auto, min_samples_leaf=4, n_estimators=10, n_jobs=-1, total=   0.2s\n",
      "[CV] max_depth=None, max_features=auto, min_samples_leaf=4, n_estimators=10, n_jobs=-1 \n",
      "[CV]  max_depth=None, max_features=auto, min_samples_leaf=4, n_estimators=10, n_jobs=-1, total=   0.2s\n",
      "[CV] max_depth=None, max_features=auto, min_samples_leaf=4, n_estimators=10, n_jobs=-1 \n",
      "[CV]  max_depth=None, max_features=auto, min_samples_leaf=4, n_estimators=10, n_jobs=-1, total=   0.2s\n",
      "[CV] max_depth=None, max_features=auto, min_samples_leaf=4, n_estimators=100, n_jobs=None \n",
      "[CV]  max_depth=None, max_features=auto, min_samples_leaf=4, n_estimators=100, n_jobs=None, total=   0.3s\n",
      "[CV] max_depth=None, max_features=auto, min_samples_leaf=4, n_estimators=100, n_jobs=None \n",
      "[CV]  max_depth=None, max_features=auto, min_samples_leaf=4, n_estimators=100, n_jobs=None, total=   0.3s\n",
      "[CV] max_depth=None, max_features=auto, min_samples_leaf=4, n_estimators=100, n_jobs=None \n",
      "[CV]  max_depth=None, max_features=auto, min_samples_leaf=4, n_estimators=100, n_jobs=None, total=   0.3s\n",
      "[CV] max_depth=None, max_features=auto, min_samples_leaf=4, n_estimators=100, n_jobs=None \n",
      "[CV]  max_depth=None, max_features=auto, min_samples_leaf=4, n_estimators=100, n_jobs=None, total=   0.3s\n",
      "[CV] max_depth=None, max_features=auto, min_samples_leaf=4, n_estimators=100, n_jobs=None \n",
      "[CV]  max_depth=None, max_features=auto, min_samples_leaf=4, n_estimators=100, n_jobs=None, total=   0.3s\n",
      "[CV] max_depth=None, max_features=auto, min_samples_leaf=4, n_estimators=100, n_jobs=-1 \n",
      "[CV]  max_depth=None, max_features=auto, min_samples_leaf=4, n_estimators=100, n_jobs=-1, total=   0.6s\n",
      "[CV] max_depth=None, max_features=auto, min_samples_leaf=4, n_estimators=100, n_jobs=-1 \n",
      "[CV]  max_depth=None, max_features=auto, min_samples_leaf=4, n_estimators=100, n_jobs=-1, total=   0.5s\n",
      "[CV] max_depth=None, max_features=auto, min_samples_leaf=4, n_estimators=100, n_jobs=-1 \n",
      "[CV]  max_depth=None, max_features=auto, min_samples_leaf=4, n_estimators=100, n_jobs=-1, total=   0.5s\n",
      "[CV] max_depth=None, max_features=auto, min_samples_leaf=4, n_estimators=100, n_jobs=-1 \n",
      "[CV]  max_depth=None, max_features=auto, min_samples_leaf=4, n_estimators=100, n_jobs=-1, total=   0.5s\n",
      "[CV] max_depth=None, max_features=auto, min_samples_leaf=4, n_estimators=100, n_jobs=-1 \n",
      "[CV]  max_depth=None, max_features=auto, min_samples_leaf=4, n_estimators=100, n_jobs=-1, total=   0.5s\n",
      "[CV] max_depth=None, max_features=auto, min_samples_leaf=4, n_estimators=1000, n_jobs=None \n",
      "[CV]  max_depth=None, max_features=auto, min_samples_leaf=4, n_estimators=1000, n_jobs=None, total=   2.7s\n",
      "[CV] max_depth=None, max_features=auto, min_samples_leaf=4, n_estimators=1000, n_jobs=None \n",
      "[CV]  max_depth=None, max_features=auto, min_samples_leaf=4, n_estimators=1000, n_jobs=None, total=   2.5s\n",
      "[CV] max_depth=None, max_features=auto, min_samples_leaf=4, n_estimators=1000, n_jobs=None \n",
      "[CV]  max_depth=None, max_features=auto, min_samples_leaf=4, n_estimators=1000, n_jobs=None, total=   2.6s\n",
      "[CV] max_depth=None, max_features=auto, min_samples_leaf=4, n_estimators=1000, n_jobs=None \n",
      "[CV]  max_depth=None, max_features=auto, min_samples_leaf=4, n_estimators=1000, n_jobs=None, total=   2.7s\n",
      "[CV] max_depth=None, max_features=auto, min_samples_leaf=4, n_estimators=1000, n_jobs=None \n",
      "[CV]  max_depth=None, max_features=auto, min_samples_leaf=4, n_estimators=1000, n_jobs=None, total=   2.9s\n",
      "[CV] max_depth=None, max_features=auto, min_samples_leaf=4, n_estimators=1000, n_jobs=-1 \n",
      "[CV]  max_depth=None, max_features=auto, min_samples_leaf=4, n_estimators=1000, n_jobs=-1, total=   2.7s\n",
      "[CV] max_depth=None, max_features=auto, min_samples_leaf=4, n_estimators=1000, n_jobs=-1 \n",
      "[CV]  max_depth=None, max_features=auto, min_samples_leaf=4, n_estimators=1000, n_jobs=-1, total=   2.5s\n",
      "[CV] max_depth=None, max_features=auto, min_samples_leaf=4, n_estimators=1000, n_jobs=-1 \n",
      "[CV]  max_depth=None, max_features=auto, min_samples_leaf=4, n_estimators=1000, n_jobs=-1, total=   2.4s\n",
      "[CV] max_depth=None, max_features=auto, min_samples_leaf=4, n_estimators=1000, n_jobs=-1 \n",
      "[CV]  max_depth=None, max_features=auto, min_samples_leaf=4, n_estimators=1000, n_jobs=-1, total=   2.5s\n",
      "[CV] max_depth=None, max_features=auto, min_samples_leaf=4, n_estimators=1000, n_jobs=-1 \n",
      "[CV]  max_depth=None, max_features=auto, min_samples_leaf=4, n_estimators=1000, n_jobs=-1, total=   2.6s\n",
      "[CV] max_depth=None, max_features=sqrt, min_samples_leaf=1, n_estimators=10, n_jobs=None \n",
      "[CV]  max_depth=None, max_features=sqrt, min_samples_leaf=1, n_estimators=10, n_jobs=None, total=   0.0s\n",
      "[CV] max_depth=None, max_features=sqrt, min_samples_leaf=1, n_estimators=10, n_jobs=None \n",
      "[CV]  max_depth=None, max_features=sqrt, min_samples_leaf=1, n_estimators=10, n_jobs=None, total=   0.0s\n",
      "[CV] max_depth=None, max_features=sqrt, min_samples_leaf=1, n_estimators=10, n_jobs=None \n",
      "[CV]  max_depth=None, max_features=sqrt, min_samples_leaf=1, n_estimators=10, n_jobs=None, total=   0.0s\n",
      "[CV] max_depth=None, max_features=sqrt, min_samples_leaf=1, n_estimators=10, n_jobs=None \n",
      "[CV]  max_depth=None, max_features=sqrt, min_samples_leaf=1, n_estimators=10, n_jobs=None, total=   0.0s\n",
      "[CV] max_depth=None, max_features=sqrt, min_samples_leaf=1, n_estimators=10, n_jobs=None \n"
     ]
    },
    {
     "name": "stdout",
     "output_type": "stream",
     "text": [
      "[CV]  max_depth=None, max_features=sqrt, min_samples_leaf=1, n_estimators=10, n_jobs=None, total=   0.0s\n",
      "[CV] max_depth=None, max_features=sqrt, min_samples_leaf=1, n_estimators=10, n_jobs=-1 \n",
      "[CV]  max_depth=None, max_features=sqrt, min_samples_leaf=1, n_estimators=10, n_jobs=-1, total=   0.2s\n",
      "[CV] max_depth=None, max_features=sqrt, min_samples_leaf=1, n_estimators=10, n_jobs=-1 \n",
      "[CV]  max_depth=None, max_features=sqrt, min_samples_leaf=1, n_estimators=10, n_jobs=-1, total=   0.2s\n",
      "[CV] max_depth=None, max_features=sqrt, min_samples_leaf=1, n_estimators=10, n_jobs=-1 \n",
      "[CV]  max_depth=None, max_features=sqrt, min_samples_leaf=1, n_estimators=10, n_jobs=-1, total=   0.2s\n",
      "[CV] max_depth=None, max_features=sqrt, min_samples_leaf=1, n_estimators=10, n_jobs=-1 \n",
      "[CV]  max_depth=None, max_features=sqrt, min_samples_leaf=1, n_estimators=10, n_jobs=-1, total=   0.2s\n",
      "[CV] max_depth=None, max_features=sqrt, min_samples_leaf=1, n_estimators=10, n_jobs=-1 \n",
      "[CV]  max_depth=None, max_features=sqrt, min_samples_leaf=1, n_estimators=10, n_jobs=-1, total=   0.2s\n",
      "[CV] max_depth=None, max_features=sqrt, min_samples_leaf=1, n_estimators=100, n_jobs=None \n",
      "[CV]  max_depth=None, max_features=sqrt, min_samples_leaf=1, n_estimators=100, n_jobs=None, total=   0.3s\n",
      "[CV] max_depth=None, max_features=sqrt, min_samples_leaf=1, n_estimators=100, n_jobs=None \n",
      "[CV]  max_depth=None, max_features=sqrt, min_samples_leaf=1, n_estimators=100, n_jobs=None, total=   0.3s\n",
      "[CV] max_depth=None, max_features=sqrt, min_samples_leaf=1, n_estimators=100, n_jobs=None \n",
      "[CV]  max_depth=None, max_features=sqrt, min_samples_leaf=1, n_estimators=100, n_jobs=None, total=   0.3s\n",
      "[CV] max_depth=None, max_features=sqrt, min_samples_leaf=1, n_estimators=100, n_jobs=None \n",
      "[CV]  max_depth=None, max_features=sqrt, min_samples_leaf=1, n_estimators=100, n_jobs=None, total=   0.3s\n",
      "[CV] max_depth=None, max_features=sqrt, min_samples_leaf=1, n_estimators=100, n_jobs=None \n",
      "[CV]  max_depth=None, max_features=sqrt, min_samples_leaf=1, n_estimators=100, n_jobs=None, total=   0.3s\n",
      "[CV] max_depth=None, max_features=sqrt, min_samples_leaf=1, n_estimators=100, n_jobs=-1 \n",
      "[CV]  max_depth=None, max_features=sqrt, min_samples_leaf=1, n_estimators=100, n_jobs=-1, total=   0.5s\n",
      "[CV] max_depth=None, max_features=sqrt, min_samples_leaf=1, n_estimators=100, n_jobs=-1 \n",
      "[CV]  max_depth=None, max_features=sqrt, min_samples_leaf=1, n_estimators=100, n_jobs=-1, total=   0.5s\n",
      "[CV] max_depth=None, max_features=sqrt, min_samples_leaf=1, n_estimators=100, n_jobs=-1 \n",
      "[CV]  max_depth=None, max_features=sqrt, min_samples_leaf=1, n_estimators=100, n_jobs=-1, total=   0.5s\n",
      "[CV] max_depth=None, max_features=sqrt, min_samples_leaf=1, n_estimators=100, n_jobs=-1 \n",
      "[CV]  max_depth=None, max_features=sqrt, min_samples_leaf=1, n_estimators=100, n_jobs=-1, total=   0.5s\n",
      "[CV] max_depth=None, max_features=sqrt, min_samples_leaf=1, n_estimators=100, n_jobs=-1 \n",
      "[CV]  max_depth=None, max_features=sqrt, min_samples_leaf=1, n_estimators=100, n_jobs=-1, total=   0.6s\n",
      "[CV] max_depth=None, max_features=sqrt, min_samples_leaf=1, n_estimators=1000, n_jobs=None \n",
      "[CV]  max_depth=None, max_features=sqrt, min_samples_leaf=1, n_estimators=1000, n_jobs=None, total=   2.7s\n",
      "[CV] max_depth=None, max_features=sqrt, min_samples_leaf=1, n_estimators=1000, n_jobs=None \n",
      "[CV]  max_depth=None, max_features=sqrt, min_samples_leaf=1, n_estimators=1000, n_jobs=None, total=   2.6s\n",
      "[CV] max_depth=None, max_features=sqrt, min_samples_leaf=1, n_estimators=1000, n_jobs=None \n",
      "[CV]  max_depth=None, max_features=sqrt, min_samples_leaf=1, n_estimators=1000, n_jobs=None, total=   3.3s\n",
      "[CV] max_depth=None, max_features=sqrt, min_samples_leaf=1, n_estimators=1000, n_jobs=None \n",
      "[CV]  max_depth=None, max_features=sqrt, min_samples_leaf=1, n_estimators=1000, n_jobs=None, total=   2.7s\n",
      "[CV] max_depth=None, max_features=sqrt, min_samples_leaf=1, n_estimators=1000, n_jobs=None \n",
      "[CV]  max_depth=None, max_features=sqrt, min_samples_leaf=1, n_estimators=1000, n_jobs=None, total=   2.7s\n",
      "[CV] max_depth=None, max_features=sqrt, min_samples_leaf=1, n_estimators=1000, n_jobs=-1 \n",
      "[CV]  max_depth=None, max_features=sqrt, min_samples_leaf=1, n_estimators=1000, n_jobs=-1, total=   2.8s\n",
      "[CV] max_depth=None, max_features=sqrt, min_samples_leaf=1, n_estimators=1000, n_jobs=-1 \n",
      "[CV]  max_depth=None, max_features=sqrt, min_samples_leaf=1, n_estimators=1000, n_jobs=-1, total=   2.9s\n",
      "[CV] max_depth=None, max_features=sqrt, min_samples_leaf=1, n_estimators=1000, n_jobs=-1 \n",
      "[CV]  max_depth=None, max_features=sqrt, min_samples_leaf=1, n_estimators=1000, n_jobs=-1, total=   3.1s\n",
      "[CV] max_depth=None, max_features=sqrt, min_samples_leaf=1, n_estimators=1000, n_jobs=-1 \n",
      "[CV]  max_depth=None, max_features=sqrt, min_samples_leaf=1, n_estimators=1000, n_jobs=-1, total=   2.9s\n",
      "[CV] max_depth=None, max_features=sqrt, min_samples_leaf=1, n_estimators=1000, n_jobs=-1 \n",
      "[CV]  max_depth=None, max_features=sqrt, min_samples_leaf=1, n_estimators=1000, n_jobs=-1, total=   2.5s\n",
      "[CV] max_depth=None, max_features=sqrt, min_samples_leaf=2, n_estimators=10, n_jobs=None \n",
      "[CV]  max_depth=None, max_features=sqrt, min_samples_leaf=2, n_estimators=10, n_jobs=None, total=   0.0s\n",
      "[CV] max_depth=None, max_features=sqrt, min_samples_leaf=2, n_estimators=10, n_jobs=None \n",
      "[CV]  max_depth=None, max_features=sqrt, min_samples_leaf=2, n_estimators=10, n_jobs=None, total=   0.0s\n",
      "[CV] max_depth=None, max_features=sqrt, min_samples_leaf=2, n_estimators=10, n_jobs=None \n",
      "[CV]  max_depth=None, max_features=sqrt, min_samples_leaf=2, n_estimators=10, n_jobs=None, total=   0.0s\n",
      "[CV] max_depth=None, max_features=sqrt, min_samples_leaf=2, n_estimators=10, n_jobs=None \n",
      "[CV]  max_depth=None, max_features=sqrt, min_samples_leaf=2, n_estimators=10, n_jobs=None, total=   0.0s\n",
      "[CV] max_depth=None, max_features=sqrt, min_samples_leaf=2, n_estimators=10, n_jobs=None \n",
      "[CV]  max_depth=None, max_features=sqrt, min_samples_leaf=2, n_estimators=10, n_jobs=None, total=   0.0s\n",
      "[CV] max_depth=None, max_features=sqrt, min_samples_leaf=2, n_estimators=10, n_jobs=-1 \n",
      "[CV]  max_depth=None, max_features=sqrt, min_samples_leaf=2, n_estimators=10, n_jobs=-1, total=   0.2s\n",
      "[CV] max_depth=None, max_features=sqrt, min_samples_leaf=2, n_estimators=10, n_jobs=-1 \n",
      "[CV]  max_depth=None, max_features=sqrt, min_samples_leaf=2, n_estimators=10, n_jobs=-1, total=   0.2s\n",
      "[CV] max_depth=None, max_features=sqrt, min_samples_leaf=2, n_estimators=10, n_jobs=-1 \n",
      "[CV]  max_depth=None, max_features=sqrt, min_samples_leaf=2, n_estimators=10, n_jobs=-1, total=   0.2s\n",
      "[CV] max_depth=None, max_features=sqrt, min_samples_leaf=2, n_estimators=10, n_jobs=-1 \n",
      "[CV]  max_depth=None, max_features=sqrt, min_samples_leaf=2, n_estimators=10, n_jobs=-1, total=   0.2s\n",
      "[CV] max_depth=None, max_features=sqrt, min_samples_leaf=2, n_estimators=10, n_jobs=-1 \n",
      "[CV]  max_depth=None, max_features=sqrt, min_samples_leaf=2, n_estimators=10, n_jobs=-1, total=   0.2s\n",
      "[CV] max_depth=None, max_features=sqrt, min_samples_leaf=2, n_estimators=100, n_jobs=None \n",
      "[CV]  max_depth=None, max_features=sqrt, min_samples_leaf=2, n_estimators=100, n_jobs=None, total=   0.4s\n",
      "[CV] max_depth=None, max_features=sqrt, min_samples_leaf=2, n_estimators=100, n_jobs=None \n",
      "[CV]  max_depth=None, max_features=sqrt, min_samples_leaf=2, n_estimators=100, n_jobs=None, total=   0.3s\n",
      "[CV] max_depth=None, max_features=sqrt, min_samples_leaf=2, n_estimators=100, n_jobs=None \n",
      "[CV]  max_depth=None, max_features=sqrt, min_samples_leaf=2, n_estimators=100, n_jobs=None, total=   0.3s\n",
      "[CV] max_depth=None, max_features=sqrt, min_samples_leaf=2, n_estimators=100, n_jobs=None \n",
      "[CV]  max_depth=None, max_features=sqrt, min_samples_leaf=2, n_estimators=100, n_jobs=None, total=   0.3s\n",
      "[CV] max_depth=None, max_features=sqrt, min_samples_leaf=2, n_estimators=100, n_jobs=None \n",
      "[CV]  max_depth=None, max_features=sqrt, min_samples_leaf=2, n_estimators=100, n_jobs=None, total=   0.3s\n",
      "[CV] max_depth=None, max_features=sqrt, min_samples_leaf=2, n_estimators=100, n_jobs=-1 \n",
      "[CV]  max_depth=None, max_features=sqrt, min_samples_leaf=2, n_estimators=100, n_jobs=-1, total=   0.5s\n",
      "[CV] max_depth=None, max_features=sqrt, min_samples_leaf=2, n_estimators=100, n_jobs=-1 \n",
      "[CV]  max_depth=None, max_features=sqrt, min_samples_leaf=2, n_estimators=100, n_jobs=-1, total=   0.5s\n",
      "[CV] max_depth=None, max_features=sqrt, min_samples_leaf=2, n_estimators=100, n_jobs=-1 \n"
     ]
    },
    {
     "name": "stdout",
     "output_type": "stream",
     "text": [
      "[CV]  max_depth=None, max_features=sqrt, min_samples_leaf=2, n_estimators=100, n_jobs=-1, total=   0.5s\n",
      "[CV] max_depth=None, max_features=sqrt, min_samples_leaf=2, n_estimators=100, n_jobs=-1 \n",
      "[CV]  max_depth=None, max_features=sqrt, min_samples_leaf=2, n_estimators=100, n_jobs=-1, total=   0.5s\n",
      "[CV] max_depth=None, max_features=sqrt, min_samples_leaf=2, n_estimators=100, n_jobs=-1 \n",
      "[CV]  max_depth=None, max_features=sqrt, min_samples_leaf=2, n_estimators=100, n_jobs=-1, total=   0.5s\n",
      "[CV] max_depth=None, max_features=sqrt, min_samples_leaf=2, n_estimators=1000, n_jobs=None \n",
      "[CV]  max_depth=None, max_features=sqrt, min_samples_leaf=2, n_estimators=1000, n_jobs=None, total=   2.6s\n",
      "[CV] max_depth=None, max_features=sqrt, min_samples_leaf=2, n_estimators=1000, n_jobs=None \n",
      "[CV]  max_depth=None, max_features=sqrt, min_samples_leaf=2, n_estimators=1000, n_jobs=None, total=   2.7s\n",
      "[CV] max_depth=None, max_features=sqrt, min_samples_leaf=2, n_estimators=1000, n_jobs=None \n",
      "[CV]  max_depth=None, max_features=sqrt, min_samples_leaf=2, n_estimators=1000, n_jobs=None, total=   2.7s\n",
      "[CV] max_depth=None, max_features=sqrt, min_samples_leaf=2, n_estimators=1000, n_jobs=None \n",
      "[CV]  max_depth=None, max_features=sqrt, min_samples_leaf=2, n_estimators=1000, n_jobs=None, total=   2.6s\n",
      "[CV] max_depth=None, max_features=sqrt, min_samples_leaf=2, n_estimators=1000, n_jobs=None \n",
      "[CV]  max_depth=None, max_features=sqrt, min_samples_leaf=2, n_estimators=1000, n_jobs=None, total=   2.5s\n",
      "[CV] max_depth=None, max_features=sqrt, min_samples_leaf=2, n_estimators=1000, n_jobs=-1 \n",
      "[CV]  max_depth=None, max_features=sqrt, min_samples_leaf=2, n_estimators=1000, n_jobs=-1, total=   2.2s\n",
      "[CV] max_depth=None, max_features=sqrt, min_samples_leaf=2, n_estimators=1000, n_jobs=-1 \n",
      "[CV]  max_depth=None, max_features=sqrt, min_samples_leaf=2, n_estimators=1000, n_jobs=-1, total=   2.5s\n",
      "[CV] max_depth=None, max_features=sqrt, min_samples_leaf=2, n_estimators=1000, n_jobs=-1 \n",
      "[CV]  max_depth=None, max_features=sqrt, min_samples_leaf=2, n_estimators=1000, n_jobs=-1, total=   2.6s\n",
      "[CV] max_depth=None, max_features=sqrt, min_samples_leaf=2, n_estimators=1000, n_jobs=-1 \n",
      "[CV]  max_depth=None, max_features=sqrt, min_samples_leaf=2, n_estimators=1000, n_jobs=-1, total=   2.4s\n",
      "[CV] max_depth=None, max_features=sqrt, min_samples_leaf=2, n_estimators=1000, n_jobs=-1 \n",
      "[CV]  max_depth=None, max_features=sqrt, min_samples_leaf=2, n_estimators=1000, n_jobs=-1, total=   2.6s\n",
      "[CV] max_depth=None, max_features=sqrt, min_samples_leaf=4, n_estimators=10, n_jobs=None \n",
      "[CV]  max_depth=None, max_features=sqrt, min_samples_leaf=4, n_estimators=10, n_jobs=None, total=   0.0s\n",
      "[CV] max_depth=None, max_features=sqrt, min_samples_leaf=4, n_estimators=10, n_jobs=None \n",
      "[CV]  max_depth=None, max_features=sqrt, min_samples_leaf=4, n_estimators=10, n_jobs=None, total=   0.0s\n",
      "[CV] max_depth=None, max_features=sqrt, min_samples_leaf=4, n_estimators=10, n_jobs=None \n",
      "[CV]  max_depth=None, max_features=sqrt, min_samples_leaf=4, n_estimators=10, n_jobs=None, total=   0.0s\n",
      "[CV] max_depth=None, max_features=sqrt, min_samples_leaf=4, n_estimators=10, n_jobs=None \n",
      "[CV]  max_depth=None, max_features=sqrt, min_samples_leaf=4, n_estimators=10, n_jobs=None, total=   0.0s\n",
      "[CV] max_depth=None, max_features=sqrt, min_samples_leaf=4, n_estimators=10, n_jobs=None \n",
      "[CV]  max_depth=None, max_features=sqrt, min_samples_leaf=4, n_estimators=10, n_jobs=None, total=   0.0s\n",
      "[CV] max_depth=None, max_features=sqrt, min_samples_leaf=4, n_estimators=10, n_jobs=-1 \n",
      "[CV]  max_depth=None, max_features=sqrt, min_samples_leaf=4, n_estimators=10, n_jobs=-1, total=   0.2s\n",
      "[CV] max_depth=None, max_features=sqrt, min_samples_leaf=4, n_estimators=10, n_jobs=-1 \n",
      "[CV]  max_depth=None, max_features=sqrt, min_samples_leaf=4, n_estimators=10, n_jobs=-1, total=   0.2s\n",
      "[CV] max_depth=None, max_features=sqrt, min_samples_leaf=4, n_estimators=10, n_jobs=-1 \n",
      "[CV]  max_depth=None, max_features=sqrt, min_samples_leaf=4, n_estimators=10, n_jobs=-1, total=   0.2s\n",
      "[CV] max_depth=None, max_features=sqrt, min_samples_leaf=4, n_estimators=10, n_jobs=-1 \n",
      "[CV]  max_depth=None, max_features=sqrt, min_samples_leaf=4, n_estimators=10, n_jobs=-1, total=   0.2s\n",
      "[CV] max_depth=None, max_features=sqrt, min_samples_leaf=4, n_estimators=10, n_jobs=-1 \n",
      "[CV]  max_depth=None, max_features=sqrt, min_samples_leaf=4, n_estimators=10, n_jobs=-1, total=   0.2s\n",
      "[CV] max_depth=None, max_features=sqrt, min_samples_leaf=4, n_estimators=100, n_jobs=None \n",
      "[CV]  max_depth=None, max_features=sqrt, min_samples_leaf=4, n_estimators=100, n_jobs=None, total=   0.3s\n",
      "[CV] max_depth=None, max_features=sqrt, min_samples_leaf=4, n_estimators=100, n_jobs=None \n",
      "[CV]  max_depth=None, max_features=sqrt, min_samples_leaf=4, n_estimators=100, n_jobs=None, total=   0.3s\n",
      "[CV] max_depth=None, max_features=sqrt, min_samples_leaf=4, n_estimators=100, n_jobs=None \n",
      "[CV]  max_depth=None, max_features=sqrt, min_samples_leaf=4, n_estimators=100, n_jobs=None, total=   0.3s\n",
      "[CV] max_depth=None, max_features=sqrt, min_samples_leaf=4, n_estimators=100, n_jobs=None \n",
      "[CV]  max_depth=None, max_features=sqrt, min_samples_leaf=4, n_estimators=100, n_jobs=None, total=   0.3s\n",
      "[CV] max_depth=None, max_features=sqrt, min_samples_leaf=4, n_estimators=100, n_jobs=None \n",
      "[CV]  max_depth=None, max_features=sqrt, min_samples_leaf=4, n_estimators=100, n_jobs=None, total=   0.3s\n",
      "[CV] max_depth=None, max_features=sqrt, min_samples_leaf=4, n_estimators=100, n_jobs=-1 \n",
      "[CV]  max_depth=None, max_features=sqrt, min_samples_leaf=4, n_estimators=100, n_jobs=-1, total=   0.5s\n",
      "[CV] max_depth=None, max_features=sqrt, min_samples_leaf=4, n_estimators=100, n_jobs=-1 \n",
      "[CV]  max_depth=None, max_features=sqrt, min_samples_leaf=4, n_estimators=100, n_jobs=-1, total=   0.5s\n",
      "[CV] max_depth=None, max_features=sqrt, min_samples_leaf=4, n_estimators=100, n_jobs=-1 \n",
      "[CV]  max_depth=None, max_features=sqrt, min_samples_leaf=4, n_estimators=100, n_jobs=-1, total=   0.5s\n",
      "[CV] max_depth=None, max_features=sqrt, min_samples_leaf=4, n_estimators=100, n_jobs=-1 \n",
      "[CV]  max_depth=None, max_features=sqrt, min_samples_leaf=4, n_estimators=100, n_jobs=-1, total=   0.5s\n",
      "[CV] max_depth=None, max_features=sqrt, min_samples_leaf=4, n_estimators=100, n_jobs=-1 \n",
      "[CV]  max_depth=None, max_features=sqrt, min_samples_leaf=4, n_estimators=100, n_jobs=-1, total=   0.5s\n",
      "[CV] max_depth=None, max_features=sqrt, min_samples_leaf=4, n_estimators=1000, n_jobs=None \n",
      "[CV]  max_depth=None, max_features=sqrt, min_samples_leaf=4, n_estimators=1000, n_jobs=None, total=   2.5s\n",
      "[CV] max_depth=None, max_features=sqrt, min_samples_leaf=4, n_estimators=1000, n_jobs=None \n",
      "[CV]  max_depth=None, max_features=sqrt, min_samples_leaf=4, n_estimators=1000, n_jobs=None, total=   2.5s\n",
      "[CV] max_depth=None, max_features=sqrt, min_samples_leaf=4, n_estimators=1000, n_jobs=None \n",
      "[CV]  max_depth=None, max_features=sqrt, min_samples_leaf=4, n_estimators=1000, n_jobs=None, total=   2.6s\n",
      "[CV] max_depth=None, max_features=sqrt, min_samples_leaf=4, n_estimators=1000, n_jobs=None \n",
      "[CV]  max_depth=None, max_features=sqrt, min_samples_leaf=4, n_estimators=1000, n_jobs=None, total=   2.5s\n",
      "[CV] max_depth=None, max_features=sqrt, min_samples_leaf=4, n_estimators=1000, n_jobs=None \n",
      "[CV]  max_depth=None, max_features=sqrt, min_samples_leaf=4, n_estimators=1000, n_jobs=None, total=   2.5s\n",
      "[CV] max_depth=None, max_features=sqrt, min_samples_leaf=4, n_estimators=1000, n_jobs=-1 \n",
      "[CV]  max_depth=None, max_features=sqrt, min_samples_leaf=4, n_estimators=1000, n_jobs=-1, total=   2.4s\n",
      "[CV] max_depth=None, max_features=sqrt, min_samples_leaf=4, n_estimators=1000, n_jobs=-1 \n",
      "[CV]  max_depth=None, max_features=sqrt, min_samples_leaf=4, n_estimators=1000, n_jobs=-1, total=   2.5s\n",
      "[CV] max_depth=None, max_features=sqrt, min_samples_leaf=4, n_estimators=1000, n_jobs=-1 \n",
      "[CV]  max_depth=None, max_features=sqrt, min_samples_leaf=4, n_estimators=1000, n_jobs=-1, total=   2.4s\n",
      "[CV] max_depth=None, max_features=sqrt, min_samples_leaf=4, n_estimators=1000, n_jobs=-1 \n",
      "[CV]  max_depth=None, max_features=sqrt, min_samples_leaf=4, n_estimators=1000, n_jobs=-1, total=   2.5s\n",
      "[CV] max_depth=None, max_features=sqrt, min_samples_leaf=4, n_estimators=1000, n_jobs=-1 \n"
     ]
    },
    {
     "name": "stdout",
     "output_type": "stream",
     "text": [
      "[CV]  max_depth=None, max_features=sqrt, min_samples_leaf=4, n_estimators=1000, n_jobs=-1, total=   2.3s\n",
      "[CV] max_depth=5, max_features=auto, min_samples_leaf=1, n_estimators=10, n_jobs=None \n",
      "[CV]  max_depth=5, max_features=auto, min_samples_leaf=1, n_estimators=10, n_jobs=None, total=   0.0s\n",
      "[CV] max_depth=5, max_features=auto, min_samples_leaf=1, n_estimators=10, n_jobs=None \n",
      "[CV]  max_depth=5, max_features=auto, min_samples_leaf=1, n_estimators=10, n_jobs=None, total=   0.0s\n",
      "[CV] max_depth=5, max_features=auto, min_samples_leaf=1, n_estimators=10, n_jobs=None \n",
      "[CV]  max_depth=5, max_features=auto, min_samples_leaf=1, n_estimators=10, n_jobs=None, total=   0.0s\n",
      "[CV] max_depth=5, max_features=auto, min_samples_leaf=1, n_estimators=10, n_jobs=None \n",
      "[CV]  max_depth=5, max_features=auto, min_samples_leaf=1, n_estimators=10, n_jobs=None, total=   0.0s\n",
      "[CV] max_depth=5, max_features=auto, min_samples_leaf=1, n_estimators=10, n_jobs=None \n",
      "[CV]  max_depth=5, max_features=auto, min_samples_leaf=1, n_estimators=10, n_jobs=None, total=   0.0s\n",
      "[CV] max_depth=5, max_features=auto, min_samples_leaf=1, n_estimators=10, n_jobs=-1 \n",
      "[CV]  max_depth=5, max_features=auto, min_samples_leaf=1, n_estimators=10, n_jobs=-1, total=   0.2s\n",
      "[CV] max_depth=5, max_features=auto, min_samples_leaf=1, n_estimators=10, n_jobs=-1 \n",
      "[CV]  max_depth=5, max_features=auto, min_samples_leaf=1, n_estimators=10, n_jobs=-1, total=   0.2s\n",
      "[CV] max_depth=5, max_features=auto, min_samples_leaf=1, n_estimators=10, n_jobs=-1 \n",
      "[CV]  max_depth=5, max_features=auto, min_samples_leaf=1, n_estimators=10, n_jobs=-1, total=   0.2s\n",
      "[CV] max_depth=5, max_features=auto, min_samples_leaf=1, n_estimators=10, n_jobs=-1 \n",
      "[CV]  max_depth=5, max_features=auto, min_samples_leaf=1, n_estimators=10, n_jobs=-1, total=   0.2s\n",
      "[CV] max_depth=5, max_features=auto, min_samples_leaf=1, n_estimators=10, n_jobs=-1 \n",
      "[CV]  max_depth=5, max_features=auto, min_samples_leaf=1, n_estimators=10, n_jobs=-1, total=   0.2s\n",
      "[CV] max_depth=5, max_features=auto, min_samples_leaf=1, n_estimators=100, n_jobs=None \n",
      "[CV]  max_depth=5, max_features=auto, min_samples_leaf=1, n_estimators=100, n_jobs=None, total=   0.3s\n",
      "[CV] max_depth=5, max_features=auto, min_samples_leaf=1, n_estimators=100, n_jobs=None \n",
      "[CV]  max_depth=5, max_features=auto, min_samples_leaf=1, n_estimators=100, n_jobs=None, total=   0.3s\n",
      "[CV] max_depth=5, max_features=auto, min_samples_leaf=1, n_estimators=100, n_jobs=None \n",
      "[CV]  max_depth=5, max_features=auto, min_samples_leaf=1, n_estimators=100, n_jobs=None, total=   0.3s\n",
      "[CV] max_depth=5, max_features=auto, min_samples_leaf=1, n_estimators=100, n_jobs=None \n",
      "[CV]  max_depth=5, max_features=auto, min_samples_leaf=1, n_estimators=100, n_jobs=None, total=   0.3s\n",
      "[CV] max_depth=5, max_features=auto, min_samples_leaf=1, n_estimators=100, n_jobs=None \n",
      "[CV]  max_depth=5, max_features=auto, min_samples_leaf=1, n_estimators=100, n_jobs=None, total=   0.3s\n",
      "[CV] max_depth=5, max_features=auto, min_samples_leaf=1, n_estimators=100, n_jobs=-1 \n",
      "[CV]  max_depth=5, max_features=auto, min_samples_leaf=1, n_estimators=100, n_jobs=-1, total=   0.5s\n",
      "[CV] max_depth=5, max_features=auto, min_samples_leaf=1, n_estimators=100, n_jobs=-1 \n",
      "[CV]  max_depth=5, max_features=auto, min_samples_leaf=1, n_estimators=100, n_jobs=-1, total=   0.5s\n",
      "[CV] max_depth=5, max_features=auto, min_samples_leaf=1, n_estimators=100, n_jobs=-1 \n",
      "[CV]  max_depth=5, max_features=auto, min_samples_leaf=1, n_estimators=100, n_jobs=-1, total=   0.5s\n",
      "[CV] max_depth=5, max_features=auto, min_samples_leaf=1, n_estimators=100, n_jobs=-1 \n",
      "[CV]  max_depth=5, max_features=auto, min_samples_leaf=1, n_estimators=100, n_jobs=-1, total=   0.5s\n",
      "[CV] max_depth=5, max_features=auto, min_samples_leaf=1, n_estimators=100, n_jobs=-1 \n",
      "[CV]  max_depth=5, max_features=auto, min_samples_leaf=1, n_estimators=100, n_jobs=-1, total=   0.6s\n",
      "[CV] max_depth=5, max_features=auto, min_samples_leaf=1, n_estimators=1000, n_jobs=None \n",
      "[CV]  max_depth=5, max_features=auto, min_samples_leaf=1, n_estimators=1000, n_jobs=None, total=   2.8s\n",
      "[CV] max_depth=5, max_features=auto, min_samples_leaf=1, n_estimators=1000, n_jobs=None \n",
      "[CV]  max_depth=5, max_features=auto, min_samples_leaf=1, n_estimators=1000, n_jobs=None, total=   2.6s\n",
      "[CV] max_depth=5, max_features=auto, min_samples_leaf=1, n_estimators=1000, n_jobs=None \n",
      "[CV]  max_depth=5, max_features=auto, min_samples_leaf=1, n_estimators=1000, n_jobs=None, total=   2.5s\n",
      "[CV] max_depth=5, max_features=auto, min_samples_leaf=1, n_estimators=1000, n_jobs=None \n",
      "[CV]  max_depth=5, max_features=auto, min_samples_leaf=1, n_estimators=1000, n_jobs=None, total=   2.5s\n",
      "[CV] max_depth=5, max_features=auto, min_samples_leaf=1, n_estimators=1000, n_jobs=None \n",
      "[CV]  max_depth=5, max_features=auto, min_samples_leaf=1, n_estimators=1000, n_jobs=None, total=   2.6s\n",
      "[CV] max_depth=5, max_features=auto, min_samples_leaf=1, n_estimators=1000, n_jobs=-1 \n",
      "[CV]  max_depth=5, max_features=auto, min_samples_leaf=1, n_estimators=1000, n_jobs=-1, total=   2.6s\n",
      "[CV] max_depth=5, max_features=auto, min_samples_leaf=1, n_estimators=1000, n_jobs=-1 \n",
      "[CV]  max_depth=5, max_features=auto, min_samples_leaf=1, n_estimators=1000, n_jobs=-1, total=   2.9s\n",
      "[CV] max_depth=5, max_features=auto, min_samples_leaf=1, n_estimators=1000, n_jobs=-1 \n",
      "[CV]  max_depth=5, max_features=auto, min_samples_leaf=1, n_estimators=1000, n_jobs=-1, total=   2.5s\n",
      "[CV] max_depth=5, max_features=auto, min_samples_leaf=1, n_estimators=1000, n_jobs=-1 \n",
      "[CV]  max_depth=5, max_features=auto, min_samples_leaf=1, n_estimators=1000, n_jobs=-1, total=   2.9s\n",
      "[CV] max_depth=5, max_features=auto, min_samples_leaf=1, n_estimators=1000, n_jobs=-1 \n",
      "[CV]  max_depth=5, max_features=auto, min_samples_leaf=1, n_estimators=1000, n_jobs=-1, total=   2.4s\n",
      "[CV] max_depth=5, max_features=auto, min_samples_leaf=2, n_estimators=10, n_jobs=None \n",
      "[CV]  max_depth=5, max_features=auto, min_samples_leaf=2, n_estimators=10, n_jobs=None, total=   0.1s\n",
      "[CV] max_depth=5, max_features=auto, min_samples_leaf=2, n_estimators=10, n_jobs=None \n",
      "[CV]  max_depth=5, max_features=auto, min_samples_leaf=2, n_estimators=10, n_jobs=None, total=   0.1s\n",
      "[CV] max_depth=5, max_features=auto, min_samples_leaf=2, n_estimators=10, n_jobs=None \n",
      "[CV]  max_depth=5, max_features=auto, min_samples_leaf=2, n_estimators=10, n_jobs=None, total=   0.1s\n",
      "[CV] max_depth=5, max_features=auto, min_samples_leaf=2, n_estimators=10, n_jobs=None \n",
      "[CV]  max_depth=5, max_features=auto, min_samples_leaf=2, n_estimators=10, n_jobs=None, total=   0.1s\n",
      "[CV] max_depth=5, max_features=auto, min_samples_leaf=2, n_estimators=10, n_jobs=None \n",
      "[CV]  max_depth=5, max_features=auto, min_samples_leaf=2, n_estimators=10, n_jobs=None, total=   0.0s\n",
      "[CV] max_depth=5, max_features=auto, min_samples_leaf=2, n_estimators=10, n_jobs=-1 \n",
      "[CV]  max_depth=5, max_features=auto, min_samples_leaf=2, n_estimators=10, n_jobs=-1, total=   0.2s\n",
      "[CV] max_depth=5, max_features=auto, min_samples_leaf=2, n_estimators=10, n_jobs=-1 \n",
      "[CV]  max_depth=5, max_features=auto, min_samples_leaf=2, n_estimators=10, n_jobs=-1, total=   0.2s\n",
      "[CV] max_depth=5, max_features=auto, min_samples_leaf=2, n_estimators=10, n_jobs=-1 \n",
      "[CV]  max_depth=5, max_features=auto, min_samples_leaf=2, n_estimators=10, n_jobs=-1, total=   0.2s\n",
      "[CV] max_depth=5, max_features=auto, min_samples_leaf=2, n_estimators=10, n_jobs=-1 \n",
      "[CV]  max_depth=5, max_features=auto, min_samples_leaf=2, n_estimators=10, n_jobs=-1, total=   0.2s\n",
      "[CV] max_depth=5, max_features=auto, min_samples_leaf=2, n_estimators=10, n_jobs=-1 \n",
      "[CV]  max_depth=5, max_features=auto, min_samples_leaf=2, n_estimators=10, n_jobs=-1, total=   0.2s\n",
      "[CV] max_depth=5, max_features=auto, min_samples_leaf=2, n_estimators=100, n_jobs=None \n",
      "[CV]  max_depth=5, max_features=auto, min_samples_leaf=2, n_estimators=100, n_jobs=None, total=   0.4s\n",
      "[CV] max_depth=5, max_features=auto, min_samples_leaf=2, n_estimators=100, n_jobs=None \n",
      "[CV]  max_depth=5, max_features=auto, min_samples_leaf=2, n_estimators=100, n_jobs=None, total=   0.3s\n",
      "[CV] max_depth=5, max_features=auto, min_samples_leaf=2, n_estimators=100, n_jobs=None \n",
      "[CV]  max_depth=5, max_features=auto, min_samples_leaf=2, n_estimators=100, n_jobs=None, total=   0.3s\n",
      "[CV] max_depth=5, max_features=auto, min_samples_leaf=2, n_estimators=100, n_jobs=None \n"
     ]
    },
    {
     "name": "stdout",
     "output_type": "stream",
     "text": [
      "[CV]  max_depth=5, max_features=auto, min_samples_leaf=2, n_estimators=100, n_jobs=None, total=   0.3s\n",
      "[CV] max_depth=5, max_features=auto, min_samples_leaf=2, n_estimators=100, n_jobs=None \n",
      "[CV]  max_depth=5, max_features=auto, min_samples_leaf=2, n_estimators=100, n_jobs=None, total=   0.3s\n",
      "[CV] max_depth=5, max_features=auto, min_samples_leaf=2, n_estimators=100, n_jobs=-1 \n",
      "[CV]  max_depth=5, max_features=auto, min_samples_leaf=2, n_estimators=100, n_jobs=-1, total=   0.5s\n",
      "[CV] max_depth=5, max_features=auto, min_samples_leaf=2, n_estimators=100, n_jobs=-1 \n",
      "[CV]  max_depth=5, max_features=auto, min_samples_leaf=2, n_estimators=100, n_jobs=-1, total=   0.5s\n",
      "[CV] max_depth=5, max_features=auto, min_samples_leaf=2, n_estimators=100, n_jobs=-1 \n",
      "[CV]  max_depth=5, max_features=auto, min_samples_leaf=2, n_estimators=100, n_jobs=-1, total=   0.6s\n",
      "[CV] max_depth=5, max_features=auto, min_samples_leaf=2, n_estimators=100, n_jobs=-1 \n",
      "[CV]  max_depth=5, max_features=auto, min_samples_leaf=2, n_estimators=100, n_jobs=-1, total=   0.6s\n",
      "[CV] max_depth=5, max_features=auto, min_samples_leaf=2, n_estimators=100, n_jobs=-1 \n",
      "[CV]  max_depth=5, max_features=auto, min_samples_leaf=2, n_estimators=100, n_jobs=-1, total=   0.7s\n",
      "[CV] max_depth=5, max_features=auto, min_samples_leaf=2, n_estimators=1000, n_jobs=None \n",
      "[CV]  max_depth=5, max_features=auto, min_samples_leaf=2, n_estimators=1000, n_jobs=None, total=   2.8s\n",
      "[CV] max_depth=5, max_features=auto, min_samples_leaf=2, n_estimators=1000, n_jobs=None \n",
      "[CV]  max_depth=5, max_features=auto, min_samples_leaf=2, n_estimators=1000, n_jobs=None, total=   2.8s\n",
      "[CV] max_depth=5, max_features=auto, min_samples_leaf=2, n_estimators=1000, n_jobs=None \n",
      "[CV]  max_depth=5, max_features=auto, min_samples_leaf=2, n_estimators=1000, n_jobs=None, total=   2.8s\n",
      "[CV] max_depth=5, max_features=auto, min_samples_leaf=2, n_estimators=1000, n_jobs=None \n",
      "[CV]  max_depth=5, max_features=auto, min_samples_leaf=2, n_estimators=1000, n_jobs=None, total=   2.6s\n",
      "[CV] max_depth=5, max_features=auto, min_samples_leaf=2, n_estimators=1000, n_jobs=None \n",
      "[CV]  max_depth=5, max_features=auto, min_samples_leaf=2, n_estimators=1000, n_jobs=None, total=   2.7s\n",
      "[CV] max_depth=5, max_features=auto, min_samples_leaf=2, n_estimators=1000, n_jobs=-1 \n",
      "[CV]  max_depth=5, max_features=auto, min_samples_leaf=2, n_estimators=1000, n_jobs=-1, total=   2.7s\n",
      "[CV] max_depth=5, max_features=auto, min_samples_leaf=2, n_estimators=1000, n_jobs=-1 \n",
      "[CV]  max_depth=5, max_features=auto, min_samples_leaf=2, n_estimators=1000, n_jobs=-1, total=   2.6s\n",
      "[CV] max_depth=5, max_features=auto, min_samples_leaf=2, n_estimators=1000, n_jobs=-1 \n",
      "[CV]  max_depth=5, max_features=auto, min_samples_leaf=2, n_estimators=1000, n_jobs=-1, total=   2.5s\n",
      "[CV] max_depth=5, max_features=auto, min_samples_leaf=2, n_estimators=1000, n_jobs=-1 \n",
      "[CV]  max_depth=5, max_features=auto, min_samples_leaf=2, n_estimators=1000, n_jobs=-1, total=   2.6s\n",
      "[CV] max_depth=5, max_features=auto, min_samples_leaf=2, n_estimators=1000, n_jobs=-1 \n",
      "[CV]  max_depth=5, max_features=auto, min_samples_leaf=2, n_estimators=1000, n_jobs=-1, total=   2.7s\n",
      "[CV] max_depth=5, max_features=auto, min_samples_leaf=4, n_estimators=10, n_jobs=None \n",
      "[CV]  max_depth=5, max_features=auto, min_samples_leaf=4, n_estimators=10, n_jobs=None, total=   0.0s\n",
      "[CV] max_depth=5, max_features=auto, min_samples_leaf=4, n_estimators=10, n_jobs=None \n",
      "[CV]  max_depth=5, max_features=auto, min_samples_leaf=4, n_estimators=10, n_jobs=None, total=   0.0s\n",
      "[CV] max_depth=5, max_features=auto, min_samples_leaf=4, n_estimators=10, n_jobs=None \n",
      "[CV]  max_depth=5, max_features=auto, min_samples_leaf=4, n_estimators=10, n_jobs=None, total=   0.0s\n",
      "[CV] max_depth=5, max_features=auto, min_samples_leaf=4, n_estimators=10, n_jobs=None \n",
      "[CV]  max_depth=5, max_features=auto, min_samples_leaf=4, n_estimators=10, n_jobs=None, total=   0.0s\n",
      "[CV] max_depth=5, max_features=auto, min_samples_leaf=4, n_estimators=10, n_jobs=None \n",
      "[CV]  max_depth=5, max_features=auto, min_samples_leaf=4, n_estimators=10, n_jobs=None, total=   0.0s\n",
      "[CV] max_depth=5, max_features=auto, min_samples_leaf=4, n_estimators=10, n_jobs=-1 \n",
      "[CV]  max_depth=5, max_features=auto, min_samples_leaf=4, n_estimators=10, n_jobs=-1, total=   0.2s\n",
      "[CV] max_depth=5, max_features=auto, min_samples_leaf=4, n_estimators=10, n_jobs=-1 \n",
      "[CV]  max_depth=5, max_features=auto, min_samples_leaf=4, n_estimators=10, n_jobs=-1, total=   0.2s\n",
      "[CV] max_depth=5, max_features=auto, min_samples_leaf=4, n_estimators=10, n_jobs=-1 \n",
      "[CV]  max_depth=5, max_features=auto, min_samples_leaf=4, n_estimators=10, n_jobs=-1, total=   0.2s\n",
      "[CV] max_depth=5, max_features=auto, min_samples_leaf=4, n_estimators=10, n_jobs=-1 \n",
      "[CV]  max_depth=5, max_features=auto, min_samples_leaf=4, n_estimators=10, n_jobs=-1, total=   0.2s\n",
      "[CV] max_depth=5, max_features=auto, min_samples_leaf=4, n_estimators=10, n_jobs=-1 \n",
      "[CV]  max_depth=5, max_features=auto, min_samples_leaf=4, n_estimators=10, n_jobs=-1, total=   0.2s\n",
      "[CV] max_depth=5, max_features=auto, min_samples_leaf=4, n_estimators=100, n_jobs=None \n",
      "[CV]  max_depth=5, max_features=auto, min_samples_leaf=4, n_estimators=100, n_jobs=None, total=   0.3s\n",
      "[CV] max_depth=5, max_features=auto, min_samples_leaf=4, n_estimators=100, n_jobs=None \n",
      "[CV]  max_depth=5, max_features=auto, min_samples_leaf=4, n_estimators=100, n_jobs=None, total=   0.3s\n",
      "[CV] max_depth=5, max_features=auto, min_samples_leaf=4, n_estimators=100, n_jobs=None \n",
      "[CV]  max_depth=5, max_features=auto, min_samples_leaf=4, n_estimators=100, n_jobs=None, total=   0.3s\n",
      "[CV] max_depth=5, max_features=auto, min_samples_leaf=4, n_estimators=100, n_jobs=None \n",
      "[CV]  max_depth=5, max_features=auto, min_samples_leaf=4, n_estimators=100, n_jobs=None, total=   0.3s\n",
      "[CV] max_depth=5, max_features=auto, min_samples_leaf=4, n_estimators=100, n_jobs=None \n",
      "[CV]  max_depth=5, max_features=auto, min_samples_leaf=4, n_estimators=100, n_jobs=None, total=   0.3s\n",
      "[CV] max_depth=5, max_features=auto, min_samples_leaf=4, n_estimators=100, n_jobs=-1 \n",
      "[CV]  max_depth=5, max_features=auto, min_samples_leaf=4, n_estimators=100, n_jobs=-1, total=   0.5s\n",
      "[CV] max_depth=5, max_features=auto, min_samples_leaf=4, n_estimators=100, n_jobs=-1 \n",
      "[CV]  max_depth=5, max_features=auto, min_samples_leaf=4, n_estimators=100, n_jobs=-1, total=   0.5s\n",
      "[CV] max_depth=5, max_features=auto, min_samples_leaf=4, n_estimators=100, n_jobs=-1 \n",
      "[CV]  max_depth=5, max_features=auto, min_samples_leaf=4, n_estimators=100, n_jobs=-1, total=   0.7s\n",
      "[CV] max_depth=5, max_features=auto, min_samples_leaf=4, n_estimators=100, n_jobs=-1 \n",
      "[CV]  max_depth=5, max_features=auto, min_samples_leaf=4, n_estimators=100, n_jobs=-1, total=   0.5s\n",
      "[CV] max_depth=5, max_features=auto, min_samples_leaf=4, n_estimators=100, n_jobs=-1 \n",
      "[CV]  max_depth=5, max_features=auto, min_samples_leaf=4, n_estimators=100, n_jobs=-1, total=   0.5s\n",
      "[CV] max_depth=5, max_features=auto, min_samples_leaf=4, n_estimators=1000, n_jobs=None \n",
      "[CV]  max_depth=5, max_features=auto, min_samples_leaf=4, n_estimators=1000, n_jobs=None, total=   2.6s\n",
      "[CV] max_depth=5, max_features=auto, min_samples_leaf=4, n_estimators=1000, n_jobs=None \n",
      "[CV]  max_depth=5, max_features=auto, min_samples_leaf=4, n_estimators=1000, n_jobs=None, total=   2.7s\n",
      "[CV] max_depth=5, max_features=auto, min_samples_leaf=4, n_estimators=1000, n_jobs=None \n",
      "[CV]  max_depth=5, max_features=auto, min_samples_leaf=4, n_estimators=1000, n_jobs=None, total=   2.7s\n",
      "[CV] max_depth=5, max_features=auto, min_samples_leaf=4, n_estimators=1000, n_jobs=None \n",
      "[CV]  max_depth=5, max_features=auto, min_samples_leaf=4, n_estimators=1000, n_jobs=None, total=   2.5s\n",
      "[CV] max_depth=5, max_features=auto, min_samples_leaf=4, n_estimators=1000, n_jobs=None \n",
      "[CV]  max_depth=5, max_features=auto, min_samples_leaf=4, n_estimators=1000, n_jobs=None, total=   2.5s\n",
      "[CV] max_depth=5, max_features=auto, min_samples_leaf=4, n_estimators=1000, n_jobs=-1 \n",
      "[CV]  max_depth=5, max_features=auto, min_samples_leaf=4, n_estimators=1000, n_jobs=-1, total=   2.3s\n",
      "[CV] max_depth=5, max_features=auto, min_samples_leaf=4, n_estimators=1000, n_jobs=-1 \n",
      "[CV]  max_depth=5, max_features=auto, min_samples_leaf=4, n_estimators=1000, n_jobs=-1, total=   2.5s\n",
      "[CV] max_depth=5, max_features=auto, min_samples_leaf=4, n_estimators=1000, n_jobs=-1 \n"
     ]
    },
    {
     "name": "stdout",
     "output_type": "stream",
     "text": [
      "[CV]  max_depth=5, max_features=auto, min_samples_leaf=4, n_estimators=1000, n_jobs=-1, total=   2.7s\n",
      "[CV] max_depth=5, max_features=auto, min_samples_leaf=4, n_estimators=1000, n_jobs=-1 \n",
      "[CV]  max_depth=5, max_features=auto, min_samples_leaf=4, n_estimators=1000, n_jobs=-1, total=   2.7s\n",
      "[CV] max_depth=5, max_features=auto, min_samples_leaf=4, n_estimators=1000, n_jobs=-1 \n",
      "[CV]  max_depth=5, max_features=auto, min_samples_leaf=4, n_estimators=1000, n_jobs=-1, total=   2.5s\n",
      "[CV] max_depth=5, max_features=sqrt, min_samples_leaf=1, n_estimators=10, n_jobs=None \n",
      "[CV]  max_depth=5, max_features=sqrt, min_samples_leaf=1, n_estimators=10, n_jobs=None, total=   0.0s\n",
      "[CV] max_depth=5, max_features=sqrt, min_samples_leaf=1, n_estimators=10, n_jobs=None \n",
      "[CV]  max_depth=5, max_features=sqrt, min_samples_leaf=1, n_estimators=10, n_jobs=None, total=   0.0s\n",
      "[CV] max_depth=5, max_features=sqrt, min_samples_leaf=1, n_estimators=10, n_jobs=None \n",
      "[CV]  max_depth=5, max_features=sqrt, min_samples_leaf=1, n_estimators=10, n_jobs=None, total=   0.1s\n",
      "[CV] max_depth=5, max_features=sqrt, min_samples_leaf=1, n_estimators=10, n_jobs=None \n",
      "[CV]  max_depth=5, max_features=sqrt, min_samples_leaf=1, n_estimators=10, n_jobs=None, total=   0.0s\n",
      "[CV] max_depth=5, max_features=sqrt, min_samples_leaf=1, n_estimators=10, n_jobs=None \n",
      "[CV]  max_depth=5, max_features=sqrt, min_samples_leaf=1, n_estimators=10, n_jobs=None, total=   0.0s\n",
      "[CV] max_depth=5, max_features=sqrt, min_samples_leaf=1, n_estimators=10, n_jobs=-1 \n",
      "[CV]  max_depth=5, max_features=sqrt, min_samples_leaf=1, n_estimators=10, n_jobs=-1, total=   0.2s\n",
      "[CV] max_depth=5, max_features=sqrt, min_samples_leaf=1, n_estimators=10, n_jobs=-1 \n",
      "[CV]  max_depth=5, max_features=sqrt, min_samples_leaf=1, n_estimators=10, n_jobs=-1, total=   0.2s\n",
      "[CV] max_depth=5, max_features=sqrt, min_samples_leaf=1, n_estimators=10, n_jobs=-1 \n",
      "[CV]  max_depth=5, max_features=sqrt, min_samples_leaf=1, n_estimators=10, n_jobs=-1, total=   0.2s\n",
      "[CV] max_depth=5, max_features=sqrt, min_samples_leaf=1, n_estimators=10, n_jobs=-1 \n",
      "[CV]  max_depth=5, max_features=sqrt, min_samples_leaf=1, n_estimators=10, n_jobs=-1, total=   0.2s\n",
      "[CV] max_depth=5, max_features=sqrt, min_samples_leaf=1, n_estimators=10, n_jobs=-1 \n",
      "[CV]  max_depth=5, max_features=sqrt, min_samples_leaf=1, n_estimators=10, n_jobs=-1, total=   0.2s\n",
      "[CV] max_depth=5, max_features=sqrt, min_samples_leaf=1, n_estimators=100, n_jobs=None \n",
      "[CV]  max_depth=5, max_features=sqrt, min_samples_leaf=1, n_estimators=100, n_jobs=None, total=   0.3s\n",
      "[CV] max_depth=5, max_features=sqrt, min_samples_leaf=1, n_estimators=100, n_jobs=None \n",
      "[CV]  max_depth=5, max_features=sqrt, min_samples_leaf=1, n_estimators=100, n_jobs=None, total=   0.3s\n",
      "[CV] max_depth=5, max_features=sqrt, min_samples_leaf=1, n_estimators=100, n_jobs=None \n",
      "[CV]  max_depth=5, max_features=sqrt, min_samples_leaf=1, n_estimators=100, n_jobs=None, total=   0.3s\n",
      "[CV] max_depth=5, max_features=sqrt, min_samples_leaf=1, n_estimators=100, n_jobs=None \n",
      "[CV]  max_depth=5, max_features=sqrt, min_samples_leaf=1, n_estimators=100, n_jobs=None, total=   0.3s\n",
      "[CV] max_depth=5, max_features=sqrt, min_samples_leaf=1, n_estimators=100, n_jobs=None \n",
      "[CV]  max_depth=5, max_features=sqrt, min_samples_leaf=1, n_estimators=100, n_jobs=None, total=   0.3s\n",
      "[CV] max_depth=5, max_features=sqrt, min_samples_leaf=1, n_estimators=100, n_jobs=-1 \n",
      "[CV]  max_depth=5, max_features=sqrt, min_samples_leaf=1, n_estimators=100, n_jobs=-1, total=   0.5s\n",
      "[CV] max_depth=5, max_features=sqrt, min_samples_leaf=1, n_estimators=100, n_jobs=-1 \n",
      "[CV]  max_depth=5, max_features=sqrt, min_samples_leaf=1, n_estimators=100, n_jobs=-1, total=   0.5s\n",
      "[CV] max_depth=5, max_features=sqrt, min_samples_leaf=1, n_estimators=100, n_jobs=-1 \n",
      "[CV]  max_depth=5, max_features=sqrt, min_samples_leaf=1, n_estimators=100, n_jobs=-1, total=   0.5s\n",
      "[CV] max_depth=5, max_features=sqrt, min_samples_leaf=1, n_estimators=100, n_jobs=-1 \n",
      "[CV]  max_depth=5, max_features=sqrt, min_samples_leaf=1, n_estimators=100, n_jobs=-1, total=   0.5s\n",
      "[CV] max_depth=5, max_features=sqrt, min_samples_leaf=1, n_estimators=100, n_jobs=-1 \n",
      "[CV]  max_depth=5, max_features=sqrt, min_samples_leaf=1, n_estimators=100, n_jobs=-1, total=   0.5s\n",
      "[CV] max_depth=5, max_features=sqrt, min_samples_leaf=1, n_estimators=1000, n_jobs=None \n",
      "[CV]  max_depth=5, max_features=sqrt, min_samples_leaf=1, n_estimators=1000, n_jobs=None, total=   2.7s\n",
      "[CV] max_depth=5, max_features=sqrt, min_samples_leaf=1, n_estimators=1000, n_jobs=None \n",
      "[CV]  max_depth=5, max_features=sqrt, min_samples_leaf=1, n_estimators=1000, n_jobs=None, total=   2.5s\n",
      "[CV] max_depth=5, max_features=sqrt, min_samples_leaf=1, n_estimators=1000, n_jobs=None \n",
      "[CV]  max_depth=5, max_features=sqrt, min_samples_leaf=1, n_estimators=1000, n_jobs=None, total=   2.4s\n",
      "[CV] max_depth=5, max_features=sqrt, min_samples_leaf=1, n_estimators=1000, n_jobs=None \n",
      "[CV]  max_depth=5, max_features=sqrt, min_samples_leaf=1, n_estimators=1000, n_jobs=None, total=   2.5s\n",
      "[CV] max_depth=5, max_features=sqrt, min_samples_leaf=1, n_estimators=1000, n_jobs=None \n",
      "[CV]  max_depth=5, max_features=sqrt, min_samples_leaf=1, n_estimators=1000, n_jobs=None, total=   2.6s\n",
      "[CV] max_depth=5, max_features=sqrt, min_samples_leaf=1, n_estimators=1000, n_jobs=-1 \n",
      "[CV]  max_depth=5, max_features=sqrt, min_samples_leaf=1, n_estimators=1000, n_jobs=-1, total=   2.5s\n",
      "[CV] max_depth=5, max_features=sqrt, min_samples_leaf=1, n_estimators=1000, n_jobs=-1 \n",
      "[CV]  max_depth=5, max_features=sqrt, min_samples_leaf=1, n_estimators=1000, n_jobs=-1, total=   2.6s\n",
      "[CV] max_depth=5, max_features=sqrt, min_samples_leaf=1, n_estimators=1000, n_jobs=-1 \n",
      "[CV]  max_depth=5, max_features=sqrt, min_samples_leaf=1, n_estimators=1000, n_jobs=-1, total=   2.7s\n",
      "[CV] max_depth=5, max_features=sqrt, min_samples_leaf=1, n_estimators=1000, n_jobs=-1 \n",
      "[CV]  max_depth=5, max_features=sqrt, min_samples_leaf=1, n_estimators=1000, n_jobs=-1, total=   2.6s\n",
      "[CV] max_depth=5, max_features=sqrt, min_samples_leaf=1, n_estimators=1000, n_jobs=-1 \n",
      "[CV]  max_depth=5, max_features=sqrt, min_samples_leaf=1, n_estimators=1000, n_jobs=-1, total=   3.0s\n",
      "[CV] max_depth=5, max_features=sqrt, min_samples_leaf=2, n_estimators=10, n_jobs=None \n",
      "[CV]  max_depth=5, max_features=sqrt, min_samples_leaf=2, n_estimators=10, n_jobs=None, total=   0.1s\n",
      "[CV] max_depth=5, max_features=sqrt, min_samples_leaf=2, n_estimators=10, n_jobs=None \n",
      "[CV]  max_depth=5, max_features=sqrt, min_samples_leaf=2, n_estimators=10, n_jobs=None, total=   0.0s\n",
      "[CV] max_depth=5, max_features=sqrt, min_samples_leaf=2, n_estimators=10, n_jobs=None \n",
      "[CV]  max_depth=5, max_features=sqrt, min_samples_leaf=2, n_estimators=10, n_jobs=None, total=   0.0s\n",
      "[CV] max_depth=5, max_features=sqrt, min_samples_leaf=2, n_estimators=10, n_jobs=None \n",
      "[CV]  max_depth=5, max_features=sqrt, min_samples_leaf=2, n_estimators=10, n_jobs=None, total=   0.0s\n",
      "[CV] max_depth=5, max_features=sqrt, min_samples_leaf=2, n_estimators=10, n_jobs=None \n",
      "[CV]  max_depth=5, max_features=sqrt, min_samples_leaf=2, n_estimators=10, n_jobs=None, total=   0.0s\n",
      "[CV] max_depth=5, max_features=sqrt, min_samples_leaf=2, n_estimators=10, n_jobs=-1 \n",
      "[CV]  max_depth=5, max_features=sqrt, min_samples_leaf=2, n_estimators=10, n_jobs=-1, total=   0.2s\n",
      "[CV] max_depth=5, max_features=sqrt, min_samples_leaf=2, n_estimators=10, n_jobs=-1 \n",
      "[CV]  max_depth=5, max_features=sqrt, min_samples_leaf=2, n_estimators=10, n_jobs=-1, total=   0.2s\n",
      "[CV] max_depth=5, max_features=sqrt, min_samples_leaf=2, n_estimators=10, n_jobs=-1 \n",
      "[CV]  max_depth=5, max_features=sqrt, min_samples_leaf=2, n_estimators=10, n_jobs=-1, total=   0.2s\n",
      "[CV] max_depth=5, max_features=sqrt, min_samples_leaf=2, n_estimators=10, n_jobs=-1 \n",
      "[CV]  max_depth=5, max_features=sqrt, min_samples_leaf=2, n_estimators=10, n_jobs=-1, total=   0.2s\n",
      "[CV] max_depth=5, max_features=sqrt, min_samples_leaf=2, n_estimators=10, n_jobs=-1 \n",
      "[CV]  max_depth=5, max_features=sqrt, min_samples_leaf=2, n_estimators=10, n_jobs=-1, total=   0.2s\n",
      "[CV] max_depth=5, max_features=sqrt, min_samples_leaf=2, n_estimators=100, n_jobs=None \n",
      "[CV]  max_depth=5, max_features=sqrt, min_samples_leaf=2, n_estimators=100, n_jobs=None, total=   0.4s\n",
      "[CV] max_depth=5, max_features=sqrt, min_samples_leaf=2, n_estimators=100, n_jobs=None \n"
     ]
    },
    {
     "name": "stdout",
     "output_type": "stream",
     "text": [
      "[CV]  max_depth=5, max_features=sqrt, min_samples_leaf=2, n_estimators=100, n_jobs=None, total=   0.3s\n",
      "[CV] max_depth=5, max_features=sqrt, min_samples_leaf=2, n_estimators=100, n_jobs=None \n",
      "[CV]  max_depth=5, max_features=sqrt, min_samples_leaf=2, n_estimators=100, n_jobs=None, total=   0.3s\n",
      "[CV] max_depth=5, max_features=sqrt, min_samples_leaf=2, n_estimators=100, n_jobs=None \n",
      "[CV]  max_depth=5, max_features=sqrt, min_samples_leaf=2, n_estimators=100, n_jobs=None, total=   0.3s\n",
      "[CV] max_depth=5, max_features=sqrt, min_samples_leaf=2, n_estimators=100, n_jobs=None \n",
      "[CV]  max_depth=5, max_features=sqrt, min_samples_leaf=2, n_estimators=100, n_jobs=None, total=   0.3s\n",
      "[CV] max_depth=5, max_features=sqrt, min_samples_leaf=2, n_estimators=100, n_jobs=-1 \n",
      "[CV]  max_depth=5, max_features=sqrt, min_samples_leaf=2, n_estimators=100, n_jobs=-1, total=   0.5s\n",
      "[CV] max_depth=5, max_features=sqrt, min_samples_leaf=2, n_estimators=100, n_jobs=-1 \n",
      "[CV]  max_depth=5, max_features=sqrt, min_samples_leaf=2, n_estimators=100, n_jobs=-1, total=   0.6s\n",
      "[CV] max_depth=5, max_features=sqrt, min_samples_leaf=2, n_estimators=100, n_jobs=-1 \n",
      "[CV]  max_depth=5, max_features=sqrt, min_samples_leaf=2, n_estimators=100, n_jobs=-1, total=   0.7s\n",
      "[CV] max_depth=5, max_features=sqrt, min_samples_leaf=2, n_estimators=100, n_jobs=-1 \n",
      "[CV]  max_depth=5, max_features=sqrt, min_samples_leaf=2, n_estimators=100, n_jobs=-1, total=   0.8s\n",
      "[CV] max_depth=5, max_features=sqrt, min_samples_leaf=2, n_estimators=100, n_jobs=-1 \n",
      "[CV]  max_depth=5, max_features=sqrt, min_samples_leaf=2, n_estimators=100, n_jobs=-1, total=   0.5s\n",
      "[CV] max_depth=5, max_features=sqrt, min_samples_leaf=2, n_estimators=1000, n_jobs=None \n",
      "[CV]  max_depth=5, max_features=sqrt, min_samples_leaf=2, n_estimators=1000, n_jobs=None, total=   2.7s\n",
      "[CV] max_depth=5, max_features=sqrt, min_samples_leaf=2, n_estimators=1000, n_jobs=None \n",
      "[CV]  max_depth=5, max_features=sqrt, min_samples_leaf=2, n_estimators=1000, n_jobs=None, total=   2.5s\n",
      "[CV] max_depth=5, max_features=sqrt, min_samples_leaf=2, n_estimators=1000, n_jobs=None \n",
      "[CV]  max_depth=5, max_features=sqrt, min_samples_leaf=2, n_estimators=1000, n_jobs=None, total=   2.5s\n",
      "[CV] max_depth=5, max_features=sqrt, min_samples_leaf=2, n_estimators=1000, n_jobs=None \n",
      "[CV]  max_depth=5, max_features=sqrt, min_samples_leaf=2, n_estimators=1000, n_jobs=None, total=   2.6s\n",
      "[CV] max_depth=5, max_features=sqrt, min_samples_leaf=2, n_estimators=1000, n_jobs=None \n",
      "[CV]  max_depth=5, max_features=sqrt, min_samples_leaf=2, n_estimators=1000, n_jobs=None, total=   2.6s\n",
      "[CV] max_depth=5, max_features=sqrt, min_samples_leaf=2, n_estimators=1000, n_jobs=-1 \n",
      "[CV]  max_depth=5, max_features=sqrt, min_samples_leaf=2, n_estimators=1000, n_jobs=-1, total=   2.3s\n",
      "[CV] max_depth=5, max_features=sqrt, min_samples_leaf=2, n_estimators=1000, n_jobs=-1 \n",
      "[CV]  max_depth=5, max_features=sqrt, min_samples_leaf=2, n_estimators=1000, n_jobs=-1, total=   2.5s\n",
      "[CV] max_depth=5, max_features=sqrt, min_samples_leaf=2, n_estimators=1000, n_jobs=-1 \n",
      "[CV]  max_depth=5, max_features=sqrt, min_samples_leaf=2, n_estimators=1000, n_jobs=-1, total=   2.6s\n",
      "[CV] max_depth=5, max_features=sqrt, min_samples_leaf=2, n_estimators=1000, n_jobs=-1 \n",
      "[CV]  max_depth=5, max_features=sqrt, min_samples_leaf=2, n_estimators=1000, n_jobs=-1, total=   2.5s\n",
      "[CV] max_depth=5, max_features=sqrt, min_samples_leaf=2, n_estimators=1000, n_jobs=-1 \n",
      "[CV]  max_depth=5, max_features=sqrt, min_samples_leaf=2, n_estimators=1000, n_jobs=-1, total=   2.3s\n",
      "[CV] max_depth=5, max_features=sqrt, min_samples_leaf=4, n_estimators=10, n_jobs=None \n",
      "[CV]  max_depth=5, max_features=sqrt, min_samples_leaf=4, n_estimators=10, n_jobs=None, total=   0.0s\n",
      "[CV] max_depth=5, max_features=sqrt, min_samples_leaf=4, n_estimators=10, n_jobs=None \n",
      "[CV]  max_depth=5, max_features=sqrt, min_samples_leaf=4, n_estimators=10, n_jobs=None, total=   0.0s\n",
      "[CV] max_depth=5, max_features=sqrt, min_samples_leaf=4, n_estimators=10, n_jobs=None \n",
      "[CV]  max_depth=5, max_features=sqrt, min_samples_leaf=4, n_estimators=10, n_jobs=None, total=   0.0s\n",
      "[CV] max_depth=5, max_features=sqrt, min_samples_leaf=4, n_estimators=10, n_jobs=None \n",
      "[CV]  max_depth=5, max_features=sqrt, min_samples_leaf=4, n_estimators=10, n_jobs=None, total=   0.0s\n",
      "[CV] max_depth=5, max_features=sqrt, min_samples_leaf=4, n_estimators=10, n_jobs=None \n",
      "[CV]  max_depth=5, max_features=sqrt, min_samples_leaf=4, n_estimators=10, n_jobs=None, total=   0.0s\n",
      "[CV] max_depth=5, max_features=sqrt, min_samples_leaf=4, n_estimators=10, n_jobs=-1 \n",
      "[CV]  max_depth=5, max_features=sqrt, min_samples_leaf=4, n_estimators=10, n_jobs=-1, total=   0.2s\n",
      "[CV] max_depth=5, max_features=sqrt, min_samples_leaf=4, n_estimators=10, n_jobs=-1 \n",
      "[CV]  max_depth=5, max_features=sqrt, min_samples_leaf=4, n_estimators=10, n_jobs=-1, total=   0.2s\n",
      "[CV] max_depth=5, max_features=sqrt, min_samples_leaf=4, n_estimators=10, n_jobs=-1 \n",
      "[CV]  max_depth=5, max_features=sqrt, min_samples_leaf=4, n_estimators=10, n_jobs=-1, total=   0.2s\n",
      "[CV] max_depth=5, max_features=sqrt, min_samples_leaf=4, n_estimators=10, n_jobs=-1 \n",
      "[CV]  max_depth=5, max_features=sqrt, min_samples_leaf=4, n_estimators=10, n_jobs=-1, total=   0.2s\n",
      "[CV] max_depth=5, max_features=sqrt, min_samples_leaf=4, n_estimators=10, n_jobs=-1 \n",
      "[CV]  max_depth=5, max_features=sqrt, min_samples_leaf=4, n_estimators=10, n_jobs=-1, total=   0.2s\n",
      "[CV] max_depth=5, max_features=sqrt, min_samples_leaf=4, n_estimators=100, n_jobs=None \n",
      "[CV]  max_depth=5, max_features=sqrt, min_samples_leaf=4, n_estimators=100, n_jobs=None, total=   0.3s\n",
      "[CV] max_depth=5, max_features=sqrt, min_samples_leaf=4, n_estimators=100, n_jobs=None \n",
      "[CV]  max_depth=5, max_features=sqrt, min_samples_leaf=4, n_estimators=100, n_jobs=None, total=   0.3s\n",
      "[CV] max_depth=5, max_features=sqrt, min_samples_leaf=4, n_estimators=100, n_jobs=None \n",
      "[CV]  max_depth=5, max_features=sqrt, min_samples_leaf=4, n_estimators=100, n_jobs=None, total=   0.3s\n",
      "[CV] max_depth=5, max_features=sqrt, min_samples_leaf=4, n_estimators=100, n_jobs=None \n",
      "[CV]  max_depth=5, max_features=sqrt, min_samples_leaf=4, n_estimators=100, n_jobs=None, total=   0.3s\n",
      "[CV] max_depth=5, max_features=sqrt, min_samples_leaf=4, n_estimators=100, n_jobs=None \n",
      "[CV]  max_depth=5, max_features=sqrt, min_samples_leaf=4, n_estimators=100, n_jobs=None, total=   0.2s\n",
      "[CV] max_depth=5, max_features=sqrt, min_samples_leaf=4, n_estimators=100, n_jobs=-1 \n",
      "[CV]  max_depth=5, max_features=sqrt, min_samples_leaf=4, n_estimators=100, n_jobs=-1, total=   0.5s\n",
      "[CV] max_depth=5, max_features=sqrt, min_samples_leaf=4, n_estimators=100, n_jobs=-1 \n",
      "[CV]  max_depth=5, max_features=sqrt, min_samples_leaf=4, n_estimators=100, n_jobs=-1, total=   0.5s\n",
      "[CV] max_depth=5, max_features=sqrt, min_samples_leaf=4, n_estimators=100, n_jobs=-1 \n",
      "[CV]  max_depth=5, max_features=sqrt, min_samples_leaf=4, n_estimators=100, n_jobs=-1, total=   0.5s\n",
      "[CV] max_depth=5, max_features=sqrt, min_samples_leaf=4, n_estimators=100, n_jobs=-1 \n",
      "[CV]  max_depth=5, max_features=sqrt, min_samples_leaf=4, n_estimators=100, n_jobs=-1, total=   0.5s\n",
      "[CV] max_depth=5, max_features=sqrt, min_samples_leaf=4, n_estimators=100, n_jobs=-1 \n",
      "[CV]  max_depth=5, max_features=sqrt, min_samples_leaf=4, n_estimators=100, n_jobs=-1, total=   0.5s\n",
      "[CV] max_depth=5, max_features=sqrt, min_samples_leaf=4, n_estimators=1000, n_jobs=None \n",
      "[CV]  max_depth=5, max_features=sqrt, min_samples_leaf=4, n_estimators=1000, n_jobs=None, total=   2.7s\n",
      "[CV] max_depth=5, max_features=sqrt, min_samples_leaf=4, n_estimators=1000, n_jobs=None \n",
      "[CV]  max_depth=5, max_features=sqrt, min_samples_leaf=4, n_estimators=1000, n_jobs=None, total=   2.5s\n",
      "[CV] max_depth=5, max_features=sqrt, min_samples_leaf=4, n_estimators=1000, n_jobs=None \n",
      "[CV]  max_depth=5, max_features=sqrt, min_samples_leaf=4, n_estimators=1000, n_jobs=None, total=   2.5s\n",
      "[CV] max_depth=5, max_features=sqrt, min_samples_leaf=4, n_estimators=1000, n_jobs=None \n",
      "[CV]  max_depth=5, max_features=sqrt, min_samples_leaf=4, n_estimators=1000, n_jobs=None, total=   2.5s\n",
      "[CV] max_depth=5, max_features=sqrt, min_samples_leaf=4, n_estimators=1000, n_jobs=None \n",
      "[CV]  max_depth=5, max_features=sqrt, min_samples_leaf=4, n_estimators=1000, n_jobs=None, total=   2.5s\n",
      "[CV] max_depth=5, max_features=sqrt, min_samples_leaf=4, n_estimators=1000, n_jobs=-1 \n"
     ]
    },
    {
     "name": "stdout",
     "output_type": "stream",
     "text": [
      "[CV]  max_depth=5, max_features=sqrt, min_samples_leaf=4, n_estimators=1000, n_jobs=-1, total=   2.5s\n",
      "[CV] max_depth=5, max_features=sqrt, min_samples_leaf=4, n_estimators=1000, n_jobs=-1 \n",
      "[CV]  max_depth=5, max_features=sqrt, min_samples_leaf=4, n_estimators=1000, n_jobs=-1, total=   2.5s\n",
      "[CV] max_depth=5, max_features=sqrt, min_samples_leaf=4, n_estimators=1000, n_jobs=-1 \n",
      "[CV]  max_depth=5, max_features=sqrt, min_samples_leaf=4, n_estimators=1000, n_jobs=-1, total=   2.4s\n",
      "[CV] max_depth=5, max_features=sqrt, min_samples_leaf=4, n_estimators=1000, n_jobs=-1 \n",
      "[CV]  max_depth=5, max_features=sqrt, min_samples_leaf=4, n_estimators=1000, n_jobs=-1, total=   2.4s\n",
      "[CV] max_depth=5, max_features=sqrt, min_samples_leaf=4, n_estimators=1000, n_jobs=-1 \n",
      "[CV]  max_depth=5, max_features=sqrt, min_samples_leaf=4, n_estimators=1000, n_jobs=-1, total=   2.6s\n"
     ]
    },
    {
     "name": "stderr",
     "output_type": "stream",
     "text": [
      "[Parallel(n_jobs=1)]: Done 360 out of 360 | elapsed:  6.3min finished\n"
     ]
    },
    {
     "data": {
      "text/plain": [
       "GridSearchCV(cv=5, error_score=nan,\n",
       "             estimator=RandomForestRegressor(bootstrap=True, ccp_alpha=0.0,\n",
       "                                             criterion='mse', max_depth=None,\n",
       "                                             max_features='auto',\n",
       "                                             max_leaf_nodes=None,\n",
       "                                             max_samples=None,\n",
       "                                             min_impurity_decrease=0.0,\n",
       "                                             min_impurity_split=None,\n",
       "                                             min_samples_leaf=1,\n",
       "                                             min_samples_split=2,\n",
       "                                             min_weight_fraction_leaf=0.0,\n",
       "                                             n_estimators=100, n_jobs=None,\n",
       "                                             oob_score=False, random_state=None,\n",
       "                                             verbose=0, warm_start=False),\n",
       "             iid='deprecated', n_jobs=None,\n",
       "             param_grid={'max_depth': [None, 5],\n",
       "                         'max_features': ['auto', 'sqrt'],\n",
       "                         'min_samples_leaf': [1, 2, 4],\n",
       "                         'n_estimators': [10, 100, 1000],\n",
       "                         'n_jobs': [None, -1]},\n",
       "             pre_dispatch='2*n_jobs', refit=True, return_train_score=False,\n",
       "             scoring=None, verbose=2)"
      ]
     },
     "execution_count": 58,
     "metadata": {},
     "output_type": "execute_result"
    }
   ],
   "source": [
    "grid3 = {\n",
    "    \"n_estimators\": [10, 100, 1000],\n",
    "    \"min_samples_leaf\": [1, 2, 4],\n",
    "    \"n_jobs\": [None, -1],\n",
    "    \"max_features\": [\"auto\", \"sqrt\"],\n",
    "    \"max_depth\": [None, 5]\n",
    "}\n",
    "\n",
    "gs3_model = GridSearchCV(model, grid3, verbose=2, cv=5)\n",
    "gs3_model.fit(X_train, y_train)"
   ]
  },
  {
   "cell_type": "code",
   "execution_count": 59,
   "metadata": {},
   "outputs": [
    {
     "data": {
      "text/plain": [
       "0.9538373494080568"
      ]
     },
     "execution_count": 59,
     "metadata": {},
     "output_type": "execute_result"
    }
   ],
   "source": [
    "gs3_model.score(X_train, y_train)"
   ]
  },
  {
   "cell_type": "code",
   "execution_count": 60,
   "metadata": {},
   "outputs": [
    {
     "data": {
      "text/plain": [
       "0.712471271534492"
      ]
     },
     "execution_count": 60,
     "metadata": {},
     "output_type": "execute_result"
    }
   ],
   "source": [
    "gs3_model.score(X_test, y_test)"
   ]
  },
  {
   "cell_type": "markdown",
   "metadata": {},
   "source": [
    "Hitherto the gs_model has the best performance with:\n",
    "    r2_score = 0.8\n",
    "    mean_absolute_error = 8.8"
   ]
  },
  {
   "cell_type": "code",
   "execution_count": null,
   "metadata": {},
   "outputs": [],
   "source": []
  }
 ],
 "metadata": {
  "kernelspec": {
   "display_name": "Python 3",
   "language": "python",
   "name": "python3"
  },
  "language_info": {
   "codemirror_mode": {
    "name": "ipython",
    "version": 3
   },
   "file_extension": ".py",
   "mimetype": "text/x-python",
   "name": "python",
   "nbconvert_exporter": "python",
   "pygments_lexer": "ipython3",
   "version": "3.7.6"
  }
 },
 "nbformat": 4,
 "nbformat_minor": 4
}
